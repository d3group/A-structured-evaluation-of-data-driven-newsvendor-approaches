{
 "cells": [
  {
   "cell_type": "code",
   "execution_count": 1,
   "id": "3550874b",
   "metadata": {},
   "outputs": [
    {
     "name": "stderr",
     "output_type": "stream",
     "text": [
      "/home/sibu/.conda/envs/ddnv_env/lib/python3.7/site-packages/outdated/utils.py:18: OutdatedPackageWarning: The package pingouin is out of date. Your version is 0.5.0, the latest is 0.5.1.\n",
      "Set the environment variable OUTDATED_IGNORE=1 to disable these warnings.\n",
      "  **kwargs\n"
     ]
    }
   ],
   "source": [
    "import pandas as pd\n",
    "import seaborn as sns\n",
    "import re\n",
    "import matplotlib.pyplot as plt\n",
    "from matplotlib import cm\n",
    "from matplotlib.colors import ListedColormap, LinearSegmentedColormap\n",
    "import numpy as np\n",
    "import pingouin as pg\n",
    "import altair as alt"
   ]
  },
  {
   "cell_type": "code",
   "execution_count": 2,
   "id": "1442e72f-cd64-4a18-ae9f-e5269556da97",
   "metadata": {},
   "outputs": [],
   "source": [
    "dataset = [\"yaz\", \"bakery\",\"m5\", \"SID\"]\n",
    "\n",
    "best_results = pd.DataFrame()\n",
    "cv_results = pd.DataFrame()\n",
    "\n",
    "for d in dataset:\n",
    "    best_results_temp = pd.read_csv(\"Results/best_results_\"+d+\".csv.zip\")\n",
    "    cv_results_temp = pd.read_csv(\"Results/cv_results_\"+d+\".csv.zip\")\n",
    "    best_results = pd.concat([best_results, best_results_temp],ignore_index=True)\n",
    "    cv_results = pd.concat([cv_results, cv_results_temp],ignore_index=True)"
   ]
  },
  {
   "cell_type": "markdown",
   "id": "1d679636-4175-4500-8ef5-fbff1de1fef7",
   "metadata": {},
   "source": [
    "## Load Results"
   ]
  },
  {
   "cell_type": "markdown",
   "id": "0354232c",
   "metadata": {
    "tags": []
   },
   "source": [
    "## Best results"
   ]
  },
  {
   "cell_type": "markdown",
   "id": "02c50f38-3716-46e5-a248-53e00c0153b3",
   "metadata": {},
   "source": [
    "Note: In the Newsvendor case the Coefficient of Prescriptiveness is equal to the cost delta to SAA"
   ]
  },
  {
   "cell_type": "code",
   "execution_count": 3,
   "id": "b687f076-3c28-4788-84da-57178c0af298",
   "metadata": {},
   "outputs": [],
   "source": [
    "best_results['feature combi'] = best_results['feature combi'].map(lambda x: re.sub(r\"[]'[]\", \"\", x))\n",
    "best_results['feature combi'] = best_results['feature combi'].str.replace('_m5', '')\n",
    "best_results['feature combi'] = best_results['feature combi'].str.replace('_bakery', '')\n",
    "best_results['feature combi'] = best_results['feature combi'].str.replace('_yaz', '')"
   ]
  },
  {
   "cell_type": "code",
   "execution_count": 4,
   "id": "f1caec38-53a9-4810-9b7c-46394afeff1e",
   "metadata": {},
   "outputs": [],
   "source": [
    "# rename datasets\n",
    "best_results['dataset'] = best_results['dataset'].str.replace('yaz', 'Restaurant')\n",
    "best_results['dataset'] = best_results['dataset'].str.replace('bakery', 'Bakery')\n",
    "best_results['dataset'] = best_results['dataset'].str.replace('m5', 'M5')"
   ]
  },
  {
   "cell_type": "code",
   "execution_count": 5,
   "id": "7431dee1-4b7e-446b-a708-cc4a58601efa",
   "metadata": {},
   "outputs": [],
   "source": [
    "best_results.drop(columns=[\"cu\",\"co\"], inplace=True)"
   ]
  },
  {
   "cell_type": "code",
   "execution_count": 6,
   "id": "bd45ad05-9aff-4fb3-87da-30473dbe8a07",
   "metadata": {},
   "outputs": [],
   "source": [
    "# create column for rank\n",
    "best_results[\"rank\"] = best_results.groupby([\"sl\", \"group\", \"dataset\", \"feature combi\"])[\"coefficient of prescriptiveness\"].rank(\"min\", ascending=False)"
   ]
  },
  {
   "cell_type": "code",
   "execution_count": 7,
   "id": "dbad7d3d",
   "metadata": {},
   "outputs": [],
   "source": [
    "# base case results\n",
    "base_case = best_results[(best_results[\"sl\"]==0.90) & (best_results[\"feature combi\"]==\"calendar, lag\")]\n",
    "\n",
    "# select the best model per group\n",
    "best_model_per_group = best_results.loc[best_results.groupby([\"sl\", \"group\", \"dataset\", \"feature combi\"])['coefficient of prescriptiveness'].idxmax()]\n",
    "best_model_per_group['model'] = pd.Categorical(best_model_per_group['model'], [\"SAA\", \"KNNW\", \"DTW\", \"RFW\", \"KW\", \"LR\", \"DL\"])\n",
    "\n",
    "# select the best model per group from for base cas\n",
    "best_model_per_group_BC = best_model_per_group[(best_model_per_group[\"sl\"]==0.9) & (best_model_per_group[\"feature combi\"]==\"calendar, lag\")]\n"
   ]
  },
  {
   "cell_type": "markdown",
   "id": "08984e46-125f-43b5-8af0-4ba7924d8f61",
   "metadata": {},
   "source": [
    "## CV Results"
   ]
  },
  {
   "cell_type": "code",
   "execution_count": 8,
   "id": "abf47d25-0b7f-4782-8a79-53e0b8355a1f",
   "metadata": {},
   "outputs": [],
   "source": [
    "cv_results['feature combi'] = cv_results['feature combi'].map(lambda x: re.sub(r\"[]'[]\", \"\", x))\n",
    "cv_results['feature combi'] = cv_results['feature combi'].str.replace('_m5', '')\n",
    "cv_results['feature combi'] = cv_results['feature combi'].str.replace('_bakery', '')\n",
    "cv_results['feature combi'] = cv_results['feature combi'].str.replace('_yaz', '')"
   ]
  },
  {
   "cell_type": "code",
   "execution_count": 9,
   "id": "26eb443f-5744-40dc-b263-39053b16a346",
   "metadata": {},
   "outputs": [],
   "source": [
    "# rename datasets\n",
    "cv_results['dataset'] = cv_results['dataset'].str.replace('yaz', 'Restaurant')\n",
    "cv_results['dataset'] = cv_results['dataset'].str.replace('bakery', 'Bakery')\n",
    "cv_results['dataset'] = cv_results['dataset'].str.replace('m5', 'M5')"
   ]
  },
  {
   "cell_type": "code",
   "execution_count": 10,
   "id": "d407d287-4301-4e41-82f9-e17da2c0a0dd",
   "metadata": {},
   "outputs": [],
   "source": [
    "# select columns\n",
    "cv_results = cv_results[['mean_test_score', 'dataset', 'feature combi',\n",
    "       'group', 'model', 'sl', 'params']]"
   ]
  },
  {
   "cell_type": "code",
   "execution_count": 11,
   "id": "e79ba79c-4427-4824-89cc-5a890d4f9e28",
   "metadata": {},
   "outputs": [],
   "source": [
    "# select best models per parameter gird\n",
    "best_model_per_grid = cv_results.loc[cv_results.groupby([\"model\", \"group\", \"dataset\", \"feature combi\", \"sl\"])[\"mean_test_score\"].idxmax()]\n",
    "\n",
    "# create column for rank\n",
    "best_model_per_grid[\"rank\"] = best_model_per_grid.groupby([\"group\", \"dataset\", \"feature combi\", \"sl\"])[\"mean_test_score\"].rank(\"min\", ascending=False)\n",
    "\n",
    "# select the best model per group from CV results\n",
    "best_cv_model_per_group = best_model_per_grid.loc[best_model_per_grid.groupby([\"group\", \"dataset\", \"feature combi\", \"sl\"])['mean_test_score'].idxmax()]\n",
    "\n",
    "# select columns\n",
    "best_cv_model_per_group= best_cv_model_per_group.iloc[:,-10:]\n",
    "\n",
    "# select the best model per group from CV results for base case\n",
    "best_cv_model_per_group_bc = best_cv_model_per_group[(best_cv_model_per_group[\"feature combi\"]==\"calendar, lag\") & (best_cv_model_per_group[\"sl\"]==0.9)]\n",
    "\n",
    "# get performance of the best cv model on the test data\n",
    "performance_of_best_cv_model_on_test_data = best_results.merge(best_cv_model_per_group, on=[\"group\", \"dataset\", \"model\", \"sl\", \"feature combi\"])"
   ]
  },
  {
   "cell_type": "markdown",
   "id": "f2e09ec7",
   "metadata": {},
   "source": [
    "# Settings"
   ]
  },
  {
   "cell_type": "code",
   "execution_count": 12,
   "id": "5b47ec7e",
   "metadata": {},
   "outputs": [],
   "source": [
    "datasets = best_results[\"dataset\"].unique()"
   ]
  },
  {
   "cell_type": "code",
   "execution_count": 13,
   "id": "ed5762b8",
   "metadata": {},
   "outputs": [],
   "source": [
    "model_order = [\"SAA\", \"KNNW\", \"DTW\", \"RFW\", \"KW\", \"LR\", \"DL\"]\n",
    "cop_model_order = [\"KNNW\", \"DTW\", \"RFW\", \"KW\", \"LR\", \"DL\"]"
   ]
  },
  {
   "cell_type": "code",
   "execution_count": 14,
   "id": "66ed35b7",
   "metadata": {},
   "outputs": [],
   "source": [
    "# color palette for different models\n",
    "p = {\"SAA\": \"#C62828\", \"RFW\": \"#0D47A1\", \"DTW\": \"#4FC3F7\", \"KNNW\":\"#CE93D8\", \"KW\": \"#FDD835\", \"LR\": \"#4CAF50\", \"DL\": \"#CC9966\", \"model selection\": \"xkcd:orange\",\"Selection\": \"xkcd:orange\"}\n",
    "#p = {\"SAA\": sns.color_palette(\"Set2\",8)[0], \"RFW\": sns.color_palette(\"Set2\",8)[1], \"DTW\": sns.color_palette(\"Set2\",8)[2], \"KNNW\":sns.color_palette(\"Set2\",8)[3], \"GKW\": sns.color_palette(\"Set2\",8)[4], \"LR\": sns.color_palette(\"Set2\",8)[5], \"DL\": sns.color_palette(\"Set2\",8)[6], \"ES\": sns.color_palette(\"Set2\",8)[7]}\n",
    "\n",
    "# standard column for all plots\n",
    "c = \"#1f77b4\""
   ]
  },
  {
   "cell_type": "markdown",
   "id": "6be398a9",
   "metadata": {},
   "source": [
    "# Main plots"
   ]
  },
  {
   "cell_type": "markdown",
   "id": "134e7cdc",
   "metadata": {},
   "source": [
    "## Model comparison CoP for base case"
   ]
  },
  {
   "cell_type": "code",
   "execution_count": 62,
   "id": "6797dcb3-94af-4a19-9351-fdd187550eba",
   "metadata": {},
   "outputs": [
    {
     "name": "stderr",
     "output_type": "stream",
     "text": [
      "<ipython-input-62-c5d42a178504>:3: SettingWithCopyWarning: \n",
      "A value is trying to be set on a copy of a slice from a DataFrame\n",
      "\n",
      "See the caveats in the documentation: https://pandas.pydata.org/pandas-docs/stable/user_guide/indexing.html#returning-a-view-versus-a-copy\n",
      "  base_case.sort_values([\"dataset\"], inplace=True)\n"
     ]
    },
    {
     "data": {
      "image/png": "[encoded data removed]",
      "text/plain": [
       "<Figure size 1440x360 with 4 Axes>"
      ]
     },
     "metadata": {},
     "output_type": "display_data"
    }
   ],
   "source": [
    "sns.set_theme(style=\"white\", font_scale=1.4)\n",
    "\n",
    "base_case.sort_values([\"dataset\"], inplace=True)\n",
    "fig = sns.catplot(x=\"model\", y=\"coefficient of prescriptiveness\", data=base_case, kind=\"box\", palette=p, col=\"dataset\", order=cop_model_order)\n",
    "for i in range(datasets.shape[0]):\n",
    "    fig.axes[0][i].axhline(0, color=\"black\", linestyle='--')\n",
    "    \n",
    "for ax in fig.axes.flatten():\n",
    "    ax.set_ylabel(\"∆C\")\n",
    "    ax.set_xlabel(\"Model\")\n",
    "    \n",
    "    d = ax.get_title().lstrip('dataset = ')\n",
    "    ax.set_title(f\"Dataset = {d}\")"
   ]
  },
  {
   "cell_type": "code",
   "execution_count": 69,
   "id": "cfdd4807-27a8-4f6d-b45b-96faab26bdaa",
   "metadata": {},
   "outputs": [
    {
     "data": {
      "image/png": "[encoded data removed]",
      "text/plain": [
       "<Figure size 1152x288 with 4 Axes>"
      ]
     },
     "metadata": {},
     "output_type": "display_data"
    }
   ],
   "source": [
    "sns.set_theme(style=\"white\", font_scale=1.4)\n",
    "\n",
    "fig = sns.catplot(x=\"model\", y=\"coefficient of prescriptiveness\", data=base_case, kind=\"point\", palette=p, col=\"dataset\", order=cop_model_order, \n",
    "                  ci='sd', saturation=1, height=4, aspect=1)\n",
    "\n",
    "#for i in range(datasets.shape[0]):\n",
    "#    fig.axes[0][i].axhline(0, color=\"black\", linestyle='--')\n",
    "fig.set_xticklabels(rotation=30)\n",
    "\n",
    "for ax in fig.axes.flatten():\n",
    "    ax.set_ylabel(\"∆C\")\n",
    "    ax.set_xlabel(\"Model\")\n",
    "    d = ax.get_title().lstrip('dataset = ')\n",
    "    ax.set_title(f\"Dataset = {d}\")"
   ]
  },
  {
   "cell_type": "code",
   "execution_count": null,
   "id": "feb2940e",
   "metadata": {},
   "outputs": [],
   "source": [
    "fig.savefig(\"Plots/model comparison.png\") "
   ]
  },
  {
   "cell_type": "markdown",
   "id": "b79a81f3",
   "metadata": {},
   "source": [
    "## Rank plots"
   ]
  },
  {
   "cell_type": "markdown",
   "id": "6eadd747",
   "metadata": {},
   "source": [
    "### Rank one overall"
   ]
  },
  {
   "cell_type": "code",
   "execution_count": null,
   "id": "7feb3329",
   "metadata": {},
   "outputs": [],
   "source": [
    "df = best_model_per_group[\"model\"].value_counts(normalize=True).mul(100).rename('percent').reset_index()\n",
    "df[\"percent\"] = df[\"percent\"].round(1)\n",
    "df.rename(columns={'index': 'model'}, inplace=True)"
   ]
  },
  {
   "cell_type": "code",
   "execution_count": null,
   "id": "0e741744",
   "metadata": {},
   "outputs": [],
   "source": [
    "sns.set_theme(style=\"white\", font_scale=1.4)\n",
    "fig = sns.catplot(data=df.loc[df.model.isin(cop_model_order),:], x=\"model\",y='percent',kind='bar', color=c, order = cop_model_order)\n",
    "for ax in fig.axes[0]:\n",
    "    ax.set_ylabel(\"Percent\")\n",
    "    ax.set_xlabel(\"Model\")"
   ]
  },
  {
   "cell_type": "code",
   "execution_count": null,
   "id": "6e4bcba1",
   "metadata": {},
   "outputs": [],
   "source": [
    "fig.savefig(\"Plots/rank_one_overall.png\")"
   ]
  },
  {
   "cell_type": "markdown",
   "id": "a7af5ae5",
   "metadata": {},
   "source": [
    "### Rank one overall by dataset"
   ]
  },
  {
   "cell_type": "code",
   "execution_count": null,
   "id": "02917154",
   "metadata": {},
   "outputs": [],
   "source": [
    "df = best_model_per_group.groupby([\"dataset\"])[\"model\"].value_counts(normalize=True).mul(100).rename('percent').reset_index()\n",
    "df[\"percent\"] = df[\"percent\"].round(1)\n",
    "df.rename(columns={'level_1': 'model'}, inplace=True)\n",
    "\n",
    "# set theme\n",
    "sns.set_theme(style=\"white\", font_scale=1.4)\n",
    "\n",
    "fig = sns.catplot(data=df.loc[df.model.isin(cop_model_order),:], x=\"model\",y='percent',col=\"dataset\",kind='bar', color=c, order = cop_model_order)\n",
    "\n",
    "for ax in fig.axes[0]:\n",
    "    ax.set_ylabel(\"Percent\")\n",
    "    ax.set_xlabel(\"Model\")\n",
    "    d = ax.get_title().lstrip('dataset = ')\n",
    "    ax.set_title(f\"Dataset = {d}\")\n"
   ]
  },
  {
   "cell_type": "code",
   "execution_count": null,
   "id": "acc0c4dc",
   "metadata": {},
   "outputs": [],
   "source": [
    "fig.savefig(\"Plots/rank_one_overall_per_dataset.png\")"
   ]
  },
  {
   "cell_type": "markdown",
   "id": "193c485e",
   "metadata": {},
   "source": [
    "### Rank one for base case"
   ]
  },
  {
   "cell_type": "code",
   "execution_count": null,
   "id": "9b9fd8e6",
   "metadata": {},
   "outputs": [],
   "source": [
    "df = best_model_per_group_BC[\"model\"].value_counts(normalize=True).mul(100).rename('percent').reset_index()\n",
    "df[\"percent\"] = df[\"percent\"].round(1)\n",
    "df.rename(columns={'index': 'model'}, inplace=True)"
   ]
  },
  {
   "cell_type": "code",
   "execution_count": null,
   "id": "8b9d529a",
   "metadata": {},
   "outputs": [],
   "source": [
    "# set theme\n",
    "sns.set_theme(style=\"white\", font_scale=1.4)\n",
    "\n",
    "fig = sns.catplot(data=df.loc[df.model.isin(cop_model_order),:], x=\"model\",y='percent',kind='bar', color=c, order = cop_model_order)\n",
    "for ax in fig.axes[0]:\n",
    "    ax.set_ylabel(\"Percent\")\n",
    "    ax.set_xlabel(\"Model\")"
   ]
  },
  {
   "cell_type": "code",
   "execution_count": null,
   "id": "504319c4",
   "metadata": {},
   "outputs": [],
   "source": [
    "fig.savefig(\"Plots/rank_one_base_case.png\")"
   ]
  },
  {
   "cell_type": "markdown",
   "id": "37fcb797",
   "metadata": {},
   "source": [
    "### Rank one by datasets for base case"
   ]
  },
  {
   "cell_type": "code",
   "execution_count": 65,
   "id": "14c0c12b",
   "metadata": {},
   "outputs": [],
   "source": [
    "df = best_model_per_group_BC.groupby([\"dataset\"])[\"model\"].value_counts(normalize=True).mul(100).rename('percent').reset_index()\n",
    "df[\"percent\"] = df[\"percent\"].round(1)\n",
    "df.rename(columns={'level_1': 'model'}, inplace=True)"
   ]
  },
  {
   "cell_type": "code",
   "execution_count": 66,
   "id": "ce676ca7",
   "metadata": {},
   "outputs": [
    {
     "data": {
      "text/plain": [
       "<seaborn.axisgrid.FacetGrid at 0x7fb4f6bfdaf0>"
      ]
     },
     "execution_count": 66,
     "metadata": {},
     "output_type": "execute_result"
    },
    {
     "data": {
      "image/png": "[encoded data removed]",
      "text/plain": [
       "<Figure size 1440x360 with 4 Axes>"
      ]
     },
     "metadata": {},
     "output_type": "display_data"
    }
   ],
   "source": [
    "# set theme\n",
    "sns.set_theme(style=\"white\", font_scale=1.7)\n",
    "\n",
    "fig = sns.catplot(data=df.loc[df.model.isin(cop_model_order),:], x=\"model\",y='percent',col=\"dataset\",kind='bar', color=c, order = cop_model_order)\n",
    "\n",
    "for ax in fig.axes[0]:\n",
    "    ax.set_ylabel(\"Percent\")\n",
    "    ax.set_xlabel(\"Model\")\n",
    "    d = ax.get_title().lstrip('dataset = ')\n",
    "    ax.set_title(f\"Dataset = {d}\")\n",
    "    \n",
    "fig.set_xticklabels(rotation=30)"
   ]
  },
  {
   "cell_type": "code",
   "execution_count": null,
   "id": "5c7d90a6",
   "metadata": {},
   "outputs": [],
   "source": [
    "fig.savefig(\"Plots/rank_one_per_dataset_base_case.png\")"
   ]
  },
  {
   "cell_type": "code",
   "execution_count": 67,
   "id": "ee188e7d-2b55-45ea-a44f-1a96087cd5c8",
   "metadata": {},
   "outputs": [
    {
     "data": {
      "text/plain": [
       "Text(1.4, 88, '29.0')"
      ]
     },
     "execution_count": 67,
     "metadata": {},
     "output_type": "execute_result"
    },
    {
     "data": {
      "image/png": "[encoded data removed]",
      "text/plain": [
       "<Figure size 432x288 with 1 Axes>"
      ]
     },
     "metadata": {},
     "output_type": "display_data"
    }
   ],
   "source": [
    "# set theme\n",
    "sns.set_theme(style=\"white\", font_scale=1.0)\n",
    "\n",
    "fig = sns.histplot(x = 'dataset', hue = 'model', multiple = 'stack', data=df, shrink = 0.5, legend=False, weights='percent', palette=p, binwidth=0.1, alpha=1)\n",
    "fig.set_ylabel(\"Percent\")\n",
    "fig.set_xlabel(\"Dataset\")\n",
    "sns.despine()\n",
    "\n",
    "\n",
    "#plt.plot([x_links, x_rechts], [y_links, y_rechts], linewidth=1, color=\"black\")\n",
    "plt.plot([0.1, 0.35], [1, 7], linewidth=1, color=\"black\")\n",
    "fig.annotate(text = df[(df.dataset==\"Bakery\") & (df.model==\"DL\")][\"percent\"].values[0], xy=(0.4, 5))\n",
    "\n",
    "plt.plot([0.1, 0.35], [1+15, 7+15], linewidth=1, color=\"black\")\n",
    "fig.annotate(text = df[(df.dataset==\"Bakery\") & (df.model==\"LR\")][\"percent\"].values[0], xy=(0.4, 20))\n",
    "\n",
    "plt.plot([0.1, 0.35], [1+28, 7+28], linewidth=1, color=\"black\")\n",
    "fig.annotate(text = df[(df.dataset==\"Bakery\") & (df.model==\"KW\")][\"percent\"].values[0], xy=(0.4, 33))\n",
    "\n",
    "plt.plot([0.1, 0.35], [1+60, 7+60], linewidth=1, color=\"black\")\n",
    "fig.annotate(text = df[(df.dataset==\"Bakery\") & (df.model==\"RFW\")][\"percent\"].values[0], xy=(0.4, 65))\n",
    "\n",
    "plt.plot([0.1, 0.35], [1+97, 7+97], linewidth=1, color=\"black\")\n",
    "fig.annotate(text = df[(df.dataset==\"Bakery\") & (df.model==\"DTW\")][\"percent\"].values[0], xy=(0.4, 102))\n",
    "\n",
    "plt.plot([0.1+1, 0.35+1], [1+4, 7+4], linewidth=1, color=\"black\")\n",
    "fig.annotate(text = df[(df.dataset==\"M5\") & (df.model==\"DL\")][\"percent\"].values[0], xy=(0.4+1, 5+4))\n",
    "\n",
    "plt.plot([0.1+1, 0.35+1], [1+40, 7+40], linewidth=1, color=\"black\")\n",
    "fig.annotate(text = df[(df.dataset==\"M5\") & (df.model==\"LR\")][\"percent\"].values[0], xy=(0.4+1, 5+40))\n",
    "\n",
    "plt.plot([0.1+1, 0.35+1], [1+83, 7+83], linewidth=1, color=\"black\")\n",
    "fig.annotate(text = df[(df.dataset==\"M5\") & (df.model==\"RFW\")][\"percent\"].values[0], xy=(0.4+1, 5+83))\n",
    "\n",
    "#plt.legend(loc='center right')\n"
   ]
  },
  {
   "cell_type": "code",
   "execution_count": null,
   "id": "a1834894-4b68-442f-b3eb-2763dc7f3409",
   "metadata": {},
   "outputs": [],
   "source": [
    "fig.figure.savefig(\"Plots/rank_one_per_dataset_base_case_stacked.png\")"
   ]
  },
  {
   "cell_type": "markdown",
   "id": "a8098648-9bb4-49bc-ad7b-11e479a90769",
   "metadata": {},
   "source": [
    "### Rank one by datasets for base case and differen variations"
   ]
  },
  {
   "cell_type": "code",
   "execution_count": 143,
   "id": "8722cb55-ed0b-4860-85ab-635943d2ab56",
   "metadata": {
    "tags": []
   },
   "outputs": [
    {
     "name": "stderr",
     "output_type": "stream",
     "text": [
      "<ipython-input-143-aa3492c0779e>:2: SettingWithCopyWarning: \n",
      "A value is trying to be set on a copy of a slice from a DataFrame.\n",
      "Try using .loc[row_indexer,col_indexer] = value instead\n",
      "\n",
      "See the caveats in the documentation: https://pandas.pydata.org/pandas-docs/stable/user_guide/indexing.html#returning-a-view-versus-a-copy\n",
      "  df1[\"variation\"] = \"base case\"\n",
      "<ipython-input-143-aa3492c0779e>:4: SettingWithCopyWarning: \n",
      "A value is trying to be set on a copy of a slice from a DataFrame.\n",
      "Try using .loc[row_indexer,col_indexer] = value instead\n",
      "\n",
      "See the caveats in the documentation: https://pandas.pydata.org/pandas-docs/stable/user_guide/indexing.html#returning-a-view-versus-a-copy\n",
      "  df2[\"variation\"] = \"sl variation 1\"\n",
      "<ipython-input-143-aa3492c0779e>:6: SettingWithCopyWarning: \n",
      "A value is trying to be set on a copy of a slice from a DataFrame.\n",
      "Try using .loc[row_indexer,col_indexer] = value instead\n",
      "\n",
      "See the caveats in the documentation: https://pandas.pydata.org/pandas-docs/stable/user_guide/indexing.html#returning-a-view-versus-a-copy\n",
      "  df3[\"variation\"] = \"sl variation 2\"\n",
      "<ipython-input-143-aa3492c0779e>:8: SettingWithCopyWarning: \n",
      "A value is trying to be set on a copy of a slice from a DataFrame.\n",
      "Try using .loc[row_indexer,col_indexer] = value instead\n",
      "\n",
      "See the caveats in the documentation: https://pandas.pydata.org/pandas-docs/stable/user_guide/indexing.html#returning-a-view-versus-a-copy\n",
      "  df5[\"variation\"] = \"feature variation 1\"\n",
      "<ipython-input-143-aa3492c0779e>:10: SettingWithCopyWarning: \n",
      "A value is trying to be set on a copy of a slice from a DataFrame.\n",
      "Try using .loc[row_indexer,col_indexer] = value instead\n",
      "\n",
      "See the caveats in the documentation: https://pandas.pydata.org/pandas-docs/stable/user_guide/indexing.html#returning-a-view-versus-a-copy\n",
      "  df4[\"variation\"] = \"feature variation 2\"\n"
     ]
    }
   ],
   "source": [
    "df1 = best_model_per_group_BC\n",
    "df1[\"variation\"] = \"base case\"\n",
    "df2 = best_model_per_group[(best_model_per_group[\"sl\"]==0.75) & (best_model_per_group[\"feature combi\"]==\"calendar, lag\")]\n",
    "df2[\"variation\"] = \"sl variation 1\"\n",
    "df3 = best_model_per_group[(best_model_per_group[\"sl\"]==0.5) & (best_model_per_group[\"feature combi\"]==\"calendar, lag\")]\n",
    "df3[\"variation\"] = \"sl variation 2\"\n",
    "df5 = best_model_per_group[(best_model_per_group[\"feature combi\"]==\"calendar\") & (best_model_per_group[\"sl\"]==0.9)]\n",
    "df5[\"variation\"] = \"feature variation 1\"\n",
    "df4 = best_model_per_group[(best_model_per_group[\"feature combi\"]==\"calendar, lag, special\") & (best_model_per_group[\"sl\"]==0.9)]\n",
    "df4[\"variation\"] = \"feature variation 2\""
   ]
  },
  {
   "cell_type": "code",
   "execution_count": 146,
   "id": "693f694b-da74-4190-94cf-d0a800f145b8",
   "metadata": {},
   "outputs": [],
   "source": [
    "df = pd.concat([df1,df2,df3,df4,df5])\n",
    "\n",
    "df = df.groupby([\"dataset\", \"variation\"])[\"model\"].value_counts(normalize=True).mul(100).rename('percent').reset_index()\n",
    "df[\"percent\"] = df[\"percent\"].round(1)\n",
    "df.rename(columns={'level_2': 'model'}, inplace=True)"
   ]
  },
  {
   "cell_type": "code",
   "execution_count": 147,
   "id": "e747c186-8cab-4d3f-9612-39144fb8a8e8",
   "metadata": {},
   "outputs": [
    {
     "data": {
      "text/html": [
       "<div>\n",
       "<style scoped>\n",
       "    .dataframe tbody tr th:only-of-type {\n",
       "        vertical-align: middle;\n",
       "    }\n",
       "\n",
       "    .dataframe tbody tr th {\n",
       "        vertical-align: top;\n",
       "    }\n",
       "\n",
       "    .dataframe thead th {\n",
       "        text-align: right;\n",
       "    }\n",
       "</style>\n",
       "<table border=\"1\" class=\"dataframe\">\n",
       "  <thead>\n",
       "    <tr style=\"text-align: right;\">\n",
       "      <th></th>\n",
       "      <th>dataset</th>\n",
       "      <th>variation</th>\n",
       "      <th>model</th>\n",
       "      <th>percent</th>\n",
       "    </tr>\n",
       "  </thead>\n",
       "  <tbody>\n",
       "    <tr>\n",
       "      <th>0</th>\n",
       "      <td>Bakery</td>\n",
       "      <td>base case</td>\n",
       "      <td>RFW</td>\n",
       "      <td>67.0</td>\n",
       "    </tr>\n",
       "    <tr>\n",
       "      <th>1</th>\n",
       "      <td>Bakery</td>\n",
       "      <td>base case</td>\n",
       "      <td>LR</td>\n",
       "      <td>23.4</td>\n",
       "    </tr>\n",
       "    <tr>\n",
       "      <th>2</th>\n",
       "      <td>Bakery</td>\n",
       "      <td>base case</td>\n",
       "      <td>DL</td>\n",
       "      <td>5.3</td>\n",
       "    </tr>\n",
       "    <tr>\n",
       "      <th>3</th>\n",
       "      <td>Bakery</td>\n",
       "      <td>base case</td>\n",
       "      <td>DTW</td>\n",
       "      <td>3.2</td>\n",
       "    </tr>\n",
       "    <tr>\n",
       "      <th>4</th>\n",
       "      <td>Bakery</td>\n",
       "      <td>base case</td>\n",
       "      <td>KW</td>\n",
       "      <td>1.1</td>\n",
       "    </tr>\n",
       "    <tr>\n",
       "      <th>...</th>\n",
       "      <td>...</td>\n",
       "      <td>...</td>\n",
       "      <td>...</td>\n",
       "      <td>...</td>\n",
       "    </tr>\n",
       "    <tr>\n",
       "      <th>128</th>\n",
       "      <td>SID</td>\n",
       "      <td>sl variation 2</td>\n",
       "      <td>DL</td>\n",
       "      <td>4.6</td>\n",
       "    </tr>\n",
       "    <tr>\n",
       "      <th>129</th>\n",
       "      <td>SID</td>\n",
       "      <td>sl variation 2</td>\n",
       "      <td>SAA</td>\n",
       "      <td>0.0</td>\n",
       "    </tr>\n",
       "    <tr>\n",
       "      <th>130</th>\n",
       "      <td>SID</td>\n",
       "      <td>sl variation 2</td>\n",
       "      <td>KNNW</td>\n",
       "      <td>0.0</td>\n",
       "    </tr>\n",
       "    <tr>\n",
       "      <th>131</th>\n",
       "      <td>SID</td>\n",
       "      <td>sl variation 2</td>\n",
       "      <td>DTW</td>\n",
       "      <td>0.0</td>\n",
       "    </tr>\n",
       "    <tr>\n",
       "      <th>132</th>\n",
       "      <td>SID</td>\n",
       "      <td>sl variation 2</td>\n",
       "      <td>KW</td>\n",
       "      <td>0.0</td>\n",
       "    </tr>\n",
       "  </tbody>\n",
       "</table>\n",
       "<p>133 rows × 4 columns</p>\n",
       "</div>"
      ],
      "text/plain": [
       "    dataset       variation model  percent\n",
       "0    Bakery       base case   RFW     67.0\n",
       "1    Bakery       base case    LR     23.4\n",
       "2    Bakery       base case    DL      5.3\n",
       "3    Bakery       base case   DTW      3.2\n",
       "4    Bakery       base case    KW      1.1\n",
       "..      ...             ...   ...      ...\n",
       "128     SID  sl variation 2    DL      4.6\n",
       "129     SID  sl variation 2   SAA      0.0\n",
       "130     SID  sl variation 2  KNNW      0.0\n",
       "131     SID  sl variation 2   DTW      0.0\n",
       "132     SID  sl variation 2    KW      0.0\n",
       "\n",
       "[133 rows x 4 columns]"
      ]
     },
     "execution_count": 147,
     "metadata": {},
     "output_type": "execute_result"
    }
   ],
   "source": [
    "df"
   ]
  },
  {
   "cell_type": "code",
   "execution_count": 149,
   "id": "d6e75814-5af1-48a5-9628-40dca7d4be08",
   "metadata": {},
   "outputs": [
    {
     "name": "stderr",
     "output_type": "stream",
     "text": [
      "<ipython-input-149-7f9a9bc76b5a>:2: FutureWarning: In a future version of pandas all arguments of Series.sort_values will be keyword-only.\n",
      "  df = df.iloc[df['variation'].map(sort_dict).sort_values([\"dataset\"]).index]\n"
     ]
    },
    {
     "ename": "TypeError",
     "evalue": "unhashable type: 'list'",
     "output_type": "error",
     "traceback": [
      "\u001b[0;31m---------------------------------------------------------------------------\u001b[0m",
      "\u001b[0;31mTypeError\u001b[0m                                 Traceback (most recent call last)",
      "\u001b[0;32m<ipython-input-149-7f9a9bc76b5a>\u001b[0m in \u001b[0;36m<module>\u001b[0;34m\u001b[0m\n\u001b[1;32m      1\u001b[0m \u001b[0msort_dict\u001b[0m \u001b[0;34m=\u001b[0m \u001b[0;34m{\u001b[0m\u001b[0;34m'base case'\u001b[0m\u001b[0;34m:\u001b[0m\u001b[0;36m0\u001b[0m\u001b[0;34m,\u001b[0m\u001b[0;34m'sl variation 1'\u001b[0m\u001b[0;34m:\u001b[0m\u001b[0;36m1\u001b[0m\u001b[0;34m,\u001b[0m\u001b[0;34m'sl variation 2'\u001b[0m\u001b[0;34m:\u001b[0m\u001b[0;36m2\u001b[0m\u001b[0;34m,\u001b[0m \u001b[0;34m'feature variation 1'\u001b[0m\u001b[0;34m:\u001b[0m\u001b[0;36m3\u001b[0m\u001b[0;34m,\u001b[0m\u001b[0;34m'feature variation 2'\u001b[0m\u001b[0;34m:\u001b[0m\u001b[0;36m2\u001b[0m\u001b[0;34m}\u001b[0m\u001b[0;34m\u001b[0m\u001b[0;34m\u001b[0m\u001b[0m\n\u001b[0;32m----> 2\u001b[0;31m \u001b[0mdf\u001b[0m \u001b[0;34m=\u001b[0m \u001b[0mdf\u001b[0m\u001b[0;34m.\u001b[0m\u001b[0miloc\u001b[0m\u001b[0;34m[\u001b[0m\u001b[0mdf\u001b[0m\u001b[0;34m[\u001b[0m\u001b[0;34m'variation'\u001b[0m\u001b[0;34m]\u001b[0m\u001b[0;34m.\u001b[0m\u001b[0mmap\u001b[0m\u001b[0;34m(\u001b[0m\u001b[0msort_dict\u001b[0m\u001b[0;34m)\u001b[0m\u001b[0;34m.\u001b[0m\u001b[0msort_values\u001b[0m\u001b[0;34m(\u001b[0m\u001b[0;34m[\u001b[0m\u001b[0;34m\"dataset\"\u001b[0m\u001b[0;34m]\u001b[0m\u001b[0;34m)\u001b[0m\u001b[0;34m.\u001b[0m\u001b[0mindex\u001b[0m\u001b[0;34m]\u001b[0m\u001b[0;34m\u001b[0m\u001b[0;34m\u001b[0m\u001b[0m\n\u001b[0m",
      "\u001b[0;32m~/opt/anaconda3/envs/plotting/lib/python3.8/site-packages/pandas/util/_decorators.py\u001b[0m in \u001b[0;36mwrapper\u001b[0;34m(*args, **kwargs)\u001b[0m\n\u001b[1;32m    309\u001b[0m                     \u001b[0mstacklevel\u001b[0m\u001b[0;34m=\u001b[0m\u001b[0mstacklevel\u001b[0m\u001b[0;34m,\u001b[0m\u001b[0;34m\u001b[0m\u001b[0;34m\u001b[0m\u001b[0m\n\u001b[1;32m    310\u001b[0m                 )\n\u001b[0;32m--> 311\u001b[0;31m             \u001b[0;32mreturn\u001b[0m \u001b[0mfunc\u001b[0m\u001b[0;34m(\u001b[0m\u001b[0;34m*\u001b[0m\u001b[0margs\u001b[0m\u001b[0;34m,\u001b[0m \u001b[0;34m**\u001b[0m\u001b[0mkwargs\u001b[0m\u001b[0;34m)\u001b[0m\u001b[0;34m\u001b[0m\u001b[0;34m\u001b[0m\u001b[0m\n\u001b[0m\u001b[1;32m    312\u001b[0m \u001b[0;34m\u001b[0m\u001b[0m\n\u001b[1;32m    313\u001b[0m         \u001b[0;32mreturn\u001b[0m \u001b[0mwrapper\u001b[0m\u001b[0;34m\u001b[0m\u001b[0;34m\u001b[0m\u001b[0m\n",
      "\u001b[0;32m~/opt/anaconda3/envs/plotting/lib/python3.8/site-packages/pandas/core/series.py\u001b[0m in \u001b[0;36msort_values\u001b[0;34m(self, axis, ascending, inplace, kind, na_position, ignore_index, key)\u001b[0m\n\u001b[1;32m   3500\u001b[0m         \u001b[0minplace\u001b[0m \u001b[0;34m=\u001b[0m \u001b[0mvalidate_bool_kwarg\u001b[0m\u001b[0;34m(\u001b[0m\u001b[0minplace\u001b[0m\u001b[0;34m,\u001b[0m \u001b[0;34m\"inplace\"\u001b[0m\u001b[0;34m)\u001b[0m\u001b[0;34m\u001b[0m\u001b[0;34m\u001b[0m\u001b[0m\n\u001b[1;32m   3501\u001b[0m         \u001b[0;31m# Validate the axis parameter\u001b[0m\u001b[0;34m\u001b[0m\u001b[0;34m\u001b[0m\u001b[0;34m\u001b[0m\u001b[0m\n\u001b[0;32m-> 3502\u001b[0;31m         \u001b[0mself\u001b[0m\u001b[0;34m.\u001b[0m\u001b[0m_get_axis_number\u001b[0m\u001b[0;34m(\u001b[0m\u001b[0maxis\u001b[0m\u001b[0;34m)\u001b[0m\u001b[0;34m\u001b[0m\u001b[0;34m\u001b[0m\u001b[0m\n\u001b[0m\u001b[1;32m   3503\u001b[0m \u001b[0;34m\u001b[0m\u001b[0m\n\u001b[1;32m   3504\u001b[0m         \u001b[0;31m# GH 5856/5853\u001b[0m\u001b[0;34m\u001b[0m\u001b[0;34m\u001b[0m\u001b[0;34m\u001b[0m\u001b[0m\n",
      "\u001b[0;32m~/opt/anaconda3/envs/plotting/lib/python3.8/site-packages/pandas/core/generic.py\u001b[0m in \u001b[0;36m_get_axis_number\u001b[0;34m(cls, axis)\u001b[0m\n\u001b[1;32m    548\u001b[0m     \u001b[0;32mdef\u001b[0m \u001b[0m_get_axis_number\u001b[0m\u001b[0;34m(\u001b[0m\u001b[0mcls\u001b[0m\u001b[0;34m,\u001b[0m \u001b[0maxis\u001b[0m\u001b[0;34m:\u001b[0m \u001b[0mAxis\u001b[0m\u001b[0;34m)\u001b[0m \u001b[0;34m->\u001b[0m \u001b[0mint\u001b[0m\u001b[0;34m:\u001b[0m\u001b[0;34m\u001b[0m\u001b[0;34m\u001b[0m\u001b[0m\n\u001b[1;32m    549\u001b[0m         \u001b[0;32mtry\u001b[0m\u001b[0;34m:\u001b[0m\u001b[0;34m\u001b[0m\u001b[0;34m\u001b[0m\u001b[0m\n\u001b[0;32m--> 550\u001b[0;31m             \u001b[0;32mreturn\u001b[0m \u001b[0mcls\u001b[0m\u001b[0;34m.\u001b[0m\u001b[0m_AXIS_TO_AXIS_NUMBER\u001b[0m\u001b[0;34m[\u001b[0m\u001b[0maxis\u001b[0m\u001b[0;34m]\u001b[0m\u001b[0;34m\u001b[0m\u001b[0;34m\u001b[0m\u001b[0m\n\u001b[0m\u001b[1;32m    551\u001b[0m         \u001b[0;32mexcept\u001b[0m \u001b[0mKeyError\u001b[0m\u001b[0;34m:\u001b[0m\u001b[0;34m\u001b[0m\u001b[0;34m\u001b[0m\u001b[0m\n\u001b[1;32m    552\u001b[0m             \u001b[0;32mraise\u001b[0m \u001b[0mValueError\u001b[0m\u001b[0;34m(\u001b[0m\u001b[0;34mf\"No axis named {axis} for object type {cls.__name__}\"\u001b[0m\u001b[0;34m)\u001b[0m\u001b[0;34m\u001b[0m\u001b[0;34m\u001b[0m\u001b[0m\n",
      "\u001b[0;31mTypeError\u001b[0m: unhashable type: 'list'"
     ]
    }
   ],
   "source": [
    "sort_dict = {'base case':0,'sl variation 1':1,'sl variation 2':2, 'feature variation 1':3,'feature variation 2':2}\n",
    "df = df.iloc[df['variation'].map(sort_dict).sort_values().index]"
   ]
  },
  {
   "cell_type": "code",
   "execution_count": 135,
   "id": "95bcbc14-db96-41e7-946b-3cb9d618bcf4",
   "metadata": {},
   "outputs": [
    {
     "data": {
      "text/html": [
       "\n",
       "<div id=\"altair-viz-ba1d7e75c507424d8aead3ced1842e44\"></div>\n",
       "<script type=\"text/javascript\">\n",
       "  var VEGA_DEBUG = (typeof VEGA_DEBUG == \"undefined\") ? {} : VEGA_DEBUG;\n",
       "  (function(spec, embedOpt){\n",
       "    let outputDiv = document.currentScript.previousElementSibling;\n",
       "    if (outputDiv.id !== \"altair-viz-ba1d7e75c507424d8aead3ced1842e44\") {\n",
       "      outputDiv = document.getElementById(\"altair-viz-ba1d7e75c507424d8aead3ced1842e44\");\n",
       "    }\n",
       "    const paths = {\n",
       "      \"vega\": \"https://cdn.jsdelivr.net/npm//vega@5?noext\",\n",
       "      \"vega-lib\": \"https://cdn.jsdelivr.net/npm//vega-lib?noext\",\n",
       "      \"vega-lite\": \"https://cdn.jsdelivr.net/npm//vega-lite@4.17.0?noext\",\n",
       "      \"vega-embed\": \"https://cdn.jsdelivr.net/npm//vega-embed@6?noext\",\n",
       "    };\n",
       "\n",
       "    function maybeLoadScript(lib, version) {\n",
       "      var key = `${lib.replace(\"-\", \"\")}_version`;\n",
       "      return (VEGA_DEBUG[key] == version) ?\n",
       "        Promise.resolve(paths[lib]) :\n",
       "        new Promise(function(resolve, reject) {\n",
       "          var s = document.createElement('script');\n",
       "          document.getElementsByTagName(\"head\")[0].appendChild(s);\n",
       "          s.async = true;\n",
       "          s.onload = () => {\n",
       "            VEGA_DEBUG[key] = version;\n",
       "            return resolve(paths[lib]);\n",
       "          };\n",
       "          s.onerror = () => reject(`Error loading script: ${paths[lib]}`);\n",
       "          s.src = paths[lib];\n",
       "        });\n",
       "    }\n",
       "\n",
       "    function showError(err) {\n",
       "      outputDiv.innerHTML = `<div class=\"error\" style=\"color:red;\">${err}</div>`;\n",
       "      throw err;\n",
       "    }\n",
       "\n",
       "    function displayChart(vegaEmbed) {\n",
       "      vegaEmbed(outputDiv, spec, embedOpt)\n",
       "        .catch(err => showError(`Javascript Error: ${err.message}<br>This usually means there's a typo in your chart specification. See the javascript console for the full traceback.`));\n",
       "    }\n",
       "\n",
       "    if(typeof define === \"function\" && define.amd) {\n",
       "      requirejs.config({paths});\n",
       "      require([\"vega-embed\"], displayChart, err => showError(`Error loading script: ${err.message}`));\n",
       "    } else {\n",
       "      maybeLoadScript(\"vega\", \"5\")\n",
       "        .then(() => maybeLoadScript(\"vega-lite\", \"4.17.0\"))\n",
       "        .then(() => maybeLoadScript(\"vega-embed\", \"6\"))\n",
       "        .catch(showError)\n",
       "        .then(() => displayChart(vegaEmbed));\n",
       "    }\n",
       "  })({\"config\": {\"view\": {\"continuousWidth\": 400, \"continuousHeight\": 300, \"strokeOpacity\": 1}}, \"data\": {\"name\": \"data-972f6b0e83fa8d8aa68e9ea64a68f090\"}, \"mark\": \"bar\", \"encoding\": {\"color\": {\"field\": \"model\", \"scale\": {\"domain\": [\"RFW\", \"DTW\", \"KNNW\", \"KW\", \"LR\", \"DL\", \"SAA\"], \"range\": [\"#0D47A1\", \"#4FC3F7\", \"#CE93D8\", \"#FDD835\", \"#4CAF50\", \"#CC9966\", \"#C62828\"]}, \"type\": \"nominal\"}, \"column\": {\"field\": \"dataset\", \"title\": null, \"type\": \"nominal\"}, \"x\": {\"field\": \"variation\", \"title\": null, \"type\": \"nominal\"}, \"y\": {\"aggregate\": \"sum\", \"axis\": {\"grid\": false, \"title\": null}, \"field\": \"percent\", \"type\": \"quantitative\"}}, \"height\": 320, \"width\": 180, \"$schema\": \"https://vega.github.io/schema/vega-lite/v4.17.0.json\", \"datasets\": {\"data-972f6b0e83fa8d8aa68e9ea64a68f090\": [{\"dataset\": \"Bakery\", \"variation\": \"base case\", \"model\": \"SAA\", \"percent\": 0.0}, {\"dataset\": \"Bakery\", \"variation\": \"sl variation 1\", \"model\": \"SAA\", \"percent\": 0.0}, {\"dataset\": \"Bakery\", \"variation\": \"sl variation 2\", \"model\": \"SAA\", \"percent\": 0.0}, {\"dataset\": \"Bakery\", \"variation\": \"feature variation 2\", \"model\": \"SAA\", \"percent\": 0.0}, {\"dataset\": \"Bakery\", \"variation\": \"feature variation 1\", \"model\": \"SAA\", \"percent\": 2.1}, {\"dataset\": \"Bakery\", \"variation\": \"base case\", \"model\": \"KNNW\", \"percent\": 0.0}, {\"dataset\": \"Bakery\", \"variation\": \"sl variation 1\", \"model\": \"KNNW\", \"percent\": 1.1}, {\"dataset\": \"Bakery\", \"variation\": \"feature variation 2\", \"model\": \"KNNW\", \"percent\": 0.0}, {\"dataset\": \"Bakery\", \"variation\": \"sl variation 2\", \"model\": \"KNNW\", \"percent\": 2.1}, {\"dataset\": \"Bakery\", \"variation\": \"feature variation 1\", \"model\": \"KNNW\", \"percent\": 2.1}, {\"dataset\": \"Bakery\", \"variation\": \"base case\", \"model\": \"DTW\", \"percent\": 3.2}, {\"dataset\": \"Bakery\", \"variation\": \"sl variation 1\", \"model\": \"DTW\", \"percent\": 1.1}, {\"dataset\": \"Bakery\", \"variation\": \"sl variation 2\", \"model\": \"DTW\", \"percent\": 3.2}, {\"dataset\": \"Bakery\", \"variation\": \"feature variation 2\", \"model\": \"DTW\", \"percent\": 3.2}, {\"dataset\": \"Bakery\", \"variation\": \"feature variation 1\", \"model\": \"DTW\", \"percent\": 18.1}, {\"dataset\": \"Bakery\", \"variation\": \"base case\", \"model\": \"RFW\", \"percent\": 67.0}, {\"dataset\": \"Bakery\", \"variation\": \"sl variation 1\", \"model\": \"RFW\", \"percent\": 79.8}, {\"dataset\": \"Bakery\", \"variation\": \"sl variation 2\", \"model\": \"RFW\", \"percent\": 73.4}, {\"dataset\": \"Bakery\", \"variation\": \"feature variation 2\", \"model\": \"RFW\", \"percent\": 69.1}, {\"dataset\": \"Bakery\", \"variation\": \"feature variation 1\", \"model\": \"RFW\", \"percent\": 25.5}, {\"dataset\": \"Bakery\", \"variation\": \"base case\", \"model\": \"KW\", \"percent\": 1.1}, {\"dataset\": \"Bakery\", \"variation\": \"sl variation 1\", \"model\": \"KW\", \"percent\": 1.1}, {\"dataset\": \"Bakery\", \"variation\": \"sl variation 2\", \"model\": \"KW\", \"percent\": 3.2}, {\"dataset\": \"Bakery\", \"variation\": \"feature variation 2\", \"model\": \"KW\", \"percent\": 2.1}, {\"dataset\": \"Bakery\", \"variation\": \"feature variation 1\", \"model\": \"KW\", \"percent\": 4.3}, {\"dataset\": \"Bakery\", \"variation\": \"base case\", \"model\": \"LR\", \"percent\": 23.4}, {\"dataset\": \"Bakery\", \"variation\": \"sl variation 1\", \"model\": \"LR\", \"percent\": 12.8}, {\"dataset\": \"Bakery\", \"variation\": \"sl variation 2\", \"model\": \"LR\", \"percent\": 12.8}, {\"dataset\": \"Bakery\", \"variation\": \"feature variation 2\", \"model\": \"LR\", \"percent\": 16.0}, {\"dataset\": \"Bakery\", \"variation\": \"feature variation 1\", \"model\": \"LR\", \"percent\": 28.7}, {\"dataset\": \"Bakery\", \"variation\": \"base case\", \"model\": \"DL\", \"percent\": 5.3}, {\"dataset\": \"Bakery\", \"variation\": \"sl variation 1\", \"model\": \"DL\", \"percent\": 4.3}, {\"dataset\": \"Bakery\", \"variation\": \"sl variation 2\", \"model\": \"DL\", \"percent\": 5.3}, {\"dataset\": \"Bakery\", \"variation\": \"feature variation 2\", \"model\": \"DL\", \"percent\": 9.6}, {\"dataset\": \"Bakery\", \"variation\": \"feature variation 1\", \"model\": \"DL\", \"percent\": 19.1}, {\"dataset\": \"M5\", \"variation\": \"base case\", \"model\": \"SAA\", \"percent\": 0.0}, {\"dataset\": \"M5\", \"variation\": \"sl variation 1\", \"model\": \"SAA\", \"percent\": 0.0}, {\"dataset\": \"M5\", \"variation\": \"feature variation 2\", \"model\": \"SAA\", \"percent\": 0.0}, {\"dataset\": \"M5\", \"variation\": \"sl variation 2\", \"model\": \"SAA\", \"percent\": 0.0}, {\"dataset\": \"M5\", \"variation\": \"feature variation 1\", \"model\": \"SAA\", \"percent\": 10.0}, {\"dataset\": \"M5\", \"variation\": \"base case\", \"model\": \"KNNW\", \"percent\": 0.0}, {\"dataset\": \"M5\", \"variation\": \"sl variation 1\", \"model\": \"KNNW\", \"percent\": 0.0}, {\"dataset\": \"M5\", \"variation\": \"sl variation 2\", \"model\": \"KNNW\", \"percent\": 0.0}, {\"dataset\": \"M5\", \"variation\": \"feature variation 2\", \"model\": \"KNNW\", \"percent\": 0.0}, {\"dataset\": \"M5\", \"variation\": \"feature variation 1\", \"model\": \"KNNW\", \"percent\": 10.0}, {\"dataset\": \"M5\", \"variation\": \"base case\", \"model\": \"DTW\", \"percent\": 0.0}, {\"dataset\": \"M5\", \"variation\": \"sl variation 1\", \"model\": \"DTW\", \"percent\": 2.0}, {\"dataset\": \"M5\", \"variation\": \"sl variation 2\", \"model\": \"DTW\", \"percent\": 0.0}, {\"dataset\": \"M5\", \"variation\": \"feature variation 2\", \"model\": \"DTW\", \"percent\": 0.0}, {\"dataset\": \"M5\", \"variation\": \"feature variation 1\", \"model\": \"DTW\", \"percent\": 15.0}, {\"dataset\": \"M5\", \"variation\": \"base case\", \"model\": \"RFW\", \"percent\": 29.0}, {\"dataset\": \"M5\", \"variation\": \"sl variation 1\", \"model\": \"RFW\", \"percent\": 56.0}, {\"dataset\": \"M5\", \"variation\": \"feature variation 2\", \"model\": \"RFW\", \"percent\": 33.0}, {\"dataset\": \"M5\", \"variation\": \"sl variation 2\", \"model\": \"RFW\", \"percent\": 53.0}, {\"dataset\": \"M5\", \"variation\": \"feature variation 1\", \"model\": \"RFW\", \"percent\": 20.0}, {\"dataset\": \"M5\", \"variation\": \"base case\", \"model\": \"KW\", \"percent\": 0.0}, {\"dataset\": \"M5\", \"variation\": \"sl variation 1\", \"model\": \"KW\", \"percent\": 0.0}, {\"dataset\": \"M5\", \"variation\": \"sl variation 2\", \"model\": \"KW\", \"percent\": 1.0}, {\"dataset\": \"M5\", \"variation\": \"feature variation 2\", \"model\": \"KW\", \"percent\": 0.0}, {\"dataset\": \"M5\", \"variation\": \"feature variation 1\", \"model\": \"KW\", \"percent\": 14.0}, {\"dataset\": \"M5\", \"variation\": \"base case\", \"model\": \"LR\", \"percent\": 58.0}, {\"dataset\": \"M5\", \"variation\": \"sl variation 1\", \"model\": \"LR\", \"percent\": 31.0}, {\"dataset\": \"M5\", \"variation\": \"feature variation 2\", \"model\": \"LR\", \"percent\": 63.0}, {\"dataset\": \"M5\", \"variation\": \"sl variation 2\", \"model\": \"LR\", \"percent\": 42.0}, {\"dataset\": \"M5\", \"variation\": \"feature variation 1\", \"model\": \"LR\", \"percent\": 20.0}, {\"dataset\": \"M5\", \"variation\": \"base case\", \"model\": \"DL\", \"percent\": 13.0}, {\"dataset\": \"M5\", \"variation\": \"sl variation 1\", \"model\": \"DL\", \"percent\": 11.0}, {\"dataset\": \"M5\", \"variation\": \"feature variation 2\", \"model\": \"DL\", \"percent\": 4.0}, {\"dataset\": \"M5\", \"variation\": \"sl variation 2\", \"model\": \"DL\", \"percent\": 4.0}, {\"dataset\": \"M5\", \"variation\": \"feature variation 1\", \"model\": \"DL\", \"percent\": 11.0}, {\"dataset\": \"Restaurant\", \"variation\": \"base case\", \"model\": \"SAA\", \"percent\": 0.0}, {\"dataset\": \"Restaurant\", \"variation\": \"sl variation 1\", \"model\": \"SAA\", \"percent\": 0.0}, {\"dataset\": \"Restaurant\", \"variation\": \"sl variation 2\", \"model\": \"SAA\", \"percent\": 0.0}, {\"dataset\": \"Restaurant\", \"variation\": \"feature variation 2\", \"model\": \"SAA\", \"percent\": 0.0}, {\"dataset\": \"Restaurant\", \"variation\": \"feature variation 1\", \"model\": \"SAA\", \"percent\": 14.3}, {\"dataset\": \"Restaurant\", \"variation\": \"base case\", \"model\": \"KNNW\", \"percent\": 14.3}, {\"dataset\": \"Restaurant\", \"variation\": \"sl variation 1\", \"model\": \"KNNW\", \"percent\": 0.0}, {\"dataset\": \"Restaurant\", \"variation\": \"sl variation 2\", \"model\": \"KNNW\", \"percent\": 0.0}, {\"dataset\": \"Restaurant\", \"variation\": \"feature variation 2\", \"model\": \"KNNW\", \"percent\": 14.3}, {\"dataset\": \"Restaurant\", \"variation\": \"feature variation 1\", \"model\": \"KNNW\", \"percent\": 42.9}, {\"dataset\": \"Restaurant\", \"variation\": \"base case\", \"model\": \"DTW\", \"percent\": 0.0}, {\"dataset\": \"Restaurant\", \"variation\": \"sl variation 1\", \"model\": \"DTW\", \"percent\": 0.0}, {\"dataset\": \"Restaurant\", \"variation\": \"sl variation 2\", \"model\": \"DTW\", \"percent\": 14.3}, {\"dataset\": \"Restaurant\", \"variation\": \"feature variation 2\", \"model\": \"DTW\", \"percent\": 0.0}, {\"dataset\": \"Restaurant\", \"variation\": \"feature variation 1\", \"model\": \"DTW\", \"percent\": 14.3}, {\"dataset\": \"Restaurant\", \"variation\": \"base case\", \"model\": \"RFW\", \"percent\": 71.4}, {\"dataset\": \"Restaurant\", \"variation\": \"sl variation 1\", \"model\": \"RFW\", \"percent\": 100.0}, {\"dataset\": \"Restaurant\", \"variation\": \"sl variation 2\", \"model\": \"RFW\", \"percent\": 85.7}, {\"dataset\": \"Restaurant\", \"variation\": \"feature variation 2\", \"model\": \"RFW\", \"percent\": 85.7}, {\"dataset\": \"Restaurant\", \"variation\": \"feature variation 1\", \"model\": \"RFW\", \"percent\": 0.0}, {\"dataset\": \"Restaurant\", \"variation\": \"base case\", \"model\": \"KW\", \"percent\": 0.0}, {\"dataset\": \"Restaurant\", \"variation\": \"sl variation 1\", \"model\": \"KW\", \"percent\": 0.0}, {\"dataset\": \"Restaurant\", \"variation\": \"feature variation 2\", \"model\": \"KW\", \"percent\": 0.0}, {\"dataset\": \"Restaurant\", \"variation\": \"sl variation 2\", \"model\": \"KW\", \"percent\": 0.0}, {\"dataset\": \"Restaurant\", \"variation\": \"feature variation 1\", \"model\": \"KW\", \"percent\": 14.3}, {\"dataset\": \"Restaurant\", \"variation\": \"base case\", \"model\": \"LR\", \"percent\": 0.0}, {\"dataset\": \"Restaurant\", \"variation\": \"sl variation 1\", \"model\": \"LR\", \"percent\": 0.0}, {\"dataset\": \"Restaurant\", \"variation\": \"feature variation 2\", \"model\": \"LR\", \"percent\": 0.0}, {\"dataset\": \"Restaurant\", \"variation\": \"sl variation 2\", \"model\": \"LR\", \"percent\": 0.0}, {\"dataset\": \"Restaurant\", \"variation\": \"feature variation 1\", \"model\": \"LR\", \"percent\": 14.3}, {\"dataset\": \"Restaurant\", \"variation\": \"base case\", \"model\": \"DL\", \"percent\": 14.3}, {\"dataset\": \"Restaurant\", \"variation\": \"sl variation 1\", \"model\": \"DL\", \"percent\": 0.0}, {\"dataset\": \"Restaurant\", \"variation\": \"sl variation 2\", \"model\": \"DL\", \"percent\": 0.0}, {\"dataset\": \"Restaurant\", \"variation\": \"feature variation 2\", \"model\": \"DL\", \"percent\": 0.0}, {\"dataset\": \"Restaurant\", \"variation\": \"feature variation 1\", \"model\": \"DL\", \"percent\": 0.0}, {\"dataset\": \"SID\", \"variation\": \"base case\", \"model\": \"SAA\", \"percent\": 0.0}, {\"dataset\": \"SID\", \"variation\": \"sl variation 1\", \"model\": \"SAA\", \"percent\": 0.0}, {\"dataset\": \"SID\", \"variation\": \"sl variation 2\", \"model\": \"SAA\", \"percent\": 0.0}, {\"dataset\": \"SID\", \"variation\": \"feature variation 1\", \"model\": \"SAA\", \"percent\": 0.0}, {\"dataset\": \"SID\", \"variation\": \"base case\", \"model\": \"KNNW\", \"percent\": 0.0}, {\"dataset\": \"SID\", \"variation\": \"sl variation 1\", \"model\": \"KNNW\", \"percent\": 0.0}, {\"dataset\": \"SID\", \"variation\": \"sl variation 2\", \"model\": \"KNNW\", \"percent\": 0.0}, {\"dataset\": \"SID\", \"variation\": \"feature variation 1\", \"model\": \"KNNW\", \"percent\": 0.0}, {\"dataset\": \"SID\", \"variation\": \"base case\", \"model\": \"DTW\", \"percent\": 0.0}, {\"dataset\": \"SID\", \"variation\": \"sl variation 1\", \"model\": \"DTW\", \"percent\": 0.0}, {\"dataset\": \"SID\", \"variation\": \"sl variation 2\", \"model\": \"DTW\", \"percent\": 0.0}, {\"dataset\": \"SID\", \"variation\": \"feature variation 1\", \"model\": \"DTW\", \"percent\": 0.2}, {\"dataset\": \"SID\", \"variation\": \"base case\", \"model\": \"RFW\", \"percent\": 41.6}, {\"dataset\": \"SID\", \"variation\": \"sl variation 1\", \"model\": \"RFW\", \"percent\": 74.2}, {\"dataset\": \"SID\", \"variation\": \"sl variation 2\", \"model\": \"RFW\", \"percent\": 82.8}, {\"dataset\": \"SID\", \"variation\": \"feature variation 1\", \"model\": \"RFW\", \"percent\": 2.8}, {\"dataset\": \"SID\", \"variation\": \"base case\", \"model\": \"KW\", \"percent\": 0.0}, {\"dataset\": \"SID\", \"variation\": \"sl variation 1\", \"model\": \"KW\", \"percent\": 0.0}, {\"dataset\": \"SID\", \"variation\": \"sl variation 2\", \"model\": \"KW\", \"percent\": 0.0}, {\"dataset\": \"SID\", \"variation\": \"feature variation 1\", \"model\": \"KW\", \"percent\": 0.2}, {\"dataset\": \"SID\", \"variation\": \"base case\", \"model\": \"LR\", \"percent\": 44.8}, {\"dataset\": \"SID\", \"variation\": \"sl variation 1\", \"model\": \"LR\", \"percent\": 13.2}, {\"dataset\": \"SID\", \"variation\": \"sl variation 2\", \"model\": \"LR\", \"percent\": 12.6}, {\"dataset\": \"SID\", \"variation\": \"feature variation 1\", \"model\": \"LR\", \"percent\": 76.6}, {\"dataset\": \"SID\", \"variation\": \"base case\", \"model\": \"DL\", \"percent\": 13.6}, {\"dataset\": \"SID\", \"variation\": \"sl variation 1\", \"model\": \"DL\", \"percent\": 12.6}, {\"dataset\": \"SID\", \"variation\": \"sl variation 2\", \"model\": \"DL\", \"percent\": 4.6}, {\"dataset\": \"SID\", \"variation\": \"feature variation 1\", \"model\": \"DL\", \"percent\": 20.2}]}}, {\"mode\": \"vega-lite\"});\n",
       "</script>"
      ],
      "text/plain": [
       "alt.Chart(...)"
      ]
     },
     "execution_count": 135,
     "metadata": {},
     "output_type": "execute_result"
    }
   ],
   "source": [
    "alt.Chart(df).mark_bar().encode(\n",
    "\n",
    "    # tell Altair which field to group columns on\n",
    "    x=alt.X('variation:N', title=None),\n",
    "\n",
    "    # tell Altair which field to use as Y values and how to calculate\n",
    "    y=alt.Y('sum(percent):Q',\n",
    "        axis=alt.Axis(\n",
    "            grid=False,\n",
    "            title=None)),\n",
    "\n",
    "    # tell Altair which field to use to use as the set of columns to be  represented in each group\n",
    "    column=alt.Column('dataset:N', title=None),\n",
    "\n",
    "    # tell Altair which field to use for color segmentation \n",
    "    color=alt.Color('model:N',\n",
    "            scale=alt.Scale(\n",
    "                # make it look pretty with an enjoyable color pallet\n",
    "                domain=[\"RFW\", \"DTW\", \"KNNW\", \"KW\", \"LR\", \"DL\", \"SAA\"],\n",
    "                range=[\"#0D47A1\", \"#4FC3F7\", \"#CE93D8\", \"#FDD835\", \"#4CAF50\", \"#CC9966\", \"#C62828\"],\n",
    "            ),\n",
    "        )).properties(width=9*20, height=16*20)\\\n",
    "    .configure_view(\n",
    "        # remove grid lines around column clusters\n",
    "        strokeOpacity=1\n",
    "    )"
   ]
  },
  {
   "cell_type": "code",
   "execution_count": 112,
   "id": "a226554e-143f-412e-a919-cfcd72bd732c",
   "metadata": {},
   "outputs": [
    {
     "data": {
      "text/html": [
       "<div>\n",
       "<style scoped>\n",
       "    .dataframe tbody tr th:only-of-type {\n",
       "        vertical-align: middle;\n",
       "    }\n",
       "\n",
       "    .dataframe tbody tr th {\n",
       "        vertical-align: top;\n",
       "    }\n",
       "\n",
       "    .dataframe thead th {\n",
       "        text-align: right;\n",
       "    }\n",
       "</style>\n",
       "<table border=\"1\" class=\"dataframe\">\n",
       "  <thead>\n",
       "    <tr style=\"text-align: right;\">\n",
       "      <th></th>\n",
       "      <th>dataset</th>\n",
       "      <th>variation</th>\n",
       "      <th>model</th>\n",
       "      <th>percent</th>\n",
       "    </tr>\n",
       "  </thead>\n",
       "  <tbody>\n",
       "    <tr>\n",
       "      <th>0</th>\n",
       "      <td>Bakery</td>\n",
       "      <td>base case</td>\n",
       "      <td>RFW</td>\n",
       "      <td>67.0</td>\n",
       "    </tr>\n",
       "    <tr>\n",
       "      <th>37</th>\n",
       "      <td>M5</td>\n",
       "      <td>base case</td>\n",
       "      <td>DL</td>\n",
       "      <td>13.0</td>\n",
       "    </tr>\n",
       "    <tr>\n",
       "      <th>38</th>\n",
       "      <td>M5</td>\n",
       "      <td>base case</td>\n",
       "      <td>SAA</td>\n",
       "      <td>0.0</td>\n",
       "    </tr>\n",
       "    <tr>\n",
       "      <th>39</th>\n",
       "      <td>M5</td>\n",
       "      <td>base case</td>\n",
       "      <td>KNNW</td>\n",
       "      <td>0.0</td>\n",
       "    </tr>\n",
       "    <tr>\n",
       "      <th>40</th>\n",
       "      <td>M5</td>\n",
       "      <td>base case</td>\n",
       "      <td>DTW</td>\n",
       "      <td>0.0</td>\n",
       "    </tr>\n",
       "    <tr>\n",
       "      <th>...</th>\n",
       "      <td>...</td>\n",
       "      <td>...</td>\n",
       "      <td>...</td>\n",
       "      <td>...</td>\n",
       "    </tr>\n",
       "    <tr>\n",
       "      <th>100</th>\n",
       "      <td>Restaurant</td>\n",
       "      <td>sl variation 2</td>\n",
       "      <td>SAA</td>\n",
       "      <td>0.0</td>\n",
       "    </tr>\n",
       "    <tr>\n",
       "      <th>101</th>\n",
       "      <td>Restaurant</td>\n",
       "      <td>sl variation 2</td>\n",
       "      <td>KNNW</td>\n",
       "      <td>0.0</td>\n",
       "    </tr>\n",
       "    <tr>\n",
       "      <th>102</th>\n",
       "      <td>Restaurant</td>\n",
       "      <td>sl variation 2</td>\n",
       "      <td>KW</td>\n",
       "      <td>0.0</td>\n",
       "    </tr>\n",
       "    <tr>\n",
       "      <th>104</th>\n",
       "      <td>Restaurant</td>\n",
       "      <td>sl variation 2</td>\n",
       "      <td>DL</td>\n",
       "      <td>0.0</td>\n",
       "    </tr>\n",
       "    <tr>\n",
       "      <th>132</th>\n",
       "      <td>SID</td>\n",
       "      <td>sl variation 2</td>\n",
       "      <td>KW</td>\n",
       "      <td>0.0</td>\n",
       "    </tr>\n",
       "  </tbody>\n",
       "</table>\n",
       "<p>133 rows × 4 columns</p>\n",
       "</div>"
      ],
      "text/plain": [
       "        dataset       variation model  percent\n",
       "0        Bakery       base case   RFW     67.0\n",
       "37           M5       base case    DL     13.0\n",
       "38           M5       base case   SAA      0.0\n",
       "39           M5       base case  KNNW      0.0\n",
       "40           M5       base case   DTW      0.0\n",
       "..          ...             ...   ...      ...\n",
       "100  Restaurant  sl variation 2   SAA      0.0\n",
       "101  Restaurant  sl variation 2  KNNW      0.0\n",
       "102  Restaurant  sl variation 2    KW      0.0\n",
       "104  Restaurant  sl variation 2    DL      0.0\n",
       "132         SID  sl variation 2    KW      0.0\n",
       "\n",
       "[133 rows x 4 columns]"
      ]
     },
     "execution_count": 112,
     "metadata": {},
     "output_type": "execute_result"
    }
   ],
   "source": [
    "df.sort_values(\"variation\")"
   ]
  },
  {
   "cell_type": "code",
   "execution_count": 91,
   "id": "e6b4037f-6f08-4b25-bcb7-464028b3cce6",
   "metadata": {},
   "outputs": [
    {
     "ename": "ValueError",
     "evalue": "Saving charts in 'png' format requires the altair_saver package: see http://github.com/altair-viz/altair_saver/",
     "output_type": "error",
     "traceback": [
      "\u001b[0;31m---------------------------------------------------------------------------\u001b[0m",
      "\u001b[0;31mModuleNotFoundError\u001b[0m                       Traceback (most recent call last)",
      "\u001b[0;32m~/opt/anaconda3/envs/plotting/lib/python3.8/site-packages/altair/utils/mimebundle.py\u001b[0m in \u001b[0;36mspec_to_mimebundle\u001b[0;34m(spec, format, mode, vega_version, vegaembed_version, vegalite_version, **kwargs)\u001b[0m\n\u001b[1;32m     53\u001b[0m         \u001b[0;32mtry\u001b[0m\u001b[0;34m:\u001b[0m\u001b[0;34m\u001b[0m\u001b[0;34m\u001b[0m\u001b[0m\n\u001b[0;32m---> 54\u001b[0;31m             \u001b[0;32mimport\u001b[0m \u001b[0maltair_saver\u001b[0m\u001b[0;34m\u001b[0m\u001b[0;34m\u001b[0m\u001b[0m\n\u001b[0m\u001b[1;32m     55\u001b[0m         \u001b[0;32mexcept\u001b[0m \u001b[0mImportError\u001b[0m\u001b[0;34m:\u001b[0m\u001b[0;34m\u001b[0m\u001b[0;34m\u001b[0m\u001b[0m\n",
      "\u001b[0;31mModuleNotFoundError\u001b[0m: No module named 'altair_saver'",
      "\nDuring handling of the above exception, another exception occurred:\n",
      "\u001b[0;31mValueError\u001b[0m                                Traceback (most recent call last)",
      "\u001b[0;32m<ipython-input-91-c4bc756b9546>\u001b[0m in \u001b[0;36m<module>\u001b[0;34m\u001b[0m\n\u001b[0;32m----> 1\u001b[0;31m \u001b[0mfig\u001b[0m\u001b[0;34m.\u001b[0m\u001b[0msave\u001b[0m\u001b[0;34m(\u001b[0m\u001b[0;34m'Plots/breakdown_best_model.png'\u001b[0m\u001b[0;34m)\u001b[0m\u001b[0;34m\u001b[0m\u001b[0;34m\u001b[0m\u001b[0m\n\u001b[0m",
      "\u001b[0;32m~/opt/anaconda3/envs/plotting/lib/python3.8/site-packages/altair/vegalite/v4/api.py\u001b[0m in \u001b[0;36msave\u001b[0;34m(self, fp, format, override_data_transformer, scale_factor, vegalite_version, vega_version, vegaembed_version, **kwargs)\u001b[0m\n\u001b[1;32m    486\u001b[0m         \u001b[0;32mif\u001b[0m \u001b[0moverride_data_transformer\u001b[0m\u001b[0;34m:\u001b[0m\u001b[0;34m\u001b[0m\u001b[0;34m\u001b[0m\u001b[0m\n\u001b[1;32m    487\u001b[0m             \u001b[0;32mwith\u001b[0m \u001b[0mdata_transformers\u001b[0m\u001b[0;34m.\u001b[0m\u001b[0mdisable_max_rows\u001b[0m\u001b[0;34m(\u001b[0m\u001b[0;34m)\u001b[0m\u001b[0;34m:\u001b[0m\u001b[0;34m\u001b[0m\u001b[0;34m\u001b[0m\u001b[0m\n\u001b[0;32m--> 488\u001b[0;31m                 \u001b[0mresult\u001b[0m \u001b[0;34m=\u001b[0m \u001b[0msave\u001b[0m\u001b[0;34m(\u001b[0m\u001b[0;34m**\u001b[0m\u001b[0mkwds\u001b[0m\u001b[0;34m)\u001b[0m\u001b[0;34m\u001b[0m\u001b[0;34m\u001b[0m\u001b[0m\n\u001b[0m\u001b[1;32m    489\u001b[0m         \u001b[0;32melse\u001b[0m\u001b[0;34m:\u001b[0m\u001b[0;34m\u001b[0m\u001b[0;34m\u001b[0m\u001b[0m\n\u001b[1;32m    490\u001b[0m             \u001b[0mresult\u001b[0m \u001b[0;34m=\u001b[0m \u001b[0msave\u001b[0m\u001b[0;34m(\u001b[0m\u001b[0;34m**\u001b[0m\u001b[0mkwds\u001b[0m\u001b[0;34m)\u001b[0m\u001b[0;34m\u001b[0m\u001b[0;34m\u001b[0m\u001b[0m\n",
      "\u001b[0;32m~/opt/anaconda3/envs/plotting/lib/python3.8/site-packages/altair/utils/save.py\u001b[0m in \u001b[0;36msave\u001b[0;34m(chart, fp, vega_version, vegaembed_version, format, mode, vegalite_version, embed_options, json_kwds, webdriver, scale_factor, **kwargs)\u001b[0m\n\u001b[1;32m    114\u001b[0m         \u001b[0mwrite_file_or_filename\u001b[0m\u001b[0;34m(\u001b[0m\u001b[0mfp\u001b[0m\u001b[0;34m,\u001b[0m \u001b[0mmimebundle\u001b[0m\u001b[0;34m[\u001b[0m\u001b[0;34m\"text/html\"\u001b[0m\u001b[0;34m]\u001b[0m\u001b[0;34m,\u001b[0m \u001b[0mmode\u001b[0m\u001b[0;34m=\u001b[0m\u001b[0;34m\"w\"\u001b[0m\u001b[0;34m)\u001b[0m\u001b[0;34m\u001b[0m\u001b[0;34m\u001b[0m\u001b[0m\n\u001b[1;32m    115\u001b[0m     \u001b[0;32melif\u001b[0m \u001b[0mformat\u001b[0m \u001b[0;32min\u001b[0m \u001b[0;34m[\u001b[0m\u001b[0;34m\"png\"\u001b[0m\u001b[0;34m,\u001b[0m \u001b[0;34m\"svg\"\u001b[0m\u001b[0;34m,\u001b[0m \u001b[0;34m\"pdf\"\u001b[0m\u001b[0;34m]\u001b[0m\u001b[0;34m:\u001b[0m\u001b[0;34m\u001b[0m\u001b[0;34m\u001b[0m\u001b[0m\n\u001b[0;32m--> 116\u001b[0;31m         mimebundle = spec_to_mimebundle(\n\u001b[0m\u001b[1;32m    117\u001b[0m             \u001b[0mspec\u001b[0m\u001b[0;34m=\u001b[0m\u001b[0mspec\u001b[0m\u001b[0;34m,\u001b[0m\u001b[0;34m\u001b[0m\u001b[0;34m\u001b[0m\u001b[0m\n\u001b[1;32m    118\u001b[0m             \u001b[0mformat\u001b[0m\u001b[0;34m=\u001b[0m\u001b[0mformat\u001b[0m\u001b[0;34m,\u001b[0m\u001b[0;34m\u001b[0m\u001b[0;34m\u001b[0m\u001b[0m\n",
      "\u001b[0;32m~/opt/anaconda3/envs/plotting/lib/python3.8/site-packages/altair/utils/mimebundle.py\u001b[0m in \u001b[0;36mspec_to_mimebundle\u001b[0;34m(spec, format, mode, vega_version, vegaembed_version, vegalite_version, **kwargs)\u001b[0m\n\u001b[1;32m     54\u001b[0m             \u001b[0;32mimport\u001b[0m \u001b[0maltair_saver\u001b[0m\u001b[0;34m\u001b[0m\u001b[0;34m\u001b[0m\u001b[0m\n\u001b[1;32m     55\u001b[0m         \u001b[0;32mexcept\u001b[0m \u001b[0mImportError\u001b[0m\u001b[0;34m:\u001b[0m\u001b[0;34m\u001b[0m\u001b[0;34m\u001b[0m\u001b[0m\n\u001b[0;32m---> 56\u001b[0;31m             raise ValueError(\n\u001b[0m\u001b[1;32m     57\u001b[0m                 \u001b[0;34m\"Saving charts in {fmt!r} format requires the altair_saver package: \"\u001b[0m\u001b[0;34m\u001b[0m\u001b[0;34m\u001b[0m\u001b[0m\n\u001b[1;32m     58\u001b[0m                 \u001b[0;34m\"see http://github.com/altair-viz/altair_saver/\"\u001b[0m\u001b[0;34m.\u001b[0m\u001b[0mformat\u001b[0m\u001b[0;34m(\u001b[0m\u001b[0mfmt\u001b[0m\u001b[0;34m=\u001b[0m\u001b[0mformat\u001b[0m\u001b[0;34m)\u001b[0m\u001b[0;34m\u001b[0m\u001b[0;34m\u001b[0m\u001b[0m\n",
      "\u001b[0;31mValueError\u001b[0m: Saving charts in 'png' format requires the altair_saver package: see http://github.com/altair-viz/altair_saver/"
     ]
    }
   ],
   "source": [
    "fig.save('Plots/breakdown_best_model.png')"
   ]
  },
  {
   "cell_type": "markdown",
   "id": "31c25a88",
   "metadata": {},
   "source": [
    "chart.save('chart.json')## Line Plots "
   ]
  },
  {
   "cell_type": "markdown",
   "id": "e8146c2b",
   "metadata": {},
   "source": [
    "### Performance variation of service levels"
   ]
  },
  {
   "cell_type": "code",
   "execution_count": null,
   "id": "0d9fcc7b",
   "metadata": {},
   "outputs": [],
   "source": [
    "##################\n",
    "### USER INPUT ###\n",
    "##################\n",
    "best_results.sort_values(['dataset'], inplace=True)\n",
    "\n",
    "# Select metric to use (\"Average costs\" or \"Coefficient of Prescriptiveness\")\n",
    "metric = \"coefficient of prescriptiveness\"\n",
    "\n",
    "# Select Models to plot. Possible are: \"SAA\", \"GKW\", \"KNNW\", \"DTW\", \"RFW\", \"LR\", \"DL\"\n",
    "models = [\"GKW\", \"KNNW\", \"DTW\", \"RFW\", \"LR\", \"DL\"]\n",
    "\n",
    "# Select feature combis to plot\n",
    "features = [\n",
    "            \"calendar\",\n",
    "            \"calendar, lag\",\n",
    "            \"calendar, lag, special\"\n",
    "           ]\n",
    "\n",
    "for f in features:\n",
    "    print(f)\n",
    "    fig = sns.catplot(x=\"sl\", hue=\"model\", y=metric, data=best_results[(best_results[\"feature combi\"]==f) & (best_results.model.isin(models))], kind=\"point\", col=\"dataset\", \n",
    "                      ci='sd',\n",
    "                      #ci=None, \n",
    "                      dodge=0.5,\n",
    "                      sharey=False, \n",
    "                      palette=p, \n",
    "                      linestyles=' ', \n",
    "                      markers='D', scale=0.75\n",
    "                     )\n",
    "    \n",
    "    fig._legend.set_title(\"Model\")\n",
    "    \n",
    "    for ax in fig.axes.flatten():\n",
    "        ax.set_ylabel(\"Average ∆C\")\n",
    "        ax.set_xlabel(\"Service level\")\n",
    "\n",
    "        d = ax.get_title().lstrip('dataset = ')\n",
    "        ax.set_title(f\"Dataset = {d}\", fontsize=10)\n",
    "        \n",
    "    fig.figure.savefig(\"Plots/SL_variation_\"+metric+\" \"+f+\".png\")  "
   ]
  },
  {
   "cell_type": "markdown",
   "id": "2d2a10e5",
   "metadata": {},
   "source": [
    "### Performance variation of features"
   ]
  },
  {
   "cell_type": "code",
   "execution_count": null,
   "id": "acbfe528-bf38-4181-9f46-7d94654bf7e2",
   "metadata": {},
   "outputs": [],
   "source": [
    "##################\n",
    "### USER INPUT ###\n",
    "##################\n",
    "\n",
    "# Select metric to use (\"Average costs\" or \"Coefficient of Prescriptiveness\")\n",
    "metric = \"coefficient of prescriptiveness\"\n",
    "\n",
    "# Select Models to plot. Possible are: \"SAA\", \"GKW\", \"KNNW\", \"DTW\", \"RFW\", \"LR\", \"DL\"\n",
    "models = [\"GKW\", \"KNNW\", \"DTW\", \"RFW\", \"LR\", \"DL\"]\n",
    "\n",
    "# Select SLs to plot. Possible are: 0.1, 0.25, 0.5, 0.75, 0.9\n",
    "SLs = [0.1, 0.25, 0.5, 0.75, 0.9]\n",
    "\n",
    "for SL in SLs:\n",
    "    print(SL)\n",
    "    fig = sns.catplot(x=\"feature combi\", hue=\"model\", y= metric, data=best_results[(best_results[\"sl\"]==SL) & (best_results.model.isin(models))], kind=\"point\", col=\"dataset\", \n",
    "                      ci=None, sharey=False, sharex=False, order = ['calendar', ''],\n",
    "                      palette=p, linestyles='--', markers='D', scale=0.75)\n",
    "    \n",
    "    fig._legend.set_title(\"Model\")\n",
    "    \n",
    "    for ax in fig.axes.flatten():\n",
    "        ax.set_ylabel(\"Average ∆C\")\n",
    "        ax.set_xlabel(\"Feature combination\")\n",
    "\n",
    "        d = ax.get_title().lstrip('dataset = ')\n",
    "        ax.set_title(f\"Dataset = {d}\", fontsize=10)\n",
    "    \n",
    "    fig.figure.savefig(\"Plots/feature_variation_\"+metric+\" \"+str(SL)+\".png\") "
   ]
  },
  {
   "cell_type": "markdown",
   "id": "b7645996-af10-4040-b89f-ad915e545478",
   "metadata": {},
   "source": [
    "## Model selection"
   ]
  },
  {
   "cell_type": "code",
   "execution_count": 15,
   "id": "92a51bdb-cd67-4e73-a403-d84adf136afe",
   "metadata": {},
   "outputs": [],
   "source": [
    "##################\n",
    "### USER INPUT ###\n",
    "##################\n",
    "\n",
    "# Select SL to plot. Possible are: 0.1, 0.25, 0.5, 0.75, 0.9\n",
    "SL = 0.9\n",
    "\n",
    "# Select feature combi to plot. \n",
    "features = \"calendar, lag\"\n",
    "\n",
    "models = [\"KW\", \"KNNW\", \"DTW\", \"RFW\", \"LR\", \"DL\"]"
   ]
  },
  {
   "cell_type": "code",
   "execution_count": 16,
   "id": "b031892c-3923-4362-970a-1ecf4d14bb2d",
   "metadata": {},
   "outputs": [],
   "source": [
    "model_sel = performance_of_best_cv_model_on_test_data.loc[(performance_of_best_cv_model_on_test_data.sl==SL)&(performance_of_best_cv_model_on_test_data['feature combi']==features),:]"
   ]
  },
  {
   "cell_type": "code",
   "execution_count": 17,
   "id": "29404e99-4b35-4d0c-8c62-1c6a5c9ce8e4",
   "metadata": {},
   "outputs": [
    {
     "name": "stderr",
     "output_type": "stream",
     "text": [
      "/home/sibu/.conda/envs/ddnv_env/lib/python3.7/site-packages/pandas/util/_decorators.py:311: SettingWithCopyWarning: \n",
      "A value is trying to be set on a copy of a slice from a DataFrame\n",
      "\n",
      "See the caveats in the documentation: https://pandas.pydata.org/pandas-docs/stable/user_guide/indexing.html#returning-a-view-versus-a-copy\n",
      "  return func(*args, **kwargs)\n"
     ]
    }
   ],
   "source": [
    "best_results_sel = best_results.loc[(best_results.sl==SL)&(best_results['feature combi']==features),:]\n",
    "\n",
    "best_results_sel.sort_values(['model', 'group'], inplace=True)\n",
    "best_results_sel.reset_index(drop=True, inplace=True)\n",
    "\n",
    "model_sel.sort_values(['group'], inplace=True)\n",
    "model_sel = pd.concat([model_sel]*7, ignore_index=True)"
   ]
  },
  {
   "cell_type": "code",
   "execution_count": 18,
   "id": "452afd84-ccde-44ba-9b13-8956f84d7845",
   "metadata": {},
   "outputs": [
    {
     "name": "stderr",
     "output_type": "stream",
     "text": [
      "/home/sibu/.conda/envs/ddnv_env/lib/python3.7/site-packages/ipykernel_launcher.py:1: SettingWithCopyWarning: \n",
      "A value is trying to be set on a copy of a slice from a DataFrame.\n",
      "Try using .loc[row_indexer,col_indexer] = value instead\n",
      "\n",
      "See the caveats in the documentation: https://pandas.pydata.org/pandas-docs/stable/user_guide/indexing.html#returning-a-view-versus-a-copy\n",
      "  \"\"\"Entry point for launching an IPython kernel.\n",
      "/home/sibu/.conda/envs/ddnv_env/lib/python3.7/site-packages/ipykernel_launcher.py:2: SettingWithCopyWarning: \n",
      "A value is trying to be set on a copy of a slice from a DataFrame.\n",
      "Try using .loc[row_indexer,col_indexer] = value instead\n",
      "\n",
      "See the caveats in the documentation: https://pandas.pydata.org/pandas-docs/stable/user_guide/indexing.html#returning-a-view-versus-a-copy\n",
      "  \n"
     ]
    }
   ],
   "source": [
    "best_results_sel['average_cost_model_selection'] = model_sel['coefficient of prescriptiveness']\n",
    "best_results_sel['∆C(model selection)-∆C(k)'] = model_sel['coefficient of prescriptiveness'] - best_results_sel['coefficient of prescriptiveness']"
   ]
  },
  {
   "cell_type": "code",
   "execution_count": 19,
   "id": "58045f86-c846-49f1-bfa2-0091f8abf19e",
   "metadata": {},
   "outputs": [
    {
     "name": "stderr",
     "output_type": "stream",
     "text": [
      "/home/sibu/.conda/envs/ddnv_env/lib/python3.7/site-packages/scipy/stats/morestats.py:3141: UserWarning: Exact p-value calculation does not work if there are ties. Switching to normal approximation.\n",
      "  warnings.warn(\"Exact p-value calculation does not work if there are \"\n"
     ]
    }
   ],
   "source": [
    "#### Compute Wilcoxon signed-rank test statistics #####\n",
    "\n",
    "wilcox = []\n",
    "metric = 'coefficient of prescriptiveness'\n",
    "model_sel = performance_of_best_cv_model_on_test_data.loc[(performance_of_best_cv_model_on_test_data.sl==SL)&(performance_of_best_cv_model_on_test_data['feature combi']==features),:]\n",
    "\n",
    "\n",
    "# compute Wilcoxon signed-rank test per dataset\n",
    "for d in best_results_sel.dataset.unique():\n",
    "    \n",
    "    model_sel_d = model_sel.loc[model_sel.dataset==d,:]\n",
    "    model_sel.sort_values(by='group', inplace=True)\n",
    "    \n",
    "    for m in models:\n",
    "        \n",
    "        model_to_test = best_results_sel.loc[(best_results_sel.model==m)&(best_results_sel.dataset==d)]\n",
    "        model_to_test.sort_values(by='group', inplace=True)\n",
    "        \n",
    "        try:\n",
    "            w, p_v = pg.wilcoxon(model_sel_d[metric], model_to_test[metric], alternative='greater').loc['Wilcoxon',['W-val', 'p-val']]\n",
    "        except:\n",
    "            # if model selection and fixed model are equal, wilcoxon test will fail\n",
    "            w, p_v = ('NA', 'NA')\n",
    "            \n",
    "        wilcox.append({'Dataset':d, 'Selected Model':m , 'test_statistic':w, 'p_value':p_v})\n",
    "        \n",
    "wilcox = pd.DataFrame(wilcox)\n",
    "wilcox['p_value_star'] = [' ' if (x=='NA') else '***' if (x < 0.001) else '**' if (x < 0.01) else '*' if (x < 0.1) else ' ' for x in wilcox['p_value']]"
   ]
  },
  {
   "cell_type": "code",
   "execution_count": 20,
   "id": "588e9897-c07c-42d8-9af5-2acbac33ab84",
   "metadata": {},
   "outputs": [],
   "source": [
    "wilcox['x_label'] = wilcox['Selected Model'] + wilcox['p_value_star']"
   ]
  },
  {
   "cell_type": "code",
   "execution_count": 27,
   "id": "84a18b9e-a06d-48fa-a8b1-5a9fe33a9264",
   "metadata": {},
   "outputs": [
    {
     "data": {
      "text/html": [
       "<div>\n",
       "<style scoped>\n",
       "    .dataframe tbody tr th:only-of-type {\n",
       "        vertical-align: middle;\n",
       "    }\n",
       "\n",
       "    .dataframe tbody tr th {\n",
       "        vertical-align: top;\n",
       "    }\n",
       "\n",
       "    .dataframe thead th {\n",
       "        text-align: right;\n",
       "    }\n",
       "</style>\n",
       "<table border=\"1\" class=\"dataframe\">\n",
       "  <thead>\n",
       "    <tr style=\"text-align: right;\">\n",
       "      <th></th>\n",
       "      <th>Dataset</th>\n",
       "      <th>Selected Model</th>\n",
       "      <th>test_statistic</th>\n",
       "      <th>p_value</th>\n",
       "      <th>p_value_star</th>\n",
       "      <th>x_label</th>\n",
       "    </tr>\n",
       "  </thead>\n",
       "  <tbody>\n",
       "    <tr>\n",
       "      <th>0</th>\n",
       "      <td>M5</td>\n",
       "      <td>KW</td>\n",
       "      <td>5047.0</td>\n",
       "      <td>0.0</td>\n",
       "      <td>***</td>\n",
       "      <td>KW***</td>\n",
       "    </tr>\n",
       "    <tr>\n",
       "      <th>1</th>\n",
       "      <td>M5</td>\n",
       "      <td>KNNW</td>\n",
       "      <td>5048.0</td>\n",
       "      <td>0.0</td>\n",
       "      <td>***</td>\n",
       "      <td>KNNW***</td>\n",
       "    </tr>\n",
       "    <tr>\n",
       "      <th>2</th>\n",
       "      <td>M5</td>\n",
       "      <td>DTW</td>\n",
       "      <td>5034.0</td>\n",
       "      <td>0.0</td>\n",
       "      <td>***</td>\n",
       "      <td>DTW***</td>\n",
       "    </tr>\n",
       "    <tr>\n",
       "      <th>3</th>\n",
       "      <td>M5</td>\n",
       "      <td>RFW</td>\n",
       "      <td>2321.0</td>\n",
       "      <td>0.0</td>\n",
       "      <td>***</td>\n",
       "      <td>RFW***</td>\n",
       "    </tr>\n",
       "    <tr>\n",
       "      <th>4</th>\n",
       "      <td>M5</td>\n",
       "      <td>LR</td>\n",
       "      <td>601.0</td>\n",
       "      <td>0.005224</td>\n",
       "      <td>**</td>\n",
       "      <td>LR**</td>\n",
       "    </tr>\n",
       "    <tr>\n",
       "      <th>5</th>\n",
       "      <td>M5</td>\n",
       "      <td>DL</td>\n",
       "      <td>3661.0</td>\n",
       "      <td>0.0</td>\n",
       "      <td>***</td>\n",
       "      <td>DL***</td>\n",
       "    </tr>\n",
       "    <tr>\n",
       "      <th>6</th>\n",
       "      <td>Restaurant</td>\n",
       "      <td>KW</td>\n",
       "      <td>27.0</td>\n",
       "      <td>0.015625</td>\n",
       "      <td>*</td>\n",
       "      <td>KW*</td>\n",
       "    </tr>\n",
       "    <tr>\n",
       "      <th>7</th>\n",
       "      <td>Restaurant</td>\n",
       "      <td>KNNW</td>\n",
       "      <td>26.0</td>\n",
       "      <td>0.023438</td>\n",
       "      <td>*</td>\n",
       "      <td>KNNW*</td>\n",
       "    </tr>\n",
       "    <tr>\n",
       "      <th>8</th>\n",
       "      <td>Restaurant</td>\n",
       "      <td>DTW</td>\n",
       "      <td>28.0</td>\n",
       "      <td>0.007812</td>\n",
       "      <td>**</td>\n",
       "      <td>DTW**</td>\n",
       "    </tr>\n",
       "    <tr>\n",
       "      <th>9</th>\n",
       "      <td>Restaurant</td>\n",
       "      <td>RFW</td>\n",
       "      <td>NA</td>\n",
       "      <td>NA</td>\n",
       "      <td></td>\n",
       "      <td>RFW</td>\n",
       "    </tr>\n",
       "    <tr>\n",
       "      <th>10</th>\n",
       "      <td>Restaurant</td>\n",
       "      <td>LR</td>\n",
       "      <td>26.0</td>\n",
       "      <td>0.023438</td>\n",
       "      <td>*</td>\n",
       "      <td>LR*</td>\n",
       "    </tr>\n",
       "    <tr>\n",
       "      <th>11</th>\n",
       "      <td>Restaurant</td>\n",
       "      <td>DL</td>\n",
       "      <td>27.0</td>\n",
       "      <td>0.015625</td>\n",
       "      <td>*</td>\n",
       "      <td>DL*</td>\n",
       "    </tr>\n",
       "    <tr>\n",
       "      <th>12</th>\n",
       "      <td>SID</td>\n",
       "      <td>KW</td>\n",
       "      <td>125246.0</td>\n",
       "      <td>0.0</td>\n",
       "      <td>***</td>\n",
       "      <td>KW***</td>\n",
       "    </tr>\n",
       "    <tr>\n",
       "      <th>13</th>\n",
       "      <td>SID</td>\n",
       "      <td>KNNW</td>\n",
       "      <td>125250.0</td>\n",
       "      <td>0.0</td>\n",
       "      <td>***</td>\n",
       "      <td>KNNW***</td>\n",
       "    </tr>\n",
       "    <tr>\n",
       "      <th>14</th>\n",
       "      <td>SID</td>\n",
       "      <td>DTW</td>\n",
       "      <td>125236.0</td>\n",
       "      <td>0.0</td>\n",
       "      <td>***</td>\n",
       "      <td>DTW***</td>\n",
       "    </tr>\n",
       "    <tr>\n",
       "      <th>15</th>\n",
       "      <td>SID</td>\n",
       "      <td>RFW</td>\n",
       "      <td>11450.5</td>\n",
       "      <td>0.000165</td>\n",
       "      <td>***</td>\n",
       "      <td>RFW***</td>\n",
       "    </tr>\n",
       "    <tr>\n",
       "      <th>16</th>\n",
       "      <td>SID</td>\n",
       "      <td>LR</td>\n",
       "      <td>31920.5</td>\n",
       "      <td>0.293744</td>\n",
       "      <td></td>\n",
       "      <td>LR</td>\n",
       "    </tr>\n",
       "    <tr>\n",
       "      <th>17</th>\n",
       "      <td>SID</td>\n",
       "      <td>DL</td>\n",
       "      <td>88338.0</td>\n",
       "      <td>0.0</td>\n",
       "      <td>***</td>\n",
       "      <td>DL***</td>\n",
       "    </tr>\n",
       "    <tr>\n",
       "      <th>18</th>\n",
       "      <td>Bakery</td>\n",
       "      <td>KW</td>\n",
       "      <td>4386.0</td>\n",
       "      <td>0.0</td>\n",
       "      <td>***</td>\n",
       "      <td>KW***</td>\n",
       "    </tr>\n",
       "    <tr>\n",
       "      <th>19</th>\n",
       "      <td>Bakery</td>\n",
       "      <td>KNNW</td>\n",
       "      <td>4421.0</td>\n",
       "      <td>0.0</td>\n",
       "      <td>***</td>\n",
       "      <td>KNNW***</td>\n",
       "    </tr>\n",
       "    <tr>\n",
       "      <th>20</th>\n",
       "      <td>Bakery</td>\n",
       "      <td>DTW</td>\n",
       "      <td>4386.0</td>\n",
       "      <td>0.0</td>\n",
       "      <td>***</td>\n",
       "      <td>DTW***</td>\n",
       "    </tr>\n",
       "    <tr>\n",
       "      <th>21</th>\n",
       "      <td>Bakery</td>\n",
       "      <td>RFW</td>\n",
       "      <td>80.0</td>\n",
       "      <td>0.134033</td>\n",
       "      <td></td>\n",
       "      <td>RFW</td>\n",
       "    </tr>\n",
       "    <tr>\n",
       "      <th>22</th>\n",
       "      <td>Bakery</td>\n",
       "      <td>LR</td>\n",
       "      <td>2781.0</td>\n",
       "      <td>0.0</td>\n",
       "      <td>***</td>\n",
       "      <td>LR***</td>\n",
       "    </tr>\n",
       "    <tr>\n",
       "      <th>23</th>\n",
       "      <td>Bakery</td>\n",
       "      <td>DL</td>\n",
       "      <td>4097.5</td>\n",
       "      <td>0.0</td>\n",
       "      <td>***</td>\n",
       "      <td>DL***</td>\n",
       "    </tr>\n",
       "  </tbody>\n",
       "</table>\n",
       "</div>"
      ],
      "text/plain": [
       "       Dataset Selected Model test_statistic   p_value p_value_star  x_label\n",
       "0           M5             KW         5047.0       0.0          ***    KW***\n",
       "1           M5           KNNW         5048.0       0.0          ***  KNNW***\n",
       "2           M5            DTW         5034.0       0.0          ***   DTW***\n",
       "3           M5            RFW         2321.0       0.0          ***   RFW***\n",
       "4           M5             LR          601.0  0.005224           **     LR**\n",
       "5           M5             DL         3661.0       0.0          ***    DL***\n",
       "6   Restaurant             KW           27.0  0.015625            *      KW*\n",
       "7   Restaurant           KNNW           26.0  0.023438            *    KNNW*\n",
       "8   Restaurant            DTW           28.0  0.007812           **    DTW**\n",
       "9   Restaurant            RFW             NA        NA                  RFW \n",
       "10  Restaurant             LR           26.0  0.023438            *      LR*\n",
       "11  Restaurant             DL           27.0  0.015625            *      DL*\n",
       "12         SID             KW       125246.0       0.0          ***    KW***\n",
       "13         SID           KNNW       125250.0       0.0          ***  KNNW***\n",
       "14         SID            DTW       125236.0       0.0          ***   DTW***\n",
       "15         SID            RFW        11450.5  0.000165          ***   RFW***\n",
       "16         SID             LR        31920.5  0.293744                   LR \n",
       "17         SID             DL        88338.0       0.0          ***    DL***\n",
       "18      Bakery             KW         4386.0       0.0          ***    KW***\n",
       "19      Bakery           KNNW         4421.0       0.0          ***  KNNW***\n",
       "20      Bakery            DTW         4386.0       0.0          ***   DTW***\n",
       "21      Bakery            RFW           80.0  0.134033                  RFW \n",
       "22      Bakery             LR         2781.0       0.0          ***    LR***\n",
       "23      Bakery             DL         4097.5       0.0          ***    DL***"
      ]
     },
     "execution_count": 27,
     "metadata": {},
     "output_type": "execute_result"
    }
   ],
   "source": [
    "wilcox"
   ]
  },
  {
   "cell_type": "code",
   "execution_count": 34,
   "id": "ea8135f7-3d1a-45d5-becc-01c52fe8fc72",
   "metadata": {},
   "outputs": [
    {
     "data": {
      "image/png": "[encoded data removed]",
      "text/plain": [
       "<Figure size 1543.69x360 with 4 Axes>"
      ]
     },
     "metadata": {},
     "output_type": "display_data"
    }
   ],
   "source": [
    "wilcox.sort_values(['Selected Model'], ascending=True, inplace=True)\n",
    "\n",
    "sns.set_theme(style=\"white\", font_scale=1.4)\n",
    "g = sns.catplot(y=\"model\", x=\"∆C(model selection)-∆C(k)\", data=best_results_sel.loc[best_results_sel.model.isin(models),:], kind=\"box\", hue=\"model\", palette=p,\n",
    "                col=\"dataset\", col_order=['Bakery', 'M5', 'Restaurant', 'SID'], sharex=True, sharey=False, dodge=False, orient='h', showfliers=True)\n",
    "\n",
    "for ax in g.axes.flatten():\n",
    "    \n",
    "    d = ax.get_title().lstrip('dataset = ')\n",
    "    ax.set_title(f\"Dataset = {d}\")\n",
    "    \n",
    "    ax.set_ylabel(\"Model\")\n",
    "    \n",
    "    ax.axvline(0, color=\"black\", linestyle='--')\n",
    "    \n",
    "    m = [x.get_text() for x in ax.get_yticklabels()]\n",
    "    ax.set_yticklabels(wilcox.loc[wilcox['Dataset']==d,'x_label'])"
   ]
  },
  {
   "cell_type": "code",
   "execution_count": 35,
   "id": "fa2d0b72-4a08-4306-9778-dd55530d3a35",
   "metadata": {},
   "outputs": [],
   "source": [
    "g.savefig(f\"Plots/cost_delta_model_sel_{features}_SL_{SL}_per_dataset.png\") "
   ]
  },
  {
   "cell_type": "markdown",
   "id": "a3b0fddc-124c-487f-a836-689432d72438",
   "metadata": {},
   "source": [
    "# OLD"
   ]
  },
  {
   "cell_type": "code",
   "execution_count": null,
   "id": "2a56d4e7-1beb-4b73-b497-ff2add717cad",
   "metadata": {},
   "outputs": [],
   "source": [
    "##################\n",
    "### USER INPUT ###\n",
    "##################\n",
    "\n",
    "# Select SL to plot. Possible are: 0.1, 0.25, 0.5, 0.75, 0.9\n",
    "SL = 0.9\n",
    "\n",
    "# Select feature combi to plot. \n",
    "features = \"calendar, lag\"\n",
    "\n",
    "models = [\"KW\", \"KNNW\", \"DTW\", \"RFW\", \"LR\", \"DL\", \"Selection\"]\n",
    "\n",
    "# ------------------------------------------------------------------------------------\n",
    "\n",
    "performance_of_best_cv_model_on_test_data[\"model_type\"] = performance_of_best_cv_model_on_test_data[\"model\"]\n",
    "performance_of_best_cv_model_on_test_data[\"model\"] = 'Model Selection'\n",
    "\n",
    "best_model_per_group[\"model_type\"] = best_model_per_group[\"model\"]\n",
    "best_model_per_group[\"model\"] = 'Ex-post best'\n",
    "\n",
    "df_sel = pd.concat([best_results, \n",
    "                    performance_of_best_cv_model_on_test_data.loc[:,[\"dataset\", \"feature combi\", \"group\", \"model\", \"sl\", \"average costs\", \"coefficient of prescriptiveness\", \"best params\", \"model_type\"]], \n",
    "                    best_model_per_group])\n",
    "\n",
    "df_sel = df_sel[(df_sel[\"sl\"]==SL) & (df_sel[\"feature combi\"]==features)] \n",
    "\n",
    "# compute means\n",
    "\n",
    "df_sel_means_by_dataset = df_sel.groupby(['dataset', 'model'])['coefficient of prescriptiveness'].mean()\n",
    "\n",
    "df_sel_means_by_dataset = pd.DataFrame(df_sel_means_by_dataset).reset_index()\n",
    "df_sel_means_by_dataset.sort_values(['dataset','coefficient of prescriptiveness'], ascending=False, inplace=True)\n",
    "df_sel_means_by_dataset.loc[df_sel_means_by_dataset.model=='Model Selection',\"model\"] = 'Selection'"
   ]
  },
  {
   "cell_type": "code",
   "execution_count": null,
   "id": "04e66643-c8a9-455e-9a9f-756f45d791c5",
   "metadata": {
    "tags": []
   },
   "outputs": [],
   "source": [
    "#### Compute Wilcoxon signed-rank test statistics #####\n",
    "\n",
    "wilcox = []\n",
    "metric = 'coefficient of prescriptiveness'\n",
    "\n",
    "# compute Wilcoxon signed-rank test per dataset\n",
    "for d in df_sel.dataset.unique():\n",
    "    \n",
    "    df_msel = df_sel.loc[(df_sel.dataset==d)&(df_sel.model=='Model Selection')]\n",
    "    df_msel.sort_values(by='group', inplace=True)\n",
    "    \n",
    "    for m in models:\n",
    "        \n",
    "        if m == 'Model Selection':\n",
    "            break\n",
    "        \n",
    "        sel_model = df_sel.loc[(df_sel.model==m)&(df_sel.dataset==d)]\n",
    "        sel_model.sort_values(by='group', inplace=True)\n",
    "        \n",
    "        try:\n",
    "            w, p_v = pg.wilcoxon(df_msel[metric],sel_model[metric], alternative='greater').loc['Wilcoxon',['W-val', 'p-val']]\n",
    "        except:\n",
    "            # if model selection and fixed model are equal, wilcoxon test will fail\n",
    "            w, p_v = ('NA', 'NA')\n",
    "            \n",
    "        wilcox.append({'Dataset':d, 'Selected Model':m , 'test_statistic':w, 'p_value':p_v})\n",
    "\n",
    "# compute Wilcoxon signed-rank test across datasets\n",
    "df_msel = df_sel.loc[(df_sel['model']=='Selection')]\n",
    "df_msel.sort_values(by='group', inplace=True)       \n",
    "        \n",
    "for m in models:\n",
    "    \n",
    "        if m == 'Model Selection':\n",
    "            break\n",
    "        \n",
    "        sel_model = df_sel.loc[(df_sel['model']==m)]\n",
    "        sel_model.sort_values(by='group', inplace=True)\n",
    "        \n",
    "        try:\n",
    "            w, p_v = pg.wilcoxon(df_msel[metric],sel_model[metric], alternative='greater').loc['Wilcoxon',['W-val', 'p-val']]\n",
    "        except:\n",
    "            w, p_v = ('NA', 'NA')\n",
    "        \n",
    "        wilcox.append({'Dataset':'All data', 'Selected Model':m , 'test_statistic':w, 'p_value':p_v})\n",
    "        \n",
    "wilcox = pd.DataFrame(wilcox)\n",
    "wilcox['p_value_star'] = ['o' if (x=='NA') else '***' if (x < 0.001) else '**' if (x < 0.01) else '*' if (x < 0.1) else 'H0 cannot be rejected' for x in wilcox['p_value']]"
   ]
  },
  {
   "cell_type": "code",
   "execution_count": null,
   "id": "1cb7d329-fe6b-4cdf-b492-96b75b580742",
   "metadata": {},
   "outputs": [],
   "source": [
    "sns.set_theme(style=\"white\", font_scale=1)\n",
    "\n",
    "g = sns.catplot(x=\"model\", y='coefficient of prescriptiveness', data=df_sel_means_by_dataset.loc[df_sel_means_by_dataset.model.isin(models),:], kind=\"bar\", hue=\"model\", palette=p,\n",
    "                col=\"dataset\", col_order=['Bakery', 'M5', 'Restaurant', 'SID'], sharex=False, dodge=False)\n",
    "\n",
    "for ax in g.axes.flatten():\n",
    "\n",
    "    trans = ax.get_xaxis_transform()\n",
    "    \n",
    "    ax.title.set_position([.5, -10])\n",
    "    \n",
    "    d = ax.get_title().lstrip('dataset = ')\n",
    "    ax.set_title(\"\")\n",
    "    \n",
    "    ax.set_ylabel(\"Average ∆C\")\n",
    "    ax.set_xlabel(\"Model\")\n",
    "    \n",
    "    m = [x.get_text() for x in ax.get_xticklabels()]\n",
    "\n",
    "    # show the values\n",
    "    for pat in ax.patches:\n",
    "        h, w, x = pat.get_height(), pat.get_width(), pat.get_x()\n",
    "        xy = (x + w / 2., h-0.01)\n",
    "        text = f'\\n{h:0.3f}'\n",
    "        ax.annotate(text=text, xy=xy, ha='center', va='center', color='white', weight='bold')\n",
    "        \n",
    "    # add ex-post optimal model\n",
    "    ex_post = df_sel_means_by_dataset.loc[df_sel_means_by_dataset.model=='Ex-post best',:]\n",
    "    ex_post_h = ex_post.loc[ex_post.dataset==d,'coefficient of prescriptiveness'].item()\n",
    "    ax.axhline(ex_post_h, color=\"black\", linestyle='--')\n",
    "    ax.annotate(text='Ex-post optimal model', xy=(6.5,ex_post_h+0.015), ha='right', va='center')\n",
    "    \n",
    "    try: \n",
    "        #starting point for lines\n",
    "        y_lines_base = 1.02\n",
    "        x_lines_base = 1.1\n",
    "\n",
    "        ax.annotate(text = wilcox.loc[((wilcox.Dataset==d)&(wilcox['Selected Model']==m[1])),'p_value_star'].item(), xy=(x_lines_base, y_lines_base+0.028), xycoords=trans, ha=\"left\", va=\"top\", fontsize='small')\n",
    "        ax.plot([-.4,1.4],[y_lines_base,y_lines_base], color=\"k\", transform=trans, clip_on=False, linewidth=1)\n",
    "\n",
    "        ax.annotate(text = wilcox.loc[((wilcox.Dataset==d)&(wilcox['Selected Model']==m[2])),'p_value_star'].item(), xy=(x_lines_base+1, y_lines_base+0.04+0.028), xycoords=trans, ha=\"left\", va=\"top\", fontsize='small')\n",
    "        ax.plot([-.4,2.4],[y_lines_base+0.04,y_lines_base+0.04], color=\"k\", transform=trans, clip_on=False, linewidth=1)\n",
    "\n",
    "        ax.annotate(text = wilcox.loc[((wilcox.Dataset==d)&(wilcox['Selected Model']==m[3])),'p_value_star'].item(), xy=(x_lines_base+2, y_lines_base+2*0.04+0.028), xycoords=trans, ha=\"left\", va=\"top\", fontsize='small')\n",
    "        ax.plot([-.4,3.4],[y_lines_base+2*0.04,y_lines_base+2*0.04], color=\"k\", transform=trans, clip_on=False, linewidth=1)\n",
    "\n",
    "        ax.annotate(text = wilcox.loc[((wilcox.Dataset==d)&(wilcox['Selected Model']==m[4])),'p_value_star'].item(), xy=(x_lines_base+3, y_lines_base+3*0.04+0.028), xycoords=trans, ha=\"left\", va=\"top\", fontsize='small')\n",
    "        ax.plot([-.4,4.4],[y_lines_base+3*0.04,y_lines_base+3*0.04], color=\"k\", transform=trans, clip_on=False, linewidth=1)\n",
    "\n",
    "        ax.annotate(text = wilcox.loc[((wilcox.Dataset==d)&(wilcox['Selected Model']==m[5])),'p_value_star'].item(), xy=(x_lines_base+4, y_lines_base+4*0.04+0.028), xycoords=trans, ha=\"left\", va=\"top\", fontsize='small')\n",
    "        ax.plot([-.4,5.4],[y_lines_base+4*0.04,y_lines_base+4*0.04], color=\"k\", transform=trans, clip_on=False, linewidth=1)\n",
    "\n",
    "        ax.annotate(text = wilcox.loc[((wilcox.Dataset==d)&(wilcox['Selected Model']==m[6])),'p_value_star'].item(), xy=(x_lines_base+5, y_lines_base+5*0.04+0.028), xycoords=trans, ha=\"left\", va=\"top\", fontsize='small')\n",
    "        ax.plot([-.4,6.4],[y_lines_base+5*0.04,y_lines_base+5*0.04], color=\"k\", transform=trans, clip_on=False, linewidth=1)\n",
    "    except:\n",
    "        print(f'Model selection is not the best option for dataset {d}')\n",
    "    \n",
    "    #move dataset name to bottom of plot\n",
    "    ax.annotate(text =f'Dataset = {d}', xy=(3, -0.2), xycoords=trans, ha=\"center\", va=\"top\")\n",
    "\n",
    "# Uncomment to add legend of p-avlues\n",
    "'''\n",
    "ax = g.axes.flatten()[-1]\n",
    "y_align = 1.25\n",
    "x_align = 7.0\n",
    "trans = ax.get_xaxis_transform()\n",
    "ax.annotate('p-values Wilcoxon signed rank test', xy=(x_align, y_align), xycoords=trans, ha=\"left\", va=\"top\")\n",
    "ax.annotate('o - models are equal', xy=(x_align, y_align-0.06), xycoords=trans, ha=\"left\", va=\"top\")\n",
    "ax.annotate('* - p<0.1', xy=(x_align, y_align-0.06-0.045), xycoords=trans, ha=\"left\", va=\"top\")\n",
    "ax.annotate('** - p<0.01', xy=(x_align, y_align-0.06-2*0.045), xycoords=trans, ha=\"left\", va=\"top\")\n",
    "ax.annotate('*** - p<0.001', xy=(x_align, y_align-0.06-3*0.045), xycoords=trans, ha=\"left\", va=\"top\")'''"
   ]
  },
  {
   "cell_type": "code",
   "execution_count": null,
   "id": "47cb8786-d896-4d63-833a-19dfd311bcd3",
   "metadata": {},
   "outputs": [],
   "source": [
    "g.savefig(f\"Plots/cost_delta_model_sel_{features}_SL_{SL}_per_dataset.png\") "
   ]
  },
  {
   "cell_type": "markdown",
   "id": "0a2ba821-7301-4c59-948b-f945a9ed1ab3",
   "metadata": {},
   "source": [
    "## Gap to optimality"
   ]
  },
  {
   "cell_type": "code",
   "execution_count": null,
   "id": "40187838-afd5-47dc-8853-613a1f38bd97",
   "metadata": {},
   "outputs": [],
   "source": [
    "##################\n",
    "### USER INPUT ###\n",
    "##################\n",
    "\n",
    "# Select SL to plot. Possible are: 0.1, 0.25, 0.5, 0.75, 0.9\n",
    "SL = 0.9\n",
    "\n",
    "# Select feature combi to plot. \n",
    "features = \"calendar, lag\"\n",
    " \n",
    "# Select Models to plot. Possible are: \"SAA\", \"GKW\", \"KNNW\", \"DTW\", \"RFW\", \"LR\", \"DL\"\n",
    "# Note: The models are plotted in the given order on the x-axis\n",
    "models = [\"KW\", \"KNNW\", \"DTW\", \"RFW\", \"LR\", \"DL\"]\n",
    "\n",
    "X_axis_label = \"gap_to_optimality\"\n",
    "y_axis_label = \"Selected Model\"\n",
    "\n",
    "# ------------------------------------------------------------------------------------\n",
    "\n",
    "order = [\"model selection\"] + models\n",
    "\n",
    "df = pd.DataFrame()\n",
    "\n",
    "# all test results \n",
    "df1 = best_results[[\"model\", \"sl\", \"group\", \"dataset\", \"feature combi\", \"average costs\"]]\n",
    "\n",
    "# group my model\n",
    "df2 = df1.groupby([\"model\"])\n",
    "\n",
    "df3 = best_model_per_group[[\"model\", \"sl\", \"group\", \"dataset\", \"feature combi\", \"average costs\"]]\n",
    "\n",
    "for model in models:   \n",
    "    df4 = df2.get_group(model)\n",
    "    df5 = df4.merge(df3, on=[\"group\", \"dataset\", \"sl\", \"feature combi\"])\n",
    "    df5[X_axis_label] = 1-df5[\"average costs_x\"]/df5[\"average costs_y\"]\n",
    "    df5[y_axis_label] = model    \n",
    "    df = pd.concat([df, df5])\n",
    "\n",
    "df4 = performance_of_best_cv_model_on_test_data[[\"model\", \"sl\", \"group\", \"dataset\", \"feature combi\", \"average costs\"]]\n",
    "df5 = df4.merge(df3, on=[\"group\", \"dataset\", \"sl\", \"feature combi\"])\n",
    "df5[X_axis_label] = 1-df5[\"average costs_x\"]/df5[\"average costs_y\"]\n",
    "df5[y_axis_label] = \"model selection\"\n",
    "df = pd.concat([df, df5])\n",
    "\n",
    "df = df[(df[\"sl\"]==SL) & (df[\"feature combi\"]==features)] "
   ]
  },
  {
   "cell_type": "code",
   "execution_count": null,
   "id": "77af1b69-865b-4734-8f29-9dd95aca727d",
   "metadata": {},
   "outputs": [],
   "source": [
    "# compute gap to optimality means\n",
    "\n",
    "# overall\n",
    "df_means_all = df.groupby(['Selected Model'])['gap_to_optimality'].mean()\n",
    "df_means_all = df_means_all.reset_index()\n",
    "\n",
    "df_means_all.sort_values(['gap_to_optimality', 'Selected Model'], ascending=False, inplace=True)\n",
    "df_means_all.reset_index(drop=True, inplace=True)\n",
    "\n",
    "df_means_all.loc[df_means_all['Selected Model']=='model selection','Selected Model']='Selection'\n",
    "\n",
    "# per dataset\n",
    "df_means_dataset = df.groupby(['dataset', 'Selected Model'])['gap_to_optimality'].mean()\n",
    "df_means_dataset = df_means_dataset.reset_index()\n",
    "\n",
    "# sort by method with lowest mean\n",
    "df_means_dataset.sort_values(['dataset','gap_to_optimality', 'Selected Model'], ascending=False, inplace=True)\n",
    "df_means_dataset.reset_index(drop=True, inplace=True)\n",
    "\n",
    "df_means_dataset.loc[df_means_dataset['Selected Model']=='model selection','Selected Model']='Selection'"
   ]
  },
  {
   "cell_type": "code",
   "execution_count": null,
   "id": "6ab76105-e830-4a55-a126-8bd2dcdc4bd1",
   "metadata": {
    "tags": []
   },
   "outputs": [],
   "source": [
    "#### Compute Wilcoxon signed-rank test statistics #####\n",
    "\n",
    "wilcox = []\n",
    "\n",
    "# compute Wilcoxon signed-rank test per dataset\n",
    "for d in df.dataset.unique():\n",
    "    \n",
    "    df_sel = df.loc[(df['Selected Model']=='model selection')&(df['dataset']==d)]\n",
    "    df_sel.sort_values(by='group', inplace=True)\n",
    "    \n",
    "    for m in models:\n",
    "        \n",
    "        if m == 'Selection':\n",
    "            break\n",
    "        \n",
    "        sel_model = df.loc[(df['Selected Model']==m)&(df['dataset']==d)]\n",
    "        sel_model.sort_values(by='group', inplace=True)\n",
    "        \n",
    "        try:\n",
    "            w, p_v = pg.wilcoxon(df_sel['gap_to_optimality'],sel_model['gap_to_optimality'], alternative='greater').loc['Wilcoxon',['W-val', 'p-val']]\n",
    "        except:\n",
    "            # if model selection and fixed model are equal, wilcoxon test will fail\n",
    "            w, p_v = ('NA', 'NA')\n",
    "            \n",
    "        wilcox.append({'Dataset':d, 'Selected Model':m , 'test_statistic':w, 'p_value':p_v})\n",
    "\n",
    "# compute Wilcoxon signed-rank test across datasets\n",
    "df_sel = df.loc[(df['Selected Model']=='model selection')]\n",
    "df_sel.sort_values(by='group', inplace=True)       \n",
    "        \n",
    "for m in models:\n",
    "    \n",
    "        if m == 'selection':\n",
    "            break\n",
    "        \n",
    "        sel_model = df.loc[(df['Selected Model']==m)]\n",
    "        sel_model.sort_values(by='group', inplace=True)\n",
    "        \n",
    "        try:\n",
    "            w, p_v = pg.wilcoxon(df_sel['gap_to_optimality'],sel_model['gap_to_optimality'], alternative='greater').loc['Wilcoxon',['W-val', 'p-val']]\n",
    "        except:\n",
    "            w, p_v = ('NA', 'NA')\n",
    "        \n",
    "        wilcox.append({'Dataset':'all_data', 'Selected Model':m , 'test_statistic':w, 'p_value':p_v})\n",
    "        \n",
    "wilcox = pd.DataFrame(wilcox)\n",
    "wilcox['p_value_star'] = ['o' if (x=='NA') else '***' if (x < 0.001) else '**' if (x < 0.01) else '*' if (x < 0.1) else 'H0 cannot be rejected' for x in wilcox['p_value']]"
   ]
  },
  {
   "cell_type": "code",
   "execution_count": null,
   "id": "6dfa8452-cff8-4067-9bf4-f6ab3b82d70b",
   "metadata": {},
   "outputs": [],
   "source": [
    "g = sns.catplot(x=\"Selected Model\", y=\"gap_to_optimality\", data=df_means_all, kind=\"bar\", palette=p)\n",
    "\n",
    "for ax in g.axes.flatten():\n",
    "    \n",
    "    trans = ax.get_xaxis_transform()\n",
    "    \n",
    "    ax.title.set_position([.5, -10])\n",
    "    \n",
    "    m = [x.get_text() for x in ax.get_xticklabels()]\n",
    "\n",
    "    # show the values\n",
    "    for pat in ax.patches:\n",
    "        h, w, x = pat.get_height(), pat.get_width(), pat.get_x()\n",
    "        xy = (x + w / 2., h)\n",
    "        text = f'\\n{h:0.2f}'\n",
    "        ax.annotate(text=text, xy=xy, ha='center', va='center')    \n",
    "    \n",
    "    #starting point for lines\n",
    "    y_lines_base = 1.02\n",
    "    x_lines_base = 1\n",
    "    \n",
    "    # plot p-values\n",
    "    d='all_data'\n",
    "    \n",
    "    \n",
    "    ax.annotate(text = wilcox.loc[((wilcox.Dataset==d)&(wilcox['Selected Model']==m[1])),'p_value_star'].item(), xy=(x_lines_base, y_lines_base+0.028), xycoords=trans, ha=\"left\", va=\"top\", fontsize='small')\n",
    "    ax.plot([-.4,1.4],[y_lines_base,y_lines_base], color=\"k\", transform=trans, clip_on=False, linewidth=1)\n",
    "    \n",
    "    ax.annotate(text = wilcox.loc[((wilcox.Dataset==d)&(wilcox['Selected Model']==m[2])),'p_value_star'].item(), xy=(x_lines_base+1, y_lines_base+0.04+0.028), xycoords=trans, ha=\"left\", va=\"top\", fontsize='small')\n",
    "    ax.plot([-.4,2.4],[y_lines_base+0.04,y_lines_base+0.04], color=\"k\", transform=trans, clip_on=False, linewidth=1)\n",
    "    \n",
    "    ax.annotate(text = wilcox.loc[((wilcox.Dataset==d)&(wilcox['Selected Model']==m[3])),'p_value_star'].item(), xy=(x_lines_base+2, y_lines_base+2*0.04+0.028), xycoords=trans, ha=\"left\", va=\"top\", fontsize='small')\n",
    "    ax.plot([-.4,3.4],[y_lines_base+2*0.04,y_lines_base+2*0.04], color=\"k\", transform=trans, clip_on=False, linewidth=1)\n",
    "    \n",
    "    ax.annotate(text = wilcox.loc[((wilcox.Dataset==d)&(wilcox['Selected Model']==m[4])),'p_value_star'].item(), xy=(x_lines_base+3, y_lines_base+3*0.04+0.028), xycoords=trans, ha=\"left\", va=\"top\", fontsize='small')\n",
    "    ax.plot([-.4,4.4],[y_lines_base+3*0.04,y_lines_base+3*0.04], color=\"k\", transform=trans, clip_on=False, linewidth=1)\n",
    "\n",
    "    ax.annotate(text = wilcox.loc[((wilcox.Dataset==d)&(wilcox['Selected Model']==m[5])),'p_value_star'].item(), xy=(x_lines_base+4, y_lines_base+4*0.04+0.028), xycoords=trans, ha=\"left\", va=\"top\", fontsize='small')\n",
    "    ax.plot([-.4,5.4],[y_lines_base+4*0.04,y_lines_base+4*0.04], color=\"k\", transform=trans, clip_on=False, linewidth=1)\n",
    "    \n",
    "    ax.annotate(text = wilcox.loc[((wilcox.Dataset==d)&(wilcox['Selected Model']==m[6])),'p_value_star'].item(), xy=(x_lines_base+5, y_lines_base+5*0.04+0.028), xycoords=trans, ha=\"left\", va=\"top\", fontsize='small')\n",
    "    ax.plot([-.4,6.4],[y_lines_base+5*0.04,y_lines_base+5*0.04], color=\"k\", transform=trans, clip_on=False, linewidth=1)\n",
    "    \n",
    "    \n",
    "    #move dataset name to bottom of plot \n",
    "    ax.annotate(text =f'Dataset = all data', xy=(3, -0.125), xycoords=trans, ha=\"center\", va=\"top\")\n",
    "    \n",
    "    ax.set_ylabel('Cost delta to ex-post optimal model')\n",
    "    \n",
    "\n",
    "    y_align = 1.25\n",
    "    x_align = 7.0\n",
    "    trans = ax.get_xaxis_transform()\n",
    "    ax.annotate('p-values Wilcoxon signed rank test', xy=(x_align, y_align), xycoords=trans, ha=\"left\", va=\"top\")\n",
    "    ax.annotate('o - models are equal', xy=(x_align, y_align-0.06), xycoords=trans, ha=\"left\", va=\"top\")\n",
    "    ax.annotate('* - p<0.1', xy=(x_align, y_align-0.06-0.045), xycoords=trans, ha=\"left\", va=\"top\")\n",
    "    ax.annotate('** - p<0.01', xy=(x_align, y_align-0.06-2*0.045), xycoords=trans, ha=\"left\", va=\"top\")\n",
    "    ax.annotate('*** - p<0.001', xy=(x_align, y_align-0.06-3*0.045), xycoords=trans, ha=\"left\", va=\"top\")"
   ]
  },
  {
   "cell_type": "code",
   "execution_count": null,
   "id": "bb9abcc6-a2d4-43ae-9fcd-88cc083caf4d",
   "metadata": {},
   "outputs": [],
   "source": [
    "g.savefig(f\"Plots/gap_to_optimality_{features}_SL_{SL}.png\")  "
   ]
  },
  {
   "cell_type": "code",
   "execution_count": null,
   "id": "d6f0c7ae-f5cf-4ee2-9c3a-805999bbba66",
   "metadata": {},
   "outputs": [],
   "source": [
    "g = sns.catplot(x=\"Selected Model\", y=\"gap_to_optimality\", data=df_means_dataset, kind=\"bar\", hue=\"Selected Model\", palette=p,\n",
    "                col=\"dataset\", col_order=['Bakery', 'M5', 'Restaurant', 'SID'], sharex=False, dodge=False)\n",
    "\n",
    "for ax in g.axes.flatten():\n",
    "\n",
    "    trans = ax.get_xaxis_transform()\n",
    "    \n",
    "    ax.title.set_position([.5, -10])\n",
    "    \n",
    "    d = ax.get_title().lstrip('dataset = ')\n",
    "    ax.set_title(\" \")\n",
    "    \n",
    "    m = [x.get_text() for x in ax.get_xticklabels()]\n",
    "\n",
    "    # show the values\n",
    "    for pat in ax.patches:\n",
    "        h, w, x = pat.get_height(), pat.get_width(), pat.get_x()\n",
    "        xy = (x + w / 2., h)\n",
    "        text = f'\\n{h:0.2f}'\n",
    "        ax.annotate(text=text, xy=xy, ha='center', va='center')\n",
    "    \n",
    "        \n",
    "    #starting point for lines\n",
    "    y_lines_base = 1.02\n",
    "    x_lines_base = 1.1\n",
    "    \n",
    "    ax.annotate(text = wilcox.loc[((wilcox.Dataset==d)&(wilcox['Selected Model']==m[1])),'p_value_star'].item(), xy=(x_lines_base, y_lines_base+0.028), xycoords=trans, ha=\"left\", va=\"top\", fontsize='small')\n",
    "    ax.plot([-.4,1.4],[y_lines_base,y_lines_base], color=\"k\", transform=trans, clip_on=False, linewidth=1)\n",
    "    \n",
    "    ax.annotate(text = wilcox.loc[((wilcox.Dataset==d)&(wilcox['Selected Model']==m[2])),'p_value_star'].item(), xy=(x_lines_base+1, y_lines_base+0.04+0.028), xycoords=trans, ha=\"left\", va=\"top\", fontsize='small')\n",
    "    ax.plot([-.4,2.4],[y_lines_base+0.04,y_lines_base+0.04], color=\"k\", transform=trans, clip_on=False, linewidth=1)\n",
    "    \n",
    "    ax.annotate(text = wilcox.loc[((wilcox.Dataset==d)&(wilcox['Selected Model']==m[3])),'p_value_star'].item(), xy=(x_lines_base+2, y_lines_base+2*0.04+0.028), xycoords=trans, ha=\"left\", va=\"top\", fontsize='small')\n",
    "    ax.plot([-.4,3.4],[y_lines_base+2*0.04,y_lines_base+2*0.04], color=\"k\", transform=trans, clip_on=False, linewidth=1)\n",
    "    \n",
    "    ax.annotate(text = wilcox.loc[((wilcox.Dataset==d)&(wilcox['Selected Model']==m[4])),'p_value_star'].item(), xy=(x_lines_base+3, y_lines_base+3*0.04+0.028), xycoords=trans, ha=\"left\", va=\"top\", fontsize='small')\n",
    "    ax.plot([-.4,4.4],[y_lines_base+3*0.04,y_lines_base+3*0.04], color=\"k\", transform=trans, clip_on=False, linewidth=1)\n",
    "\n",
    "    ax.annotate(text = wilcox.loc[((wilcox.Dataset==d)&(wilcox['Selected Model']==m[5])),'p_value_star'].item(), xy=(x_lines_base+4, y_lines_base+4*0.04+0.028), xycoords=trans, ha=\"left\", va=\"top\", fontsize='small')\n",
    "    ax.plot([-.4,5.4],[y_lines_base+4*0.04,y_lines_base+4*0.04], color=\"k\", transform=trans, clip_on=False, linewidth=1)\n",
    "\n",
    "    ax.annotate(text = wilcox.loc[((wilcox.Dataset==d)&(wilcox['Selected Model']==m[6])),'p_value_star'].item(), xy=(x_lines_base+5, y_lines_base+5*0.04+0.028), xycoords=trans, ha=\"left\", va=\"top\", fontsize='small')\n",
    "    ax.plot([-.4,6.4],[y_lines_base+5*0.04,y_lines_base+5*0.04], color=\"k\", transform=trans, clip_on=False, linewidth=1)\n",
    "    \n",
    "    #move dataset name to bottom of plot\n",
    "    \n",
    "    #ax.annotate(text =f'Dataset = {d}', xy=(3, -0.125), xycoords=trans, ha=\"center\", va=\"top\")\n",
    "    \n",
    "ax = g.axes.flatten()[-1]\n",
    "y_align = 1.25\n",
    "x_align = 7.0\n",
    "y_align_step = 0.08\n",
    "trans = ax.get_xaxis_transform()\n",
    "ax.annotate('p-values Wilcoxon signed rank test', xy=(x_align, y_align), xycoords=trans, ha=\"left\", va=\"top\")\n",
    "ax.annotate('o - models are equal', xy=(x_align, y_align-y_align_step), xycoords=trans, ha=\"left\", va=\"top\")\n",
    "ax.annotate('* - p<0.1', xy=(x_align, y_align-y_align_step*2), xycoords=trans, ha=\"left\", va=\"top\")\n",
    "ax.annotate('** - p<0.01', xy=(x_align, y_align-y_align_step*3), xycoords=trans, ha=\"left\", va=\"top\")\n",
    "ax.annotate('*** - p<0.001', xy=(x_align, y_align-y_align_step*4), xycoords=trans, ha=\"left\", va=\"top\")"
   ]
  },
  {
   "cell_type": "code",
   "execution_count": null,
   "id": "0bb76a79-d3ad-40ea-9aa8-681c6a544f51",
   "metadata": {},
   "outputs": [],
   "source": [
    "g.savefig(f\"Plots/gap_to_optimality_{features}_SL_{SL}_per_dataset.png\") "
   ]
  }
 ],
 "metadata": {
  "kernelspec": {
   "display_name": "ddnv_env",
   "language": "python",
   "name": "ddnv_env"
  },
  "language_info": {
   "codemirror_mode": {
    "name": "ipython",
    "version": 3
   },
   "file_extension": ".py",
   "mimetype": "text/x-python",
   "name": "python",
   "nbconvert_exporter": "python",
   "pygments_lexer": "ipython3",
   "version": "3.7.11"
  }
 },
 "nbformat": 4,
 "nbformat_minor": 5
}
