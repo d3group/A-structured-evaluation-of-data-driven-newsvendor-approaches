{
 "cells": [
  {
   "cell_type": "markdown",
   "metadata": {},
   "source": [
    "# Bakery Dataset"
   ]
  },
  {
   "cell_type": "code",
   "execution_count": 20,
   "metadata": {},
   "outputs": [],
   "source": [
    "import pandas as pd\n",
    "import numpy as np\n",
    "from utilities import add_lag_features, day_to_string, month_to_string\n",
    "from tsfresh import extract_features\n",
    "from tsfresh.feature_extraction import MinimalFCParameters"
   ]
  },
  {
   "cell_type": "code",
   "execution_count": 9,
   "metadata": {},
   "outputs": [],
   "source": [
    "data = pd.read_csv(\"raw/Bakery_dataset.csv\")"
   ]
  },
  {
   "cell_type": "code",
   "execution_count": 10,
   "metadata": {},
   "outputs": [
    {
     "data": {
      "text/html": [
       "<div>\n",
       "<style scoped>\n",
       "    .dataframe tbody tr th:only-of-type {\n",
       "        vertical-align: middle;\n",
       "    }\n",
       "\n",
       "    .dataframe tbody tr th {\n",
       "        vertical-align: top;\n",
       "    }\n",
       "\n",
       "    .dataframe thead th {\n",
       "        text-align: right;\n",
       "    }\n",
       "</style>\n",
       "<table border=\"1\" class=\"dataframe\">\n",
       "  <thead>\n",
       "    <tr style=\"text-align: right;\">\n",
       "      <th></th>\n",
       "      <th>Unnamed: 0</th>\n",
       "      <th>date_short</th>\n",
       "      <th>shop_no</th>\n",
       "      <th>product_no</th>\n",
       "      <th>demand</th>\n",
       "      <th>is_schoolholiday</th>\n",
       "      <th>is_holiday</th>\n",
       "      <th>is_holiday_next2days</th>\n",
       "      <th>rain_mm</th>\n",
       "      <th>temp_avg_celsius</th>\n",
       "      <th>temp_max</th>\n",
       "      <th>temp_min</th>\n",
       "      <th>promotion_currentweek</th>\n",
       "      <th>promotion_lastweek</th>\n",
       "      <th>weekday</th>\n",
       "      <th>month</th>\n",
       "    </tr>\n",
       "  </thead>\n",
       "  <tbody>\n",
       "    <tr>\n",
       "      <th>0</th>\n",
       "      <td>0</td>\n",
       "      <td>2016-01-02</td>\n",
       "      <td>2</td>\n",
       "      <td>101</td>\n",
       "      <td>254.0</td>\n",
       "      <td>True</td>\n",
       "      <td>False</td>\n",
       "      <td>False</td>\n",
       "      <td>11.9</td>\n",
       "      <td>2.1</td>\n",
       "      <td>2.8</td>\n",
       "      <td>1.4</td>\n",
       "      <td>0</td>\n",
       "      <td>0</td>\n",
       "      <td>5</td>\n",
       "      <td>1</td>\n",
       "    </tr>\n",
       "    <tr>\n",
       "      <th>1</th>\n",
       "      <td>1</td>\n",
       "      <td>2016-01-03</td>\n",
       "      <td>2</td>\n",
       "      <td>101</td>\n",
       "      <td>538.0</td>\n",
       "      <td>True</td>\n",
       "      <td>False</td>\n",
       "      <td>False</td>\n",
       "      <td>4.1</td>\n",
       "      <td>2.6</td>\n",
       "      <td>4.8</td>\n",
       "      <td>1.5</td>\n",
       "      <td>0</td>\n",
       "      <td>0</td>\n",
       "      <td>6</td>\n",
       "      <td>1</td>\n",
       "    </tr>\n",
       "    <tr>\n",
       "      <th>2</th>\n",
       "      <td>2</td>\n",
       "      <td>2016-01-04</td>\n",
       "      <td>2</td>\n",
       "      <td>101</td>\n",
       "      <td>132.0</td>\n",
       "      <td>True</td>\n",
       "      <td>False</td>\n",
       "      <td>True</td>\n",
       "      <td>7.9</td>\n",
       "      <td>3.2</td>\n",
       "      <td>7.0</td>\n",
       "      <td>0.3</td>\n",
       "      <td>0</td>\n",
       "      <td>0</td>\n",
       "      <td>0</td>\n",
       "      <td>1</td>\n",
       "    </tr>\n",
       "    <tr>\n",
       "      <th>3</th>\n",
       "      <td>3</td>\n",
       "      <td>2016-01-05</td>\n",
       "      <td>2</td>\n",
       "      <td>101</td>\n",
       "      <td>154.0</td>\n",
       "      <td>True</td>\n",
       "      <td>False</td>\n",
       "      <td>True</td>\n",
       "      <td>3.5</td>\n",
       "      <td>3.1</td>\n",
       "      <td>5.8</td>\n",
       "      <td>-0.1</td>\n",
       "      <td>0</td>\n",
       "      <td>0</td>\n",
       "      <td>1</td>\n",
       "      <td>1</td>\n",
       "    </tr>\n",
       "    <tr>\n",
       "      <th>4</th>\n",
       "      <td>4</td>\n",
       "      <td>2016-01-06</td>\n",
       "      <td>2</td>\n",
       "      <td>101</td>\n",
       "      <td>331.0</td>\n",
       "      <td>True</td>\n",
       "      <td>True</td>\n",
       "      <td>False</td>\n",
       "      <td>0.1</td>\n",
       "      <td>4.1</td>\n",
       "      <td>7.1</td>\n",
       "      <td>1.5</td>\n",
       "      <td>0</td>\n",
       "      <td>0</td>\n",
       "      <td>2</td>\n",
       "      <td>1</td>\n",
       "    </tr>\n",
       "    <tr>\n",
       "      <th>...</th>\n",
       "      <td>...</td>\n",
       "      <td>...</td>\n",
       "      <td>...</td>\n",
       "      <td>...</td>\n",
       "      <td>...</td>\n",
       "      <td>...</td>\n",
       "      <td>...</td>\n",
       "      <td>...</td>\n",
       "      <td>...</td>\n",
       "      <td>...</td>\n",
       "      <td>...</td>\n",
       "      <td>...</td>\n",
       "      <td>...</td>\n",
       "      <td>...</td>\n",
       "      <td>...</td>\n",
       "      <td>...</td>\n",
       "    </tr>\n",
       "    <tr>\n",
       "      <th>127570</th>\n",
       "      <td>382720</td>\n",
       "      <td>2019-04-26</td>\n",
       "      <td>71</td>\n",
       "      <td>110</td>\n",
       "      <td>40.0</td>\n",
       "      <td>True</td>\n",
       "      <td>False</td>\n",
       "      <td>False</td>\n",
       "      <td>4.9</td>\n",
       "      <td>8.0</td>\n",
       "      <td>9.9</td>\n",
       "      <td>4.5</td>\n",
       "      <td>0</td>\n",
       "      <td>0</td>\n",
       "      <td>4</td>\n",
       "      <td>4</td>\n",
       "    </tr>\n",
       "    <tr>\n",
       "      <th>127571</th>\n",
       "      <td>382721</td>\n",
       "      <td>2019-04-27</td>\n",
       "      <td>71</td>\n",
       "      <td>110</td>\n",
       "      <td>59.0</td>\n",
       "      <td>True</td>\n",
       "      <td>False</td>\n",
       "      <td>False</td>\n",
       "      <td>6.1</td>\n",
       "      <td>7.8</td>\n",
       "      <td>12.7</td>\n",
       "      <td>4.3</td>\n",
       "      <td>0</td>\n",
       "      <td>0</td>\n",
       "      <td>5</td>\n",
       "      <td>4</td>\n",
       "    </tr>\n",
       "    <tr>\n",
       "      <th>127572</th>\n",
       "      <td>382722</td>\n",
       "      <td>2019-04-28</td>\n",
       "      <td>71</td>\n",
       "      <td>110</td>\n",
       "      <td>80.0</td>\n",
       "      <td>False</td>\n",
       "      <td>False</td>\n",
       "      <td>False</td>\n",
       "      <td>1.0</td>\n",
       "      <td>6.5</td>\n",
       "      <td>12.1</td>\n",
       "      <td>0.7</td>\n",
       "      <td>0</td>\n",
       "      <td>0</td>\n",
       "      <td>6</td>\n",
       "      <td>4</td>\n",
       "    </tr>\n",
       "    <tr>\n",
       "      <th>127573</th>\n",
       "      <td>382723</td>\n",
       "      <td>2019-04-29</td>\n",
       "      <td>71</td>\n",
       "      <td>110</td>\n",
       "      <td>65.0</td>\n",
       "      <td>False</td>\n",
       "      <td>False</td>\n",
       "      <td>True</td>\n",
       "      <td>9.1</td>\n",
       "      <td>6.5</td>\n",
       "      <td>12.0</td>\n",
       "      <td>-0.4</td>\n",
       "      <td>0</td>\n",
       "      <td>0</td>\n",
       "      <td>0</td>\n",
       "      <td>4</td>\n",
       "    </tr>\n",
       "    <tr>\n",
       "      <th>127574</th>\n",
       "      <td>382724</td>\n",
       "      <td>2019-04-30</td>\n",
       "      <td>71</td>\n",
       "      <td>110</td>\n",
       "      <td>66.0</td>\n",
       "      <td>False</td>\n",
       "      <td>False</td>\n",
       "      <td>True</td>\n",
       "      <td>0.0</td>\n",
       "      <td>10.3</td>\n",
       "      <td>16.9</td>\n",
       "      <td>3.5</td>\n",
       "      <td>0</td>\n",
       "      <td>0</td>\n",
       "      <td>1</td>\n",
       "      <td>4</td>\n",
       "    </tr>\n",
       "  </tbody>\n",
       "</table>\n",
       "<p>127575 rows × 16 columns</p>\n",
       "</div>"
      ],
      "text/plain": [
       "        Unnamed: 0  date_short  shop_no  product_no  demand  is_schoolholiday  \\\n",
       "0                0  2016-01-02        2         101   254.0              True   \n",
       "1                1  2016-01-03        2         101   538.0              True   \n",
       "2                2  2016-01-04        2         101   132.0              True   \n",
       "3                3  2016-01-05        2         101   154.0              True   \n",
       "4                4  2016-01-06        2         101   331.0              True   \n",
       "...            ...         ...      ...         ...     ...               ...   \n",
       "127570      382720  2019-04-26       71         110    40.0              True   \n",
       "127571      382721  2019-04-27       71         110    59.0              True   \n",
       "127572      382722  2019-04-28       71         110    80.0             False   \n",
       "127573      382723  2019-04-29       71         110    65.0             False   \n",
       "127574      382724  2019-04-30       71         110    66.0             False   \n",
       "\n",
       "        is_holiday  is_holiday_next2days  rain_mm  temp_avg_celsius  temp_max  \\\n",
       "0            False                 False     11.9               2.1       2.8   \n",
       "1            False                 False      4.1               2.6       4.8   \n",
       "2            False                  True      7.9               3.2       7.0   \n",
       "3            False                  True      3.5               3.1       5.8   \n",
       "4             True                 False      0.1               4.1       7.1   \n",
       "...            ...                   ...      ...               ...       ...   \n",
       "127570       False                 False      4.9               8.0       9.9   \n",
       "127571       False                 False      6.1               7.8      12.7   \n",
       "127572       False                 False      1.0               6.5      12.1   \n",
       "127573       False                  True      9.1               6.5      12.0   \n",
       "127574       False                  True      0.0              10.3      16.9   \n",
       "\n",
       "        temp_min  promotion_currentweek  promotion_lastweek  weekday  month  \n",
       "0            1.4                      0                   0        5      1  \n",
       "1            1.5                      0                   0        6      1  \n",
       "2            0.3                      0                   0        0      1  \n",
       "3           -0.1                      0                   0        1      1  \n",
       "4            1.5                      0                   0        2      1  \n",
       "...          ...                    ...                 ...      ...    ...  \n",
       "127570       4.5                      0                   0        4      4  \n",
       "127571       4.3                      0                   0        5      4  \n",
       "127572       0.7                      0                   0        6      4  \n",
       "127573      -0.4                      0                   0        0      4  \n",
       "127574       3.5                      0                   0        1      4  \n",
       "\n",
       "[127575 rows x 16 columns]"
      ]
     },
     "execution_count": 10,
     "metadata": {},
     "output_type": "execute_result"
    }
   ],
   "source": [
    "data"
   ]
  },
  {
   "cell_type": "code",
   "execution_count": 11,
   "metadata": {},
   "outputs": [],
   "source": [
    "data.drop(columns=[\"Unnamed: 0\", \"temp_min\", \"temp_max\"], inplace=True)"
   ]
  },
  {
   "cell_type": "code",
   "execution_count": 12,
   "metadata": {},
   "outputs": [],
   "source": [
    "data['month'] = data['month'].apply(month_to_string)\n",
    "data['weekday'] = data['weekday'].apply(day_to_string)"
   ]
  },
  {
   "cell_type": "code",
   "execution_count": 13,
   "metadata": {},
   "outputs": [],
   "source": [
    "data.rename(columns={\"date_short\": \"date\", \"shop_no\": \"store\", \"product_no\": \"item\", \"temp_avg_celsius\": \"temperature\", \"rain_mm\": \"rain\"}, inplace=True)"
   ]
  },
  {
   "cell_type": "code",
   "execution_count": 15,
   "metadata": {},
   "outputs": [],
   "source": [
    "y = pd.DataFrame(data['demand'])\n",
    "X = data.drop(columns=[\"demand\"])"
   ]
  },
  {
   "cell_type": "markdown",
   "metadata": {},
   "source": [
    "## Add lag features"
   ]
  },
  {
   "cell_type": "code",
   "execution_count": 22,
   "metadata": {},
   "outputs": [
    {
     "data": {
      "text/plain": [
       "{'sum_values': None, 'median': None, 'mean': None, 'standard_deviation': None, 'variance': None, 'root_mean_square': None, 'maximum': None, 'absolute_maximum': None, 'minimum': None}"
      ]
     },
     "execution_count": 22,
     "metadata": {},
     "output_type": "execute_result"
    }
   ],
   "source": [
    "fc_parameters = MinimalFCParameters()\n",
    "del fc_parameters['length']\n",
    "fc_parameters"
   ]
  },
  {
   "cell_type": "code",
   "execution_count": 23,
   "metadata": {},
   "outputs": [
    {
     "name": "stderr",
     "output_type": "stream",
     "text": [
      "Rolling: 100%|██████████| 20/20 [00:14<00:00,  1.40it/s]\n",
      "Feature Extraction: 100%|██████████| 20/20 [00:21<00:00,  1.06s/it]\n",
      "Rolling: 100%|██████████| 20/20 [00:14<00:00,  1.36it/s]\n",
      "Feature Extraction: 100%|██████████| 20/20 [00:21<00:00,  1.06s/it]\n",
      "Rolling: 100%|██████████| 20/20 [00:15<00:00,  1.25it/s]\n",
      "Feature Extraction: 100%|██████████| 20/20 [00:21<00:00,  1.09s/it]\n"
     ]
    }
   ],
   "source": [
    "X, y  = add_lag_features(X, y, column_id=['item',\"store\"], column_sort='date', \n",
    "                        feature_dict=fc_parameters, time_windows = [(7,7),(14,14),(28,28)])"
   ]
  },
  {
   "cell_type": "code",
   "execution_count": 29,
   "metadata": {},
   "outputs": [],
   "source": [
    "X.drop(columns=[\"date\"],inplace=True)"
   ]
  },
  {
   "cell_type": "markdown",
   "metadata": {},
   "source": [
    "## Save final data"
   ]
  },
  {
   "cell_type": "code",
   "execution_count": 33,
   "metadata": {},
   "outputs": [],
   "source": [
    "X.to_csv(\"final/bakery_data.csv.zip\", index=False, compression=\"zip\")\n",
    "y.to_csv(\"final/bakery_target.csv.zip\", index=False, compression=\"zip\")"
   ]
  },
  {
   "cell_type": "code",
   "execution_count": 31,
   "metadata": {},
   "outputs": [
    {
     "data": {
      "text/plain": [
       "Index(['store', 'item', 'is_schoolholiday', 'is_holiday',\n",
       "       'is_holiday_next2days', 'rain', 'temperature', 'promotion_currentweek',\n",
       "       'promotion_lastweek', 'weekday', 'month', 'demand__sum_values_7',\n",
       "       'demand__median_7', 'demand__mean_7', 'demand__standard_deviation_7',\n",
       "       'demand__variance_7', 'demand__root_mean_square_7', 'demand__maximum_7',\n",
       "       'demand__absolute_maximum_7', 'demand__minimum_7',\n",
       "       'demand__sum_values_14', 'demand__median_14', 'demand__mean_14',\n",
       "       'demand__standard_deviation_14', 'demand__variance_14',\n",
       "       'demand__root_mean_square_14', 'demand__maximum_14',\n",
       "       'demand__absolute_maximum_14', 'demand__minimum_14',\n",
       "       'demand__sum_values_28', 'demand__median_28', 'demand__mean_28',\n",
       "       'demand__standard_deviation_28', 'demand__variance_28',\n",
       "       'demand__root_mean_square_28', 'demand__maximum_28',\n",
       "       'demand__absolute_maximum_28', 'demand__minimum_28'],\n",
       "      dtype='object')"
      ]
     },
     "execution_count": 31,
     "metadata": {},
     "output_type": "execute_result"
    }
   ],
   "source": [
    "X.columns"
   ]
  },
  {
   "cell_type": "code",
   "execution_count": null,
   "metadata": {},
   "outputs": [],
   "source": []
  }
 ],
 "metadata": {
  "kernelspec": {
   "display_name": "preprocessing",
   "language": "python",
   "name": "preprocessing"
  },
  "language_info": {
   "codemirror_mode": {
    "name": "ipython",
    "version": 3
   },
   "file_extension": ".py",
   "mimetype": "text/x-python",
   "name": "python",
   "nbconvert_exporter": "python",
   "pygments_lexer": "ipython3",
   "version": "3.8.5"
  }
 },
 "nbformat": 4,
 "nbformat_minor": 4
}
