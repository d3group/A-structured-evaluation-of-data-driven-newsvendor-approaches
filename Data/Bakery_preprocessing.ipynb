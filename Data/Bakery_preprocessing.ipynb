{
 "cells": [
  {
   "cell_type": "markdown",
   "metadata": {},
   "source": [
    "# Bakery Dataset"
   ]
  },
  {
   "cell_type": "code",
   "execution_count": 1,
   "metadata": {},
   "outputs": [
    {
     "name": "stderr",
     "output_type": "stream",
     "text": [
      "/Users/aphil/opt/anaconda3/envs/preprocessing/lib/python3.8/site-packages/statsmodels/compat/pandas.py:65: FutureWarning: pandas.Int64Index is deprecated and will be removed from pandas in a future version. Use pandas.Index with the appropriate dtype instead.\n",
      "  from pandas import Int64Index as NumericIndex\n"
     ]
    }
   ],
   "source": [
    "import pandas as pd\n",
    "import numpy as np\n",
    "from utilities import add_lag_features, day_to_string, month_to_string\n",
    "from tsfresh import extract_features\n",
    "from tsfresh.feature_extraction import MinimalFCParameters"
   ]
  },
  {
   "cell_type": "code",
   "execution_count": 2,
   "metadata": {},
   "outputs": [],
   "source": [
    "data = pd.read_csv(\"raw/Bakery_dataset.csv.zip\")"
   ]
  },
  {
   "cell_type": "markdown",
   "metadata": {},
   "source": [
    "## Preprocessing"
   ]
  },
  {
   "cell_type": "code",
   "execution_count": 3,
   "metadata": {},
   "outputs": [],
   "source": [
    "data.drop(columns=[\"Unnamed: 0\", \"temp_min\", \"temp_max\"], inplace=True)"
   ]
  },
  {
   "cell_type": "code",
   "execution_count": 4,
   "metadata": {},
   "outputs": [],
   "source": [
    "data.rename(columns={\"date_short\": \"date\", \"shop_no\": \"store\", \"product_no\": \"item\", \"temp_avg_celsius\": \"temperature\", \"rain_mm\": \"rain\"}, inplace=True)"
   ]
  },
  {
   "cell_type": "markdown",
   "metadata": {},
   "source": [
    "## Check for intermittend demand"
   ]
  },
  {
   "cell_type": "markdown",
   "metadata": {},
   "source": [
    "Since we want to avoid intermittent demand, we select only the time series with less than 20 percent zero salesdata_grouped = data.groupby([\"store\", \"item\"])\n",
    "groups = list(data_grouped.groups.keys())"
   ]
  },
  {
   "cell_type": "code",
   "execution_count": 5,
   "metadata": {},
   "outputs": [],
   "source": [
    "data_grouped = data.groupby([\"store\", \"item\"])\n",
    "groups = list(data_grouped.groups.keys())"
   ]
  },
  {
   "cell_type": "code",
   "execution_count": 6,
   "metadata": {
    "tags": []
   },
   "outputs": [],
   "source": [
    "# get all store/item instances with more than 20 percent zero sales\n",
    "more_than_20_p_zero = []\n",
    "for group in groups:\n",
    "    data_temp = data_grouped.get_group(group)\n",
    "    zero = data_temp[data_temp[\"demand\"]==0].shape[0]\n",
    "    non_zero = data_temp[data_temp[\"demand\"]!=0].shape[0]\n",
    "    if zero/(non_zero+zero) >= 0.2:\n",
    "        more_than_20_p_zero.append(group)"
   ]
  },
  {
   "cell_type": "code",
   "execution_count": 7,
   "metadata": {},
   "outputs": [],
   "source": [
    "# drop zero sales instances\n",
    "for group in more_than_20_p_zero:\n",
    "    data = data.drop(data_grouped.get_group(group).index)"
   ]
  },
  {
   "cell_type": "markdown",
   "metadata": {},
   "source": [
    "## Add and formate calendar features"
   ]
  },
  {
   "cell_type": "code",
   "execution_count": 8,
   "metadata": {
    "tags": []
   },
   "outputs": [],
   "source": [
    "data['date'] =  pd.to_datetime(data['date'], format='%Y-%m-%d')"
   ]
  },
  {
   "cell_type": "code",
   "execution_count": 9,
   "metadata": {},
   "outputs": [],
   "source": [
    "data['year'] = data['date'].dt.year\n",
    "data['month'] = data['month'].apply(month_to_string)\n",
    "data['weekday'] = data['weekday'].apply(day_to_string)"
   ]
  },
  {
   "cell_type": "code",
   "execution_count": 10,
   "metadata": {},
   "outputs": [],
   "source": [
    "y = pd.DataFrame(data['demand'])\n",
    "X = data.drop(columns=[\"demand\"])"
   ]
  },
  {
   "cell_type": "markdown",
   "metadata": {},
   "source": [
    "## Add lag features"
   ]
  },
  {
   "cell_type": "code",
   "execution_count": 11,
   "metadata": {},
   "outputs": [
    {
     "data": {
      "text/plain": [
       "{'sum_values': None, 'median': None, 'mean': None, 'standard_deviation': None, 'variance': None, 'root_mean_square': None, 'maximum': None, 'absolute_maximum': None, 'minimum': None}"
      ]
     },
     "execution_count": 11,
     "metadata": {},
     "output_type": "execute_result"
    }
   ],
   "source": [
    "fc_parameters = MinimalFCParameters()\n",
    "del fc_parameters['length']\n",
    "fc_parameters"
   ]
  },
  {
   "cell_type": "code",
   "execution_count": 12,
   "metadata": {},
   "outputs": [
    {
     "name": "stderr",
     "output_type": "stream",
     "text": [
      "Rolling: 100%|██████████| 20/20 [00:12<00:00,  1.54it/s]\n",
      "Feature Extraction: 100%|██████████| 20/20 [00:25<00:00,  1.29s/it]\n",
      "Rolling: 100%|██████████| 20/20 [00:13<00:00,  1.47it/s]\n",
      "Feature Extraction: 100%|██████████| 20/20 [00:24<00:00,  1.24s/it]\n",
      "Rolling: 100%|██████████| 20/20 [00:15<00:00,  1.29it/s]\n",
      "Feature Extraction: 100%|██████████| 20/20 [00:24<00:00,  1.23s/it]\n"
     ]
    }
   ],
   "source": [
    "X, y  = add_lag_features(X, y, column_id=['item',\"store\"], column_sort='date', \n",
    "                        feature_dict=fc_parameters, time_windows = [(7,7),(14,14),(28,28)])"
   ]
  },
  {
   "cell_type": "code",
   "execution_count": 13,
   "metadata": {},
   "outputs": [],
   "source": [
    "X.drop(columns=[\"date\"],inplace=True)"
   ]
  },
  {
   "cell_type": "markdown",
   "metadata": {},
   "source": [
    "## Save final data"
   ]
  },
  {
   "cell_type": "code",
   "execution_count": 14,
   "metadata": {},
   "outputs": [],
   "source": [
    "X.to_csv(\"final/bakery_data.csv.zip\", index=False, compression=\"zip\")\n",
    "y.to_csv(\"final/bakery_target.csv.zip\", index=False, compression=\"zip\")"
   ]
  }
 ],
 "metadata": {
  "kernelspec": {
   "display_name": "preprocessing",
   "language": "python",
   "name": "preprocessing"
  },
  "language_info": {
   "codemirror_mode": {
    "name": "ipython",
    "version": 3
   },
   "file_extension": ".py",
   "mimetype": "text/x-python",
   "name": "python",
   "nbconvert_exporter": "python",
   "pygments_lexer": "ipython3",
   "version": "3.8.5"
  }
 },
 "nbformat": 4,
 "nbformat_minor": 4
}
