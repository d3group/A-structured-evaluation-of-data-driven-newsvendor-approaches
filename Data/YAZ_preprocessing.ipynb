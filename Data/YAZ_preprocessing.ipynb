{
 "cells": [
  {
   "cell_type": "markdown",
   "id": "33a4ad73-9f53-4898-9e01-9e8195cc38aa",
   "metadata": {},
   "source": [
    "# YAZ Dataset"
   ]
  },
  {
   "cell_type": "code",
   "execution_count": 1,
   "id": "375496eb-075c-4f47-ab65-d4a19c313b28",
   "metadata": {},
   "outputs": [
    {
     "name": "stderr",
     "output_type": "stream",
     "text": [
      "/Users/aphil/opt/anaconda3/envs/preprocessing/lib/python3.8/site-packages/statsmodels/compat/pandas.py:65: FutureWarning: pandas.Int64Index is deprecated and will be removed from pandas in a future version. Use pandas.Index with the appropriate dtype instead.\n",
      "  from pandas import Int64Index as NumericIndex\n"
     ]
    }
   ],
   "source": [
    "import pandas as pd\n",
    "from utilities import add_lag_features\n",
    "from tsfresh.feature_extraction import MinimalFCParameters"
   ]
  },
  {
   "cell_type": "code",
   "execution_count": 16,
   "id": "5b7b04bf-ed24-458a-97c8-6ff8d67a3ce8",
   "metadata": {},
   "outputs": [],
   "source": [
    "data = pd.read_csv(\"raw/YAZ_dataset.csv.zip\")"
   ]
  },
  {
   "cell_type": "code",
   "execution_count": 3,
   "id": "e288a91d-c893-49f0-882c-af856146dc1e",
   "metadata": {},
   "outputs": [],
   "source": [
    "X = data.iloc[:, 0:11]\n",
    "y = data.iloc[:, 11:]"
   ]
  },
  {
   "cell_type": "code",
   "execution_count": 4,
   "id": "002dfd23-fec0-42af-bc9a-b7fc1b27a23e",
   "metadata": {},
   "outputs": [],
   "source": [
    "data = pd.DataFrame()\n",
    "for col in y.columns:\n",
    "    X_temp = X\n",
    "    X_temp[\"item\"] = col\n",
    "    X_temp[\"store\"] = 1\n",
    "    y_temp = y[col]\n",
    "    data_temp = pd.concat([X_temp, y_temp], axis=1)\n",
    "    data_temp.rename(columns={col: \"demand\"}, inplace=True)\n",
    "    data = pd.concat([data, data_temp])\n",
    "data.reset_index(inplace=True)\n",
    "data.sort_values(by = ['index', 'item'], inplace=True)\n",
    "data.reset_index(inplace=True, drop=True)"
   ]
  },
  {
   "cell_type": "code",
   "execution_count": 5,
   "id": "8484b2b2-7a04-4853-a7c5-9a4f5c1c1ece",
   "metadata": {},
   "outputs": [
    {
     "data": {
      "text/html": [
       "<div>\n",
       "<style scoped>\n",
       "    .dataframe tbody tr th:only-of-type {\n",
       "        vertical-align: middle;\n",
       "    }\n",
       "\n",
       "    .dataframe tbody tr th {\n",
       "        vertical-align: top;\n",
       "    }\n",
       "\n",
       "    .dataframe thead th {\n",
       "        text-align: right;\n",
       "    }\n",
       "</style>\n",
       "<table border=\"1\" class=\"dataframe\">\n",
       "  <thead>\n",
       "    <tr style=\"text-align: right;\">\n",
       "      <th></th>\n",
       "      <th>index</th>\n",
       "      <th>weekday</th>\n",
       "      <th>month</th>\n",
       "      <th>year</th>\n",
       "      <th>is_holiday</th>\n",
       "      <th>is_closed</th>\n",
       "      <th>weekend</th>\n",
       "      <th>wind</th>\n",
       "      <th>clouds</th>\n",
       "      <th>rain</th>\n",
       "      <th>sunshine</th>\n",
       "      <th>temperature</th>\n",
       "      <th>item</th>\n",
       "      <th>store</th>\n",
       "      <th>demand</th>\n",
       "    </tr>\n",
       "  </thead>\n",
       "  <tbody>\n",
       "    <tr>\n",
       "      <th>0</th>\n",
       "      <td>0</td>\n",
       "      <td>FRI</td>\n",
       "      <td>OCT</td>\n",
       "      <td>2013</td>\n",
       "      <td>0</td>\n",
       "      <td>0</td>\n",
       "      <td>0</td>\n",
       "      <td>1.9</td>\n",
       "      <td>7.7</td>\n",
       "      <td>0.1</td>\n",
       "      <td>150</td>\n",
       "      <td>15.9</td>\n",
       "      <td>calamari</td>\n",
       "      <td>1</td>\n",
       "      <td>6</td>\n",
       "    </tr>\n",
       "    <tr>\n",
       "      <th>1</th>\n",
       "      <td>0</td>\n",
       "      <td>FRI</td>\n",
       "      <td>OCT</td>\n",
       "      <td>2013</td>\n",
       "      <td>0</td>\n",
       "      <td>0</td>\n",
       "      <td>0</td>\n",
       "      <td>1.9</td>\n",
       "      <td>7.7</td>\n",
       "      <td>0.1</td>\n",
       "      <td>150</td>\n",
       "      <td>15.9</td>\n",
       "      <td>chicken</td>\n",
       "      <td>1</td>\n",
       "      <td>40</td>\n",
       "    </tr>\n",
       "    <tr>\n",
       "      <th>2</th>\n",
       "      <td>0</td>\n",
       "      <td>FRI</td>\n",
       "      <td>OCT</td>\n",
       "      <td>2013</td>\n",
       "      <td>0</td>\n",
       "      <td>0</td>\n",
       "      <td>0</td>\n",
       "      <td>1.9</td>\n",
       "      <td>7.7</td>\n",
       "      <td>0.1</td>\n",
       "      <td>150</td>\n",
       "      <td>15.9</td>\n",
       "      <td>fish</td>\n",
       "      <td>1</td>\n",
       "      <td>6</td>\n",
       "    </tr>\n",
       "    <tr>\n",
       "      <th>3</th>\n",
       "      <td>0</td>\n",
       "      <td>FRI</td>\n",
       "      <td>OCT</td>\n",
       "      <td>2013</td>\n",
       "      <td>0</td>\n",
       "      <td>0</td>\n",
       "      <td>0</td>\n",
       "      <td>1.9</td>\n",
       "      <td>7.7</td>\n",
       "      <td>0.1</td>\n",
       "      <td>150</td>\n",
       "      <td>15.9</td>\n",
       "      <td>koefte</td>\n",
       "      <td>1</td>\n",
       "      <td>23</td>\n",
       "    </tr>\n",
       "    <tr>\n",
       "      <th>4</th>\n",
       "      <td>0</td>\n",
       "      <td>FRI</td>\n",
       "      <td>OCT</td>\n",
       "      <td>2013</td>\n",
       "      <td>0</td>\n",
       "      <td>0</td>\n",
       "      <td>0</td>\n",
       "      <td>1.9</td>\n",
       "      <td>7.7</td>\n",
       "      <td>0.1</td>\n",
       "      <td>150</td>\n",
       "      <td>15.9</td>\n",
       "      <td>lamb</td>\n",
       "      <td>1</td>\n",
       "      <td>50</td>\n",
       "    </tr>\n",
       "    <tr>\n",
       "      <th>...</th>\n",
       "      <td>...</td>\n",
       "      <td>...</td>\n",
       "      <td>...</td>\n",
       "      <td>...</td>\n",
       "      <td>...</td>\n",
       "      <td>...</td>\n",
       "      <td>...</td>\n",
       "      <td>...</td>\n",
       "      <td>...</td>\n",
       "      <td>...</td>\n",
       "      <td>...</td>\n",
       "      <td>...</td>\n",
       "      <td>...</td>\n",
       "      <td>...</td>\n",
       "      <td>...</td>\n",
       "    </tr>\n",
       "    <tr>\n",
       "      <th>5350</th>\n",
       "      <td>764</td>\n",
       "      <td>SAT</td>\n",
       "      <td>NOV</td>\n",
       "      <td>2015</td>\n",
       "      <td>0</td>\n",
       "      <td>0</td>\n",
       "      <td>1</td>\n",
       "      <td>1.9</td>\n",
       "      <td>5.6</td>\n",
       "      <td>0.0</td>\n",
       "      <td>46</td>\n",
       "      <td>17.3</td>\n",
       "      <td>fish</td>\n",
       "      <td>1</td>\n",
       "      <td>2</td>\n",
       "    </tr>\n",
       "    <tr>\n",
       "      <th>5351</th>\n",
       "      <td>764</td>\n",
       "      <td>SAT</td>\n",
       "      <td>NOV</td>\n",
       "      <td>2015</td>\n",
       "      <td>0</td>\n",
       "      <td>0</td>\n",
       "      <td>1</td>\n",
       "      <td>1.9</td>\n",
       "      <td>5.6</td>\n",
       "      <td>0.0</td>\n",
       "      <td>46</td>\n",
       "      <td>17.3</td>\n",
       "      <td>koefte</td>\n",
       "      <td>1</td>\n",
       "      <td>25</td>\n",
       "    </tr>\n",
       "    <tr>\n",
       "      <th>5352</th>\n",
       "      <td>764</td>\n",
       "      <td>SAT</td>\n",
       "      <td>NOV</td>\n",
       "      <td>2015</td>\n",
       "      <td>0</td>\n",
       "      <td>0</td>\n",
       "      <td>1</td>\n",
       "      <td>1.9</td>\n",
       "      <td>5.6</td>\n",
       "      <td>0.0</td>\n",
       "      <td>46</td>\n",
       "      <td>17.3</td>\n",
       "      <td>lamb</td>\n",
       "      <td>1</td>\n",
       "      <td>6</td>\n",
       "    </tr>\n",
       "    <tr>\n",
       "      <th>5353</th>\n",
       "      <td>764</td>\n",
       "      <td>SAT</td>\n",
       "      <td>NOV</td>\n",
       "      <td>2015</td>\n",
       "      <td>0</td>\n",
       "      <td>0</td>\n",
       "      <td>1</td>\n",
       "      <td>1.9</td>\n",
       "      <td>5.6</td>\n",
       "      <td>0.0</td>\n",
       "      <td>46</td>\n",
       "      <td>17.3</td>\n",
       "      <td>shrimp</td>\n",
       "      <td>1</td>\n",
       "      <td>2</td>\n",
       "    </tr>\n",
       "    <tr>\n",
       "      <th>5354</th>\n",
       "      <td>764</td>\n",
       "      <td>SAT</td>\n",
       "      <td>NOV</td>\n",
       "      <td>2015</td>\n",
       "      <td>0</td>\n",
       "      <td>0</td>\n",
       "      <td>1</td>\n",
       "      <td>1.9</td>\n",
       "      <td>5.6</td>\n",
       "      <td>0.0</td>\n",
       "      <td>46</td>\n",
       "      <td>17.3</td>\n",
       "      <td>steak</td>\n",
       "      <td>1</td>\n",
       "      <td>20</td>\n",
       "    </tr>\n",
       "  </tbody>\n",
       "</table>\n",
       "<p>5355 rows × 15 columns</p>\n",
       "</div>"
      ],
      "text/plain": [
       "      index weekday month  year  is_holiday  is_closed  weekend  wind  clouds  \\\n",
       "0         0     FRI   OCT  2013           0          0        0   1.9     7.7   \n",
       "1         0     FRI   OCT  2013           0          0        0   1.9     7.7   \n",
       "2         0     FRI   OCT  2013           0          0        0   1.9     7.7   \n",
       "3         0     FRI   OCT  2013           0          0        0   1.9     7.7   \n",
       "4         0     FRI   OCT  2013           0          0        0   1.9     7.7   \n",
       "...     ...     ...   ...   ...         ...        ...      ...   ...     ...   \n",
       "5350    764     SAT   NOV  2015           0          0        1   1.9     5.6   \n",
       "5351    764     SAT   NOV  2015           0          0        1   1.9     5.6   \n",
       "5352    764     SAT   NOV  2015           0          0        1   1.9     5.6   \n",
       "5353    764     SAT   NOV  2015           0          0        1   1.9     5.6   \n",
       "5354    764     SAT   NOV  2015           0          0        1   1.9     5.6   \n",
       "\n",
       "      rain  sunshine  temperature      item  store  demand  \n",
       "0      0.1       150         15.9  calamari      1       6  \n",
       "1      0.1       150         15.9   chicken      1      40  \n",
       "2      0.1       150         15.9      fish      1       6  \n",
       "3      0.1       150         15.9    koefte      1      23  \n",
       "4      0.1       150         15.9      lamb      1      50  \n",
       "...    ...       ...          ...       ...    ...     ...  \n",
       "5350   0.0        46         17.3      fish      1       2  \n",
       "5351   0.0        46         17.3    koefte      1      25  \n",
       "5352   0.0        46         17.3      lamb      1       6  \n",
       "5353   0.0        46         17.3    shrimp      1       2  \n",
       "5354   0.0        46         17.3     steak      1      20  \n",
       "\n",
       "[5355 rows x 15 columns]"
      ]
     },
     "execution_count": 5,
     "metadata": {},
     "output_type": "execute_result"
    }
   ],
   "source": [
    "data"
   ]
  },
  {
   "cell_type": "markdown",
   "id": "aa8270e8-5056-4e25-aac7-91e9a2044c0d",
   "metadata": {},
   "source": [
    "## Add lag features"
   ]
  },
  {
   "cell_type": "code",
   "execution_count": 6,
   "id": "dcb74a27-1d09-4339-b0f7-bf0dc8625d46",
   "metadata": {},
   "outputs": [],
   "source": [
    "#split in X and y \n",
    "y = pd.DataFrame(data['demand'])\n",
    "X = data.drop(columns=['demand'])"
   ]
  },
  {
   "cell_type": "code",
   "execution_count": 7,
   "id": "c534b6bd-3025-4f40-9c4d-900c0c7b3954",
   "metadata": {},
   "outputs": [],
   "source": [
    "# set lag features\n",
    "fc_parameters = MinimalFCParameters()"
   ]
  },
  {
   "cell_type": "code",
   "execution_count": 8,
   "id": "a638820a-30ff-49e6-a63b-005facb3d1ab",
   "metadata": {},
   "outputs": [],
   "source": [
    "# delete length features\n",
    "del fc_parameters['length']"
   ]
  },
  {
   "cell_type": "code",
   "execution_count": 9,
   "id": "8f9c10dd-4280-44f2-b8dd-2c7c21c5b239",
   "metadata": {},
   "outputs": [
    {
     "name": "stdout",
     "output_type": "stream",
     "text": [
      "Lag features: {'sum_values': None, 'median': None, 'mean': None, 'standard_deviation': None, 'variance': None, 'root_mean_square': None, 'maximum': None, 'absolute_maximum': None, 'minimum': None}\n"
     ]
    }
   ],
   "source": [
    "# print all lag features\n",
    "print(\"Lag features:\", fc_parameters)"
   ]
  },
  {
   "cell_type": "code",
   "execution_count": 10,
   "id": "326aa216-d6aa-4ec0-b01b-dd24b9e73ad0",
   "metadata": {},
   "outputs": [
    {
     "name": "stderr",
     "output_type": "stream",
     "text": [
      "Rolling: 100%|██████████| 20/20 [00:02<00:00,  9.01it/s]\n",
      "Feature Extraction: 100%|██████████| 20/20 [00:02<00:00,  8.10it/s]\n",
      "Rolling: 100%|██████████| 20/20 [00:02<00:00,  9.03it/s]\n",
      "Feature Extraction: 100%|██████████| 20/20 [00:02<00:00,  8.21it/s]\n",
      "Rolling: 100%|██████████| 20/20 [00:02<00:00,  9.04it/s]\n",
      "Feature Extraction: 100%|██████████| 20/20 [00:02<00:00,  8.31it/s]\n"
     ]
    }
   ],
   "source": [
    "# create lag features\n",
    "X, y  = add_lag_features(X=X, y=y, column_id=['item',\"store\"], column_sort='index', \n",
    "                        feature_dict=fc_parameters, time_windows = [(7,7),(14,14),(28,28)])"
   ]
  },
  {
   "cell_type": "code",
   "execution_count": 11,
   "id": "ef040668-6901-4f32-9db3-508555a3ee98",
   "metadata": {},
   "outputs": [],
   "source": [
    "X.drop(columns=[\"index\"],inplace=True)"
   ]
  },
  {
   "cell_type": "markdown",
   "id": "ca8e63c4-9046-4e71-89a3-822a02d3fc77",
   "metadata": {},
   "source": [
    "## Save final data"
   ]
  },
  {
   "cell_type": "code",
   "execution_count": 12,
   "id": "229d7f97-0296-4f6c-8700-41f53ebfa625",
   "metadata": {},
   "outputs": [],
   "source": [
    "X.to_csv(\"final/yaz_data.csv.zip\", index=False, compression=\"zip\")\n",
    "y.to_csv(\"final/yaz_target.csv.zip\", index=False, compression=\"zip\")"
   ]
  },
  {
   "cell_type": "code",
   "execution_count": 13,
   "id": "096e8eee-aa23-4a26-8734-202b10c9a13e",
   "metadata": {},
   "outputs": [
    {
     "data": {
      "text/plain": [
       "Index(['weekday', 'month', 'year', 'is_holiday', 'is_closed', 'weekend',\n",
       "       'wind', 'clouds', 'rain', 'sunshine', 'temperature', 'item', 'store',\n",
       "       'demand__sum_values_7', 'demand__median_7', 'demand__mean_7',\n",
       "       'demand__standard_deviation_7', 'demand__variance_7',\n",
       "       'demand__root_mean_square_7', 'demand__maximum_7',\n",
       "       'demand__absolute_maximum_7', 'demand__minimum_7',\n",
       "       'demand__sum_values_14', 'demand__median_14', 'demand__mean_14',\n",
       "       'demand__standard_deviation_14', 'demand__variance_14',\n",
       "       'demand__root_mean_square_14', 'demand__maximum_14',\n",
       "       'demand__absolute_maximum_14', 'demand__minimum_14',\n",
       "       'demand__sum_values_28', 'demand__median_28', 'demand__mean_28',\n",
       "       'demand__standard_deviation_28', 'demand__variance_28',\n",
       "       'demand__root_mean_square_28', 'demand__maximum_28',\n",
       "       'demand__absolute_maximum_28', 'demand__minimum_28'],\n",
       "      dtype='object')"
      ]
     },
     "execution_count": 13,
     "metadata": {},
     "output_type": "execute_result"
    }
   ],
   "source": [
    "X.columns"
   ]
  }
 ],
 "metadata": {
  "kernelspec": {
   "display_name": "preprocessing",
   "language": "python",
   "name": "preprocessing"
  },
  "language_info": {
   "codemirror_mode": {
    "name": "ipython",
    "version": 3
   },
   "file_extension": ".py",
   "mimetype": "text/x-python",
   "name": "python",
   "nbconvert_exporter": "python",
   "pygments_lexer": "ipython3",
   "version": "3.8.5"
  }
 },
 "nbformat": 4,
 "nbformat_minor": 5
}
