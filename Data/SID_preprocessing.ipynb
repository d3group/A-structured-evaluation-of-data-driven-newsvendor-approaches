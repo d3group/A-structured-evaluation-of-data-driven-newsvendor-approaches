{
 "cells": [
  {
   "cell_type": "markdown",
   "id": "ac72432f-6cb0-41c9-978b-17e2e116f5cf",
   "metadata": {},
   "source": [
    "# SID Dataset"
   ]
  },
  {
   "cell_type": "markdown",
   "id": "68f3b710-8320-4ea7-83ca-9ad5fdc83b61",
   "metadata": {},
   "source": [
    "For our experiment, we use a relatively simple and clean dataset including 5 years of store-item sales data. The dataset was also used in the Store Item Demand Forecasting Challenge on Kaggle. In this notebook, we preprocess the original data for our experiment. "
   ]
  },
  {
   "cell_type": "markdown",
   "id": "afdaced0-b484-4dba-a161-7620e391115a",
   "metadata": {},
   "source": [
    "## Install and import packages"
   ]
  },
  {
   "cell_type": "code",
   "execution_count": null,
   "id": "da7bbd4a-52f8-4ad3-a47d-ece06c7395bc",
   "metadata": {},
   "outputs": [],
   "source": [
    "# pip install numpy, pandas"
   ]
  },
  {
   "cell_type": "code",
   "execution_count": 1,
   "id": "111b7eae-a2b4-4146-865e-b100c6c85223",
   "metadata": {},
   "outputs": [
    {
     "name": "stderr",
     "output_type": "stream",
     "text": [
      "/Users/aphil/opt/anaconda3/envs/preprocessing/lib/python3.8/site-packages/statsmodels/compat/pandas.py:65: FutureWarning: pandas.Int64Index is deprecated and will be removed from pandas in a future version. Use pandas.Index with the appropriate dtype instead.\n",
      "  from pandas import Int64Index as NumericIndex\n"
     ]
    }
   ],
   "source": [
    "import numpy as np\n",
    "import pandas as pd\n",
    "from datetime import date\n",
    "import calendar\n",
    "from utilities import add_lag_features, day_to_string, month_to_string\n",
    "from tsfresh import extract_features\n",
    "from tsfresh.feature_extraction import MinimalFCParameters\n",
    "from tsfresh.utilities.dataframe_functions import roll_time_series"
   ]
  },
  {
   "cell_type": "markdown",
   "id": "460d9b56-3bf4-4160-a6d0-230833939782",
   "metadata": {},
   "source": [
    "## Get data"
   ]
  },
  {
   "cell_type": "code",
   "execution_count": 13,
   "id": "e0e434b6-7f6a-434f-8a7d-a51feea8c7e6",
   "metadata": {},
   "outputs": [],
   "source": [
    "# load data\n",
    "data = pd.read_csv(\"raw/SID_dataset.csv\")"
   ]
  },
  {
   "cell_type": "code",
   "execution_count": 14,
   "id": "1ed23735-2cf5-4754-9713-819045e7739c",
   "metadata": {},
   "outputs": [
    {
     "data": {
      "text/html": [
       "<div>\n",
       "<style scoped>\n",
       "    .dataframe tbody tr th:only-of-type {\n",
       "        vertical-align: middle;\n",
       "    }\n",
       "\n",
       "    .dataframe tbody tr th {\n",
       "        vertical-align: top;\n",
       "    }\n",
       "\n",
       "    .dataframe thead th {\n",
       "        text-align: right;\n",
       "    }\n",
       "</style>\n",
       "<table border=\"1\" class=\"dataframe\">\n",
       "  <thead>\n",
       "    <tr style=\"text-align: right;\">\n",
       "      <th></th>\n",
       "      <th>date</th>\n",
       "      <th>store</th>\n",
       "      <th>item</th>\n",
       "      <th>sales</th>\n",
       "    </tr>\n",
       "  </thead>\n",
       "  <tbody>\n",
       "    <tr>\n",
       "      <th>0</th>\n",
       "      <td>2013-01-01</td>\n",
       "      <td>1</td>\n",
       "      <td>1</td>\n",
       "      <td>13</td>\n",
       "    </tr>\n",
       "    <tr>\n",
       "      <th>1</th>\n",
       "      <td>2013-01-02</td>\n",
       "      <td>1</td>\n",
       "      <td>1</td>\n",
       "      <td>11</td>\n",
       "    </tr>\n",
       "    <tr>\n",
       "      <th>2</th>\n",
       "      <td>2013-01-03</td>\n",
       "      <td>1</td>\n",
       "      <td>1</td>\n",
       "      <td>14</td>\n",
       "    </tr>\n",
       "    <tr>\n",
       "      <th>3</th>\n",
       "      <td>2013-01-04</td>\n",
       "      <td>1</td>\n",
       "      <td>1</td>\n",
       "      <td>13</td>\n",
       "    </tr>\n",
       "    <tr>\n",
       "      <th>4</th>\n",
       "      <td>2013-01-05</td>\n",
       "      <td>1</td>\n",
       "      <td>1</td>\n",
       "      <td>10</td>\n",
       "    </tr>\n",
       "    <tr>\n",
       "      <th>...</th>\n",
       "      <td>...</td>\n",
       "      <td>...</td>\n",
       "      <td>...</td>\n",
       "      <td>...</td>\n",
       "    </tr>\n",
       "    <tr>\n",
       "      <th>912995</th>\n",
       "      <td>2017-12-27</td>\n",
       "      <td>10</td>\n",
       "      <td>50</td>\n",
       "      <td>63</td>\n",
       "    </tr>\n",
       "    <tr>\n",
       "      <th>912996</th>\n",
       "      <td>2017-12-28</td>\n",
       "      <td>10</td>\n",
       "      <td>50</td>\n",
       "      <td>59</td>\n",
       "    </tr>\n",
       "    <tr>\n",
       "      <th>912997</th>\n",
       "      <td>2017-12-29</td>\n",
       "      <td>10</td>\n",
       "      <td>50</td>\n",
       "      <td>74</td>\n",
       "    </tr>\n",
       "    <tr>\n",
       "      <th>912998</th>\n",
       "      <td>2017-12-30</td>\n",
       "      <td>10</td>\n",
       "      <td>50</td>\n",
       "      <td>62</td>\n",
       "    </tr>\n",
       "    <tr>\n",
       "      <th>912999</th>\n",
       "      <td>2017-12-31</td>\n",
       "      <td>10</td>\n",
       "      <td>50</td>\n",
       "      <td>82</td>\n",
       "    </tr>\n",
       "  </tbody>\n",
       "</table>\n",
       "<p>913000 rows × 4 columns</p>\n",
       "</div>"
      ],
      "text/plain": [
       "              date  store  item  sales\n",
       "0       2013-01-01      1     1     13\n",
       "1       2013-01-02      1     1     11\n",
       "2       2013-01-03      1     1     14\n",
       "3       2013-01-04      1     1     13\n",
       "4       2013-01-05      1     1     10\n",
       "...            ...    ...   ...    ...\n",
       "912995  2017-12-27     10    50     63\n",
       "912996  2017-12-28     10    50     59\n",
       "912997  2017-12-29     10    50     74\n",
       "912998  2017-12-30     10    50     62\n",
       "912999  2017-12-31     10    50     82\n",
       "\n",
       "[913000 rows x 4 columns]"
      ]
     },
     "execution_count": 14,
     "metadata": {},
     "output_type": "execute_result"
    }
   ],
   "source": [
    "# look at data\n",
    "data"
   ]
  },
  {
   "cell_type": "code",
   "execution_count": 16,
   "id": "5ae0490a-b0fc-4703-8850-dd241f5869a8",
   "metadata": {},
   "outputs": [],
   "source": [
    "data.rename(columns={\"sales\": \"demand\"}, inplace=True)"
   ]
  },
  {
   "cell_type": "code",
   "execution_count": 17,
   "id": "0bce58ab-368b-4b24-b642-50bc17428c83",
   "metadata": {},
   "outputs": [],
   "source": [
    "# split in X and y\n",
    "X = data.drop(columns=[\"demand\"])\n",
    "y = data[[\"demand\"]]"
   ]
  },
  {
   "cell_type": "markdown",
   "id": "0eb0fd80-6745-48e6-9a72-d810223ccf57",
   "metadata": {},
   "source": [
    "## Calendar features"
   ]
  },
  {
   "cell_type": "code",
   "execution_count": 18,
   "id": "8714d695-8628-49ee-aeee-99efd1b2de50",
   "metadata": {},
   "outputs": [],
   "source": [
    "# convert to date column to datetime\n",
    "X['date'] =  pd.to_datetime(X['date'], format='%Y-%m-%d')"
   ]
  },
  {
   "cell_type": "code",
   "execution_count": 19,
   "id": "267f93de-1ec4-41ce-a659-d3b042725f88",
   "metadata": {},
   "outputs": [],
   "source": [
    "# cleare column for month, weekday, and year\n",
    "X['month'] = X['date'].dt.month\n",
    "X[\"weekday\"] = X[\"date\"].dt.dayofweek+1\n",
    "X['year'] = X['date'].dt.year"
   ]
  },
  {
   "cell_type": "code",
   "execution_count": 20,
   "id": "3e86ea48-2c12-4b60-b5c4-ecfc1739bd50",
   "metadata": {},
   "outputs": [],
   "source": [
    "X['month'] = X['month'].apply(month_to_string)\n",
    "X['weekday'] = X['weekday'].apply(day_to_string)"
   ]
  },
  {
   "cell_type": "code",
   "execution_count": 21,
   "id": "c9274a15-dc05-4b05-913f-5c9eb42176c7",
   "metadata": {},
   "outputs": [
    {
     "data": {
      "text/html": [
       "<div>\n",
       "<style scoped>\n",
       "    .dataframe tbody tr th:only-of-type {\n",
       "        vertical-align: middle;\n",
       "    }\n",
       "\n",
       "    .dataframe tbody tr th {\n",
       "        vertical-align: top;\n",
       "    }\n",
       "\n",
       "    .dataframe thead th {\n",
       "        text-align: right;\n",
       "    }\n",
       "</style>\n",
       "<table border=\"1\" class=\"dataframe\">\n",
       "  <thead>\n",
       "    <tr style=\"text-align: right;\">\n",
       "      <th></th>\n",
       "      <th>date</th>\n",
       "      <th>store</th>\n",
       "      <th>item</th>\n",
       "      <th>month</th>\n",
       "      <th>weekday</th>\n",
       "      <th>year</th>\n",
       "    </tr>\n",
       "  </thead>\n",
       "  <tbody>\n",
       "    <tr>\n",
       "      <th>0</th>\n",
       "      <td>2013-01-01</td>\n",
       "      <td>1</td>\n",
       "      <td>1</td>\n",
       "      <td>JAN</td>\n",
       "      <td>TUE</td>\n",
       "      <td>2013</td>\n",
       "    </tr>\n",
       "    <tr>\n",
       "      <th>1</th>\n",
       "      <td>2013-01-02</td>\n",
       "      <td>1</td>\n",
       "      <td>1</td>\n",
       "      <td>JAN</td>\n",
       "      <td>WED</td>\n",
       "      <td>2013</td>\n",
       "    </tr>\n",
       "    <tr>\n",
       "      <th>2</th>\n",
       "      <td>2013-01-03</td>\n",
       "      <td>1</td>\n",
       "      <td>1</td>\n",
       "      <td>JAN</td>\n",
       "      <td>THU</td>\n",
       "      <td>2013</td>\n",
       "    </tr>\n",
       "    <tr>\n",
       "      <th>3</th>\n",
       "      <td>2013-01-04</td>\n",
       "      <td>1</td>\n",
       "      <td>1</td>\n",
       "      <td>JAN</td>\n",
       "      <td>FRI</td>\n",
       "      <td>2013</td>\n",
       "    </tr>\n",
       "    <tr>\n",
       "      <th>4</th>\n",
       "      <td>2013-01-05</td>\n",
       "      <td>1</td>\n",
       "      <td>1</td>\n",
       "      <td>JAN</td>\n",
       "      <td>SAT</td>\n",
       "      <td>2013</td>\n",
       "    </tr>\n",
       "    <tr>\n",
       "      <th>...</th>\n",
       "      <td>...</td>\n",
       "      <td>...</td>\n",
       "      <td>...</td>\n",
       "      <td>...</td>\n",
       "      <td>...</td>\n",
       "      <td>...</td>\n",
       "    </tr>\n",
       "    <tr>\n",
       "      <th>912995</th>\n",
       "      <td>2017-12-27</td>\n",
       "      <td>10</td>\n",
       "      <td>50</td>\n",
       "      <td>DEC</td>\n",
       "      <td>WED</td>\n",
       "      <td>2017</td>\n",
       "    </tr>\n",
       "    <tr>\n",
       "      <th>912996</th>\n",
       "      <td>2017-12-28</td>\n",
       "      <td>10</td>\n",
       "      <td>50</td>\n",
       "      <td>DEC</td>\n",
       "      <td>THU</td>\n",
       "      <td>2017</td>\n",
       "    </tr>\n",
       "    <tr>\n",
       "      <th>912997</th>\n",
       "      <td>2017-12-29</td>\n",
       "      <td>10</td>\n",
       "      <td>50</td>\n",
       "      <td>DEC</td>\n",
       "      <td>FRI</td>\n",
       "      <td>2017</td>\n",
       "    </tr>\n",
       "    <tr>\n",
       "      <th>912998</th>\n",
       "      <td>2017-12-30</td>\n",
       "      <td>10</td>\n",
       "      <td>50</td>\n",
       "      <td>DEC</td>\n",
       "      <td>SAT</td>\n",
       "      <td>2017</td>\n",
       "    </tr>\n",
       "    <tr>\n",
       "      <th>912999</th>\n",
       "      <td>2017-12-31</td>\n",
       "      <td>10</td>\n",
       "      <td>50</td>\n",
       "      <td>DEC</td>\n",
       "      <td>SUN</td>\n",
       "      <td>2017</td>\n",
       "    </tr>\n",
       "  </tbody>\n",
       "</table>\n",
       "<p>913000 rows × 6 columns</p>\n",
       "</div>"
      ],
      "text/plain": [
       "             date  store  item month weekday  year\n",
       "0      2013-01-01      1     1   JAN     TUE  2013\n",
       "1      2013-01-02      1     1   JAN     WED  2013\n",
       "2      2013-01-03      1     1   JAN     THU  2013\n",
       "3      2013-01-04      1     1   JAN     FRI  2013\n",
       "4      2013-01-05      1     1   JAN     SAT  2013\n",
       "...           ...    ...   ...   ...     ...   ...\n",
       "912995 2017-12-27     10    50   DEC     WED  2017\n",
       "912996 2017-12-28     10    50   DEC     THU  2017\n",
       "912997 2017-12-29     10    50   DEC     FRI  2017\n",
       "912998 2017-12-30     10    50   DEC     SAT  2017\n",
       "912999 2017-12-31     10    50   DEC     SUN  2017\n",
       "\n",
       "[913000 rows x 6 columns]"
      ]
     },
     "execution_count": 21,
     "metadata": {},
     "output_type": "execute_result"
    }
   ],
   "source": [
    "X"
   ]
  },
  {
   "cell_type": "markdown",
   "id": "4b74534d-83d0-418f-8eb7-3fdad818ebf8",
   "metadata": {},
   "source": [
    "## Add lag features"
   ]
  },
  {
   "cell_type": "markdown",
   "id": "9126fe93-e6b2-4a6d-8339-387ad8a35e5b",
   "metadata": {},
   "source": [
    "We add a numer of lag features using the python library tsfresh. The lag features contain basic statistics like median, mean, and standard deviation for the time windows 7, 14, and 28."
   ]
  },
  {
   "cell_type": "code",
   "execution_count": 22,
   "id": "1b2e3af1-99de-4691-ad09-a196eb581bff",
   "metadata": {},
   "outputs": [],
   "source": [
    "# set lag features\n",
    "fc_parameters = MinimalFCParameters()"
   ]
  },
  {
   "cell_type": "code",
   "execution_count": 23,
   "id": "ba15bcf0-557b-4214-93b0-c992ac5a9bc5",
   "metadata": {},
   "outputs": [],
   "source": [
    "# delete length features\n",
    "del fc_parameters['length']"
   ]
  },
  {
   "cell_type": "code",
   "execution_count": 24,
   "id": "301bbcb7-b19c-452a-aca1-ef66e9c56250",
   "metadata": {},
   "outputs": [
    {
     "name": "stdout",
     "output_type": "stream",
     "text": [
      "Lag features: {'sum_values': None, 'median': None, 'mean': None, 'standard_deviation': None, 'variance': None, 'root_mean_square': None, 'maximum': None, 'absolute_maximum': None, 'minimum': None}\n"
     ]
    }
   ],
   "source": [
    "# print all lag features\n",
    "print(\"Lag features:\", fc_parameters)"
   ]
  },
  {
   "cell_type": "code",
   "execution_count": 25,
   "id": "18d6e0d1-22e0-4b50-965f-4fbd6c659393",
   "metadata": {
    "tags": []
   },
   "outputs": [
    {
     "name": "stderr",
     "output_type": "stream",
     "text": [
      "/Users/aphil/ddnv/Data/utilities.py:51: SettingWithCopyWarning: \n",
      "A value is trying to be set on a copy of a slice from a DataFrame.\n",
      "Try using .loc[row_indexer,col_indexer] = value instead\n",
      "\n",
      "See the caveats in the documentation: https://pandas.pydata.org/pandas-docs/stable/user_guide/indexing.html#returning-a-view-versus-a-copy\n",
      "  y[\"time\"] = X[\"time\"]\n",
      "/Users/aphil/ddnv/Data/utilities.py:52: SettingWithCopyWarning: \n",
      "A value is trying to be set on a copy of a slice from a DataFrame.\n",
      "Try using .loc[row_indexer,col_indexer] = value instead\n",
      "\n",
      "See the caveats in the documentation: https://pandas.pydata.org/pandas-docs/stable/user_guide/indexing.html#returning-a-view-versus-a-copy\n",
      "  y[\"id\"] = X[\"id\"]\n",
      "Rolling: 100%|██████████| 20/20 [02:30<00:00,  7.52s/it]\n",
      "Feature Extraction: 100%|██████████| 20/20 [03:41<00:00, 11.05s/it]\n",
      "Rolling: 100%|██████████| 20/20 [02:56<00:00,  8.83s/it]\n",
      "Feature Extraction: 100%|██████████| 20/20 [03:53<00:00, 11.65s/it]\n",
      "Rolling: 100%|██████████| 20/20 [03:00<00:00,  9.03s/it]\n",
      "Feature Extraction: 100%|██████████| 20/20 [03:54<00:00, 11.71s/it]\n"
     ]
    }
   ],
   "source": [
    "# create lag features\n",
    "X, y  = add_lag_features(X=X, y=y, column_id=['item',\"store\"], column_sort='date', \n",
    "                        feature_dict=fc_parameters, time_windows = [(7,7),(14,14),(28,28)])"
   ]
  },
  {
   "cell_type": "code",
   "execution_count": 26,
   "id": "24e36dc2-3ac4-4099-a9b9-399f858c3e35",
   "metadata": {},
   "outputs": [],
   "source": [
    "X.drop(columns=[\"date\"],inplace=True)"
   ]
  },
  {
   "cell_type": "markdown",
   "id": "d24a8341-61a9-497c-aeaf-0a8ca237b072",
   "metadata": {},
   "source": [
    "## Save final data"
   ]
  },
  {
   "cell_type": "code",
   "execution_count": 28,
   "id": "f4dd69cc-7ef1-4be6-8d18-39bdcd20f79a",
   "metadata": {},
   "outputs": [],
   "source": [
    "X.to_csv(\"final/SID_data.csv.zip\", index=False, compression=\"zip\")\n",
    "y.to_csv(\"final/SID_target.csv.zip\", index=False, compression=\"zip\")"
   ]
  }
 ],
 "metadata": {
  "kernelspec": {
   "display_name": "preprocessing",
   "language": "python",
   "name": "preprocessing"
  },
  "language_info": {
   "codemirror_mode": {
    "name": "ipython",
    "version": 3
   },
   "file_extension": ".py",
   "mimetype": "text/x-python",
   "name": "python",
   "nbconvert_exporter": "python",
   "pygments_lexer": "ipython3",
   "version": "3.8.5"
  }
 },
 "nbformat": 4,
 "nbformat_minor": 5
}
