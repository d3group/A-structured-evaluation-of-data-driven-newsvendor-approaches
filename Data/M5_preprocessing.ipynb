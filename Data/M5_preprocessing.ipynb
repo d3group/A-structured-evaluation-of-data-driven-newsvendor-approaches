{
 "cells": [
  {
   "cell_type": "markdown",
   "id": "af5fdbdb-6c43-4962-83d7-7fd5ace776b1",
   "metadata": {},
   "source": [
    "# M5 Dataset"
   ]
  },
  {
   "cell_type": "markdown",
   "id": "06a0f27c-563a-404f-97f1-bce4a107c1ca",
   "metadata": {},
   "source": [
    "For our experiment, we use hierarchical sales data from Walmart. The dataset was already used for the M5 forecasting challenge on kaggle. The data, covers stores in three US States (California, Texas, and Wisconsin) and includes item level, department, product categories, and store details. In addition, it has explanatory variables such as price, promotions, day of the week, and special events. \n",
    "In this notebook, we preprocess the original data for our experiment. "
   ]
  },
  {
   "cell_type": "markdown",
   "id": "1252df13-a39e-431d-b776-1a1b3594bfd8",
   "metadata": {},
   "source": [
    "## Install and import packages"
   ]
  },
  {
   "cell_type": "code",
   "execution_count": null,
   "id": "92ffa005-64fe-46fc-9e44-dfaaa24bd368",
   "metadata": {},
   "outputs": [],
   "source": [
    "# pip install pandas, numpy, pyreadr, tsfresh"
   ]
  },
  {
   "cell_type": "code",
   "execution_count": null,
   "id": "41ee516d",
   "metadata": {},
   "outputs": [],
   "source": [
    "import pandas as pd\n",
    "import numpy as np\n",
    "import pyreadr\n",
    "\n",
    "from utilities import add_lag_features, day_to_string, month_to_string\n",
    "from tsfresh import extract_features\n",
    "from tsfresh.feature_extraction import MinimalFCParameters\n",
    "from tsfresh.utilities.dataframe_functions import roll_time_series"
   ]
  },
  {
   "cell_type": "markdown",
   "id": "9ffe257d-d1e4-4b89-b554-4766887cb5b1",
   "metadata": {},
   "source": [
    "## Get data"
   ]
  },
  {
   "cell_type": "code",
   "execution_count": null,
   "id": "a1e83078",
   "metadata": {},
   "outputs": [],
   "source": [
    "# read dataset\n",
    "result = pyreadr.read_r('raw/M5_dataset.Rdata')"
   ]
  },
  {
   "cell_type": "code",
   "execution_count": null,
   "id": "1c8616bc",
   "metadata": {},
   "outputs": [],
   "source": [
    "# check available information\n",
    "result.keys()"
   ]
  },
  {
   "cell_type": "code",
   "execution_count": null,
   "id": "72438542",
   "metadata": {},
   "outputs": [],
   "source": [
    "# we only consider the historical sales data in train- and testset as well as the calendar data\n",
    "calendar = result['calendar']\n",
    "trainset = result['trainset']\n",
    "testset = result['testset']"
   ]
  },
  {
   "cell_type": "code",
   "execution_count": null,
   "id": "703709c7-4ef8-4d4a-ab5d-a1ed10d78a20",
   "metadata": {},
   "outputs": [],
   "source": [
    "# look at trainset\n",
    "trainset"
   ]
  },
  {
   "cell_type": "code",
   "execution_count": null,
   "id": "912b92ca-d3d1-4e50-8b18-6980a11f93d1",
   "metadata": {},
   "outputs": [],
   "source": [
    "# look at testset\n",
    "testset"
   ]
  },
  {
   "cell_type": "code",
   "execution_count": null,
   "id": "3a5b832b",
   "metadata": {},
   "outputs": [],
   "source": [
    "# concat train- and testset to have sales data for all 1969 days\n",
    "data = pd.concat([trainset, testset.iloc[:,5:]], axis=1)"
   ]
  },
  {
   "cell_type": "code",
   "execution_count": null,
   "id": "0f3e905e-d80a-4a0a-9ff7-e3002e871b4c",
   "metadata": {},
   "outputs": [],
   "source": [
    "# there are 10 different stores\n",
    "data[\"store_id\"].unique()"
   ]
  },
  {
   "cell_type": "code",
   "execution_count": null,
   "id": "746f8c01",
   "metadata": {},
   "outputs": [],
   "source": [
    "# we need to change the data formate to wide to long \n",
    "data[\"id\"] = data.index\n",
    "data =pd.wide_to_long(data, stubnames='d_', i= ['id'], j='day')\n",
    "data = data.reset_index()"
   ]
  },
  {
   "cell_type": "markdown",
   "id": "d8ec8c36",
   "metadata": {},
   "source": [
    "## Select only top 10 foods items"
   ]
  },
  {
   "cell_type": "markdown",
   "id": "9f16c766-3b40-496f-a722-0384221cabaf",
   "metadata": {},
   "source": [
    "For our experiment, we only consider products from the food category, since they are most relevant for the newsvendor problem due to their perishable nature. Since we want to avoid intermittent demand, we only consider the 10 products with the fewest zero sales in the time series. Given that there are 10 different stores, our final dataset will consist of 100 different time series. "
   ]
  },
  {
   "cell_type": "code",
   "execution_count": null,
   "id": "5eed0ef7",
   "metadata": {},
   "outputs": [],
   "source": [
    "# Select only foods\n",
    "data = data[data[\"cat_id\"]==\"FOODS\"]"
   ]
  },
  {
   "cell_type": "code",
   "execution_count": null,
   "id": "5d04b3a3",
   "metadata": {},
   "outputs": [],
   "source": [
    "data = data.drop([\"dept_id\", \"id\", \"cat_id\"], axis=1)"
   ]
  },
  {
   "cell_type": "code",
   "execution_count": null,
   "id": "7ba22e6b",
   "metadata": {},
   "outputs": [],
   "source": [
    "data"
   ]
  },
  {
   "cell_type": "code",
   "execution_count": null,
   "id": "38e3852a",
   "metadata": {},
   "outputs": [],
   "source": [
    "data.rename(columns={'d_':'demand'}, inplace=True)"
   ]
  },
  {
   "cell_type": "code",
   "execution_count": null,
   "id": "40afc5a6",
   "metadata": {},
   "outputs": [],
   "source": [
    "# get the id of the 10 products with the fewest zero sales\n",
    "non_zero = data[data[\"demand\"]!=0]\n",
    "non_zero_agg = non_zero.groupby(['item_id'])\n",
    "size = non_zero_agg.size()\n",
    "size = size.sort_values(ascending=False)\n",
    "size = pd.DataFrame(size).reset_index()\n",
    "top_products = size.head(10)[\"item_id\"]"
   ]
  },
  {
   "cell_type": "code",
   "execution_count": null,
   "id": "9115704a",
   "metadata": {},
   "outputs": [],
   "source": [
    "# select top 10 products \n",
    "data = data[data[\"item_id\"].isin(top_products)]"
   ]
  },
  {
   "cell_type": "markdown",
   "id": "f485c354",
   "metadata": {},
   "source": [
    "## Add calendar features"
   ]
  },
  {
   "cell_type": "code",
   "execution_count": null,
   "id": "d7827127",
   "metadata": {},
   "outputs": [],
   "source": [
    "# look at calendar data\n",
    "calendar"
   ]
  },
  {
   "cell_type": "code",
   "execution_count": null,
   "id": "e85dba5f",
   "metadata": {},
   "outputs": [],
   "source": [
    "calendar.reset_index(inplace=True)"
   ]
  },
  {
   "cell_type": "code",
   "execution_count": null,
   "id": "a0792034",
   "metadata": {},
   "outputs": [],
   "source": [
    "calendar['index'] = calendar['index']+1"
   ]
  },
  {
   "cell_type": "markdown",
   "id": "beeba59b",
   "metadata": {},
   "source": [
    "### Preprocess events into OHE"
   ]
  },
  {
   "cell_type": "code",
   "execution_count": null,
   "id": "ee6b1ce6",
   "metadata": {},
   "outputs": [],
   "source": [
    "# add indicator if there is an event on that day\n",
    "calendar['is_event'] = 1-(calendar.event_name_1.isnull())"
   ]
  },
  {
   "cell_type": "code",
   "execution_count": null,
   "id": "f11ca186",
   "metadata": {},
   "outputs": [],
   "source": [
    "#add indicator of the type of event\n",
    "calendar['is_sporting_event'] = ((calendar.event_type_1=='Sporting')|(calendar.event_type_2=='Sporting')).astype(int)\n",
    "calendar['is_cultural_event'] = ((calendar.event_type_1=='Cultural')|(calendar.event_type_2=='Cultural')).astype(int)\n",
    "calendar['is_national_event'] = ((calendar.event_type_1=='National')|(calendar.event_type_2=='National')).astype(int)\n",
    "calendar['is_religious_event'] = ((calendar.event_type_1=='Religious')|(calendar.event_type_2=='Religious')).astype(int)"
   ]
  },
  {
   "cell_type": "markdown",
   "id": "e144c551",
   "metadata": {},
   "source": [
    "### Merge "
   ]
  },
  {
   "cell_type": "code",
   "execution_count": null,
   "id": "e0093c61",
   "metadata": {},
   "outputs": [],
   "source": [
    "data = data.merge(calendar.loc[:,['index', 'date', 'weekday', 'wday', 'month', 'year', 'is_sporting_event',\n",
    "       'is_cultural_event', 'is_national_event', 'is_religious_event']], left_on='day', right_on='index')"
   ]
  },
  {
   "cell_type": "markdown",
   "id": "85dc0919-f19d-4d5d-92ee-8dedfc3245f4",
   "metadata": {},
   "source": [
    "### Pre-processing"
   ]
  },
  {
   "cell_type": "code",
   "execution_count": null,
   "id": "2fc40855",
   "metadata": {},
   "outputs": [],
   "source": [
    "# select columns\n",
    "data = data[[\"index\", \"wday\", \"month\", \"year\", \"item_id\", \"store_id\", \"state_id\", \"is_sporting_event\", \"is_cultural_event\", \"is_national_event\", \"is_religious_event\", \"demand\"]]"
   ]
  },
  {
   "cell_type": "code",
   "execution_count": null,
   "id": "ad8b7b43",
   "metadata": {},
   "outputs": [],
   "source": [
    "data"
   ]
  },
  {
   "cell_type": "code",
   "execution_count": null,
   "id": "327f8a0e",
   "metadata": {},
   "outputs": [],
   "source": [
    "data = data.rename(columns={\"wday\": \"weekday\"})"
   ]
  },
  {
   "cell_type": "code",
   "execution_count": null,
   "id": "facd7081",
   "metadata": {},
   "outputs": [],
   "source": [
    "data['month'] = data['month'].apply(month_to_string)\n",
    "data['weekday'] = data['weekday'].apply(day_to_string)"
   ]
  },
  {
   "cell_type": "code",
   "execution_count": null,
   "id": "f22f01f3-a09f-4e2b-be0d-00aebd1893c2",
   "metadata": {},
   "outputs": [],
   "source": [
    "data.rename(columns={\"item_id\": \"item\", \"store_id\": \"store\"}, inplace=True)"
   ]
  },
  {
   "cell_type": "code",
   "execution_count": null,
   "id": "df3b3299-efab-48c7-a69d-6e20e091e434",
   "metadata": {},
   "outputs": [],
   "source": [
    "data"
   ]
  },
  {
   "cell_type": "markdown",
   "id": "832fa211",
   "metadata": {},
   "source": [
    "## Add Snap feature"
   ]
  },
  {
   "cell_type": "markdown",
   "id": "b709403b",
   "metadata": {},
   "source": [
    "SNAP are benefits for low income Americans to spend on food - payment takes place on different days depending on state and other local factors"
   ]
  },
  {
   "cell_type": "code",
   "execution_count": null,
   "id": "8ce3dc04",
   "metadata": {},
   "outputs": [],
   "source": [
    "snap = pd.concat([pd.DataFrame({'is_snap_day':calendar.snap_CA, 'state':'CA'}), \n",
    "                 pd.DataFrame({'is_snap_day':calendar.snap_TX, 'state':'TX'}), \n",
    "                 pd.DataFrame({'is_snap_day':calendar.snap_WI, 'state':'WI'})])\n",
    "\n",
    "snap.reset_index(inplace=True)\n",
    "snap['index'] = snap['index']+1"
   ]
  },
  {
   "cell_type": "code",
   "execution_count": null,
   "id": "9af572e9",
   "metadata": {},
   "outputs": [],
   "source": [
    "snap"
   ]
  },
  {
   "cell_type": "code",
   "execution_count": null,
   "id": "d25c2a4e",
   "metadata": {},
   "outputs": [],
   "source": [
    "data = data.merge(snap, left_on=['state_id', 'index'], right_on=['state', 'index'])"
   ]
  },
  {
   "cell_type": "code",
   "execution_count": null,
   "id": "61055f59-d93d-4438-be7e-9b4913ce5028",
   "metadata": {},
   "outputs": [],
   "source": [
    "data.drop(columns=['state_id', 'state'], inplace=True)"
   ]
  },
  {
   "cell_type": "markdown",
   "id": "1a6b8ba5",
   "metadata": {},
   "source": [
    "## Add lag features"
   ]
  },
  {
   "cell_type": "markdown",
   "id": "3e1c109f-3967-4135-8a43-17c00546ad40",
   "metadata": {},
   "source": [
    "We add a numer of lag features using the python library tsfresh. The lag features contain basic statistics like median, mean, and standard deviation for the time windows 7, 14, and 28."
   ]
  },
  {
   "cell_type": "code",
   "execution_count": null,
   "id": "054efe22",
   "metadata": {
    "tags": []
   },
   "outputs": [],
   "source": [
    "#split in X and y \n",
    "y = pd.DataFrame(data['demand'])\n",
    "X = data.drop(columns=['demand'])"
   ]
  },
  {
   "cell_type": "code",
   "execution_count": null,
   "id": "1aaff2c7",
   "metadata": {},
   "outputs": [],
   "source": [
    "# set lag features\n",
    "fc_parameters = MinimalFCParameters()"
   ]
  },
  {
   "cell_type": "code",
   "execution_count": null,
   "id": "cf75c693",
   "metadata": {},
   "outputs": [],
   "source": [
    "# delete length features\n",
    "del fc_parameters['length']"
   ]
  },
  {
   "cell_type": "code",
   "execution_count": null,
   "id": "5a8bf9e8",
   "metadata": {},
   "outputs": [],
   "source": [
    "# print all lag features\n",
    "print(\"Lag features:\", fc_parameters)"
   ]
  },
  {
   "cell_type": "code",
   "execution_count": null,
   "id": "ee443e91",
   "metadata": {},
   "outputs": [],
   "source": [
    "# create lag features\n",
    "X, y  = add_lag_features(X=X, y=y, column_id=['item',\"store\"], column_sort='index', \n",
    "                        feature_dict=fc_parameters, time_windows = [(7,7),(14,14),(28,28)])"
   ]
  },
  {
   "cell_type": "code",
   "execution_count": null,
   "id": "c7c9ef60",
   "metadata": {},
   "outputs": [],
   "source": [
    "X.drop(columns=[\"index\"],inplace=True)"
   ]
  },
  {
   "cell_type": "markdown",
   "id": "e69ab745-8bbb-4ddd-ba57-02b991fed491",
   "metadata": {},
   "source": [
    "## Save final data"
   ]
  },
  {
   "cell_type": "code",
   "execution_count": null,
   "id": "d557e5de",
   "metadata": {},
   "outputs": [],
   "source": [
    "X.to_csv(\"final/m5_data.csv.zip\", index=False, compression=\"zip\")\n",
    "y.to_csv(\"final/m5_target.csv.zip\", index=False, compression=\"zip\")"
   ]
  }
 ],
 "metadata": {
  "kernelspec": {
   "display_name": "preprocessing",
   "language": "python",
   "name": "preprocessing"
  },
  "language_info": {
   "codemirror_mode": {
    "name": "ipython",
    "version": 3
   },
   "file_extension": ".py",
   "mimetype": "text/x-python",
   "name": "python",
   "nbconvert_exporter": "python",
   "pygments_lexer": "ipython3",
   "version": "3.8.5"
  }
 },
 "nbformat": 4,
 "nbformat_minor": 5
}
