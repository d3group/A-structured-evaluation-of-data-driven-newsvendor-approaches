{
 "cells": [
  {
   "cell_type": "markdown",
   "metadata": {
    "colab_type": "text",
    "id": "view-in-github"
   },
   "source": [
    "<a href=\"https://colab.research.google.com/github/sbuttler/ddnv/blob/main/Hyperparameter_tuning.ipynb\" target=\"_parent\"><img src=\"https://colab.research.google.com/assets/colab-badge.svg\" alt=\"Open In Colab\"/></a>"
   ]
  },
  {
   "cell_type": "code",
   "execution_count": null,
   "metadata": {
    "id": "zyCpt4HASHSW"
   },
   "outputs": [],
   "source": [
    "pip install scikit-learn==0.23.1 tensorflow==2.1.0  keras==2.3.1 ddop==0.6.7"
   ]
  },
  {
   "cell_type": "code",
   "execution_count": 1,
   "metadata": {
    "id": "jzZP0iaWU691"
   },
   "outputs": [],
   "source": [
    "from sklearn.utils.validation import check_array\n",
    "from sklearn.model_selection import GridSearchCV\n",
    "from sklearn.model_selection import RepeatedKFold\n",
    "from sklearn.model_selection import train_test_split\n",
    "from sklearn.preprocessing import StandardScaler\n",
    "from sklearn.tree import DecisionTreeRegressor\n",
    "from sklearn.metrics import make_scorer\n",
    "from ddop.datasets import load_yaz, load_bakery\n",
    "from ddop.metrics import average_costs, prescriptiveness_score\n",
    "from ddop.newsvendor import SampleAverageApproximationNewsvendor\n",
    "from ddop.newsvendor import DecisionTreeWeightedNewsvendor\n",
    "from ddop.newsvendor import RandomForestWeightedNewsvendor \n",
    "from ddop.newsvendor import KNeighborsWeightedNewsvendor\n",
    "from ddop.newsvendor import LinearRegressionNewsvendor\n",
    "from ddop.newsvendor import GaussianWeightedNewsvendor\n",
    "from ddop.newsvendor import LinearRegressionNewsvendor\n",
    "from ddop.newsvendor import DeepLearningNewsvendor\n",
    "from matplotlib import pyplot as plt\n",
    "import seaborn as sns\n",
    "import numpy as np\n",
    "import pandas as pd\n",
    "import statistics"
   ]
  },
  {
   "cell_type": "code",
   "execution_count": null,
   "metadata": {},
   "outputs": [],
   "source": [
    "import logging"
   ]
  },
  {
   "cell_type": "code",
   "execution_count": 2,
   "metadata": {
    "id": "6sdPbP50Aqlt"
   },
   "outputs": [],
   "source": [
    "n_features = 12"
   ]
  },
  {
   "cell_type": "code",
   "execution_count": 3,
   "metadata": {},
   "outputs": [
    {
     "data": {
      "text/plain": [
       "array([ 1,  2,  3,  4,  5,  6,  7,  8,  9, 10])"
      ]
     },
     "execution_count": 3,
     "metadata": {},
     "output_type": "execute_result"
    }
   ],
   "source": [
    "np.arange(1,11)"
   ]
  },
  {
   "cell_type": "code",
   "execution_count": 4,
   "metadata": {
    "id": "NIXqigTR8Ik_"
   },
   "outputs": [],
   "source": [
    "#TODO: Set Grids\n",
    "dl = {\"optimizer\": [\"adam\"],\n",
    "      \"neurons\": [\n",
    "                  (round(0.5*n_features),round(0.5*0.5*n_features)),\n",
    "                  (round(0.5*n_features),round(0.5*1*n_features)),\n",
    "                  (1*n_features,round(1*0.5*n_features)),\n",
    "                  (1*n_features,1*1*n_features),\n",
    "                  (2*n_features,round(2*0.5*n_features)),\n",
    "                  (2*n_features,2*1*n_features),\n",
    "                  (3*n_features,round(3*0.5*n_features)),\n",
    "                  (3*n_features,3*1*n_features)],\n",
    "      \"epochs\": [10,100,200]}\n",
    "\n",
    "dtw = {\"max_depth\":[None,2,3,4,5,6,7,8,9,10,15]}\n",
    "\n",
    "rfw = {\"max_depth\":[None,2,4,6,8,10,15],\n",
    "          'min_samples_split':[2,4,6,8,10,50],\n",
    "          'n_estimators':[2,10,20,50,100]}\n",
    "\n",
    "knnw = {'n_neighbors':[1,2,4,8,16,32,64,128]}\n",
    "\n",
    "gkw = {'kernel_bandwidth':[1,1.2,1.4,1.6,1.8,2,2.5,3]}"
   ]
  },
  {
   "cell_type": "code",
   "execution_count": 5,
   "metadata": {
    "id": "DN8Ntb_Me5zl"
   },
   "outputs": [],
   "source": [
    "# Define model tuples: 'model_name', model, grid\n",
    "estimator_tuple_list = []\n",
    "#estimator_tuple_list.append(('SAA', SampleAverageApproximationNewsvendor(),None))\n",
    "#estimator_tuple_list.append(('DTW', DecisionTreeWeightedNewsvendor(random_state=1),dtw))\n",
    "estimator_tuple_list.append(('RFW', RandomForestWeightedNewsvendor(n_jobs=2, random_state=1),rfw))\n",
    "#estimator_tuple_list.append(('KNNW',KNeighborsWeightedNewsvendor(),knnw))\n",
    "#estimator_tuple_list.append(('GKW', GaussianWeightedNewsvendor(),gkw))\n",
    "#estimator_tuple_list.append(('DL', DeepLearningNewsvendor(),[dl]))\n",
    "#estimator_tuple_list.append(('LR', LinearRegressionNewsvendor(),None))"
   ]
  },
  {
   "cell_type": "markdown",
   "metadata": {
    "id": "O3wy40IDoJZq"
   },
   "source": [
    "--------------------------------------\n",
    "# YAZ Dataset"
   ]
  },
  {
   "cell_type": "code",
   "execution_count": 57,
   "metadata": {
    "id": "rYeKaD8BWH4w"
   },
   "outputs": [],
   "source": [
    "data = load_yaz(one_hot_encoding=True)\n",
    "X = data.data\n",
    "y = data.target"
   ]
  },
  {
   "cell_type": "code",
   "execution_count": 58,
   "metadata": {
    "id": "Ad9lDr2qWPyx"
   },
   "outputs": [],
   "source": [
    "products = y.columns.to_list()"
   ]
  },
  {
   "cell_type": "markdown",
   "metadata": {
    "id": "GP38wx618y5c"
   },
   "source": [
    "With target scaling and 10 fold CV"
   ]
  },
  {
   "cell_type": "code",
   "execution_count": 59,
   "metadata": {
    "colab": {
     "base_uri": "https://localhost:8080/"
    },
    "id": "JAlc4uxB80yn",
    "outputId": "06d6ff36-5a4d-4428-b562-0398304298eb"
   },
   "outputs": [
    {
     "name": "stdout",
     "output_type": "stream",
     "text": [
      "RandomForestWeightedNewsvendor(co=5, cu=5, random_state=1)\n"
     ]
    },
    {
     "name": "stderr",
     "output_type": "stream",
     "text": [
      "/media/data/anaconda3/envs/ddnv_env/lib/python3.7/site-packages/ddop/newsvendor/_WeightedNewsvendor.py:578: DataConversionWarning: A column-vector y was passed when a 1d array was expected. Please change the shape of y to (n_samples,), for example using ravel().\n",
      "  self.model_ = model.fit(X, y)\n"
     ]
    },
    {
     "name": "stdout",
     "output_type": "stream",
     "text": [
      "RandomForestWeightedNewsvendor(co=5, cu=5, random_state=1)\n"
     ]
    },
    {
     "name": "stderr",
     "output_type": "stream",
     "text": [
      "/media/data/anaconda3/envs/ddnv_env/lib/python3.7/site-packages/ddop/newsvendor/_WeightedNewsvendor.py:578: DataConversionWarning: A column-vector y was passed when a 1d array was expected. Please change the shape of y to (n_samples,), for example using ravel().\n",
      "  self.model_ = model.fit(X, y)\n"
     ]
    },
    {
     "name": "stdout",
     "output_type": "stream",
     "text": [
      "RandomForestWeightedNewsvendor(co=5, cu=5, random_state=1)\n"
     ]
    },
    {
     "name": "stderr",
     "output_type": "stream",
     "text": [
      "/media/data/anaconda3/envs/ddnv_env/lib/python3.7/site-packages/ddop/newsvendor/_WeightedNewsvendor.py:578: DataConversionWarning: A column-vector y was passed when a 1d array was expected. Please change the shape of y to (n_samples,), for example using ravel().\n",
      "  self.model_ = model.fit(X, y)\n"
     ]
    },
    {
     "name": "stdout",
     "output_type": "stream",
     "text": [
      "RandomForestWeightedNewsvendor(co=5, cu=5, random_state=1)\n"
     ]
    },
    {
     "name": "stderr",
     "output_type": "stream",
     "text": [
      "/media/data/anaconda3/envs/ddnv_env/lib/python3.7/site-packages/ddop/newsvendor/_WeightedNewsvendor.py:578: DataConversionWarning: A column-vector y was passed when a 1d array was expected. Please change the shape of y to (n_samples,), for example using ravel().\n",
      "  self.model_ = model.fit(X, y)\n"
     ]
    },
    {
     "name": "stdout",
     "output_type": "stream",
     "text": [
      "RandomForestWeightedNewsvendor(co=5, cu=5, random_state=1)\n"
     ]
    },
    {
     "name": "stderr",
     "output_type": "stream",
     "text": [
      "/media/data/anaconda3/envs/ddnv_env/lib/python3.7/site-packages/ddop/newsvendor/_WeightedNewsvendor.py:578: DataConversionWarning: A column-vector y was passed when a 1d array was expected. Please change the shape of y to (n_samples,), for example using ravel().\n",
      "  self.model_ = model.fit(X, y)\n"
     ]
    },
    {
     "name": "stdout",
     "output_type": "stream",
     "text": [
      "RandomForestWeightedNewsvendor(co=5, cu=5, random_state=1)\n"
     ]
    },
    {
     "name": "stderr",
     "output_type": "stream",
     "text": [
      "/media/data/anaconda3/envs/ddnv_env/lib/python3.7/site-packages/ddop/newsvendor/_WeightedNewsvendor.py:578: DataConversionWarning: A column-vector y was passed when a 1d array was expected. Please change the shape of y to (n_samples,), for example using ravel().\n",
      "  self.model_ = model.fit(X, y)\n"
     ]
    },
    {
     "name": "stdout",
     "output_type": "stream",
     "text": [
      "RandomForestWeightedNewsvendor(co=5, cu=5, random_state=1)\n"
     ]
    },
    {
     "name": "stderr",
     "output_type": "stream",
     "text": [
      "/media/data/anaconda3/envs/ddnv_env/lib/python3.7/site-packages/ddop/newsvendor/_WeightedNewsvendor.py:578: DataConversionWarning: A column-vector y was passed when a 1d array was expected. Please change the shape of y to (n_samples,), for example using ravel().\n",
      "  self.model_ = model.fit(X, y)\n"
     ]
    },
    {
     "name": "stdout",
     "output_type": "stream",
     "text": [
      "RandomForestWeightedNewsvendor(co=2.5, cu=7.5, random_state=1)\n"
     ]
    },
    {
     "name": "stderr",
     "output_type": "stream",
     "text": [
      "/media/data/anaconda3/envs/ddnv_env/lib/python3.7/site-packages/ddop/newsvendor/_WeightedNewsvendor.py:578: DataConversionWarning: A column-vector y was passed when a 1d array was expected. Please change the shape of y to (n_samples,), for example using ravel().\n",
      "  self.model_ = model.fit(X, y)\n"
     ]
    },
    {
     "name": "stdout",
     "output_type": "stream",
     "text": [
      "RandomForestWeightedNewsvendor(co=2.5, cu=7.5, random_state=1)\n"
     ]
    },
    {
     "name": "stderr",
     "output_type": "stream",
     "text": [
      "/media/data/anaconda3/envs/ddnv_env/lib/python3.7/site-packages/ddop/newsvendor/_WeightedNewsvendor.py:578: DataConversionWarning: A column-vector y was passed when a 1d array was expected. Please change the shape of y to (n_samples,), for example using ravel().\n",
      "  self.model_ = model.fit(X, y)\n"
     ]
    },
    {
     "name": "stdout",
     "output_type": "stream",
     "text": [
      "RandomForestWeightedNewsvendor(co=2.5, cu=7.5, random_state=1)\n"
     ]
    },
    {
     "name": "stderr",
     "output_type": "stream",
     "text": [
      "/media/data/anaconda3/envs/ddnv_env/lib/python3.7/site-packages/ddop/newsvendor/_WeightedNewsvendor.py:578: DataConversionWarning: A column-vector y was passed when a 1d array was expected. Please change the shape of y to (n_samples,), for example using ravel().\n",
      "  self.model_ = model.fit(X, y)\n"
     ]
    },
    {
     "name": "stdout",
     "output_type": "stream",
     "text": [
      "RandomForestWeightedNewsvendor(co=2.5, cu=7.5, random_state=1)\n"
     ]
    },
    {
     "name": "stderr",
     "output_type": "stream",
     "text": [
      "/media/data/anaconda3/envs/ddnv_env/lib/python3.7/site-packages/ddop/newsvendor/_WeightedNewsvendor.py:578: DataConversionWarning: A column-vector y was passed when a 1d array was expected. Please change the shape of y to (n_samples,), for example using ravel().\n",
      "  self.model_ = model.fit(X, y)\n"
     ]
    },
    {
     "name": "stdout",
     "output_type": "stream",
     "text": [
      "RandomForestWeightedNewsvendor(co=2.5, cu=7.5, random_state=1)\n"
     ]
    },
    {
     "name": "stderr",
     "output_type": "stream",
     "text": [
      "/media/data/anaconda3/envs/ddnv_env/lib/python3.7/site-packages/ddop/newsvendor/_WeightedNewsvendor.py:578: DataConversionWarning: A column-vector y was passed when a 1d array was expected. Please change the shape of y to (n_samples,), for example using ravel().\n",
      "  self.model_ = model.fit(X, y)\n"
     ]
    },
    {
     "name": "stdout",
     "output_type": "stream",
     "text": [
      "RandomForestWeightedNewsvendor(co=2.5, cu=7.5, random_state=1)\n"
     ]
    },
    {
     "name": "stderr",
     "output_type": "stream",
     "text": [
      "/media/data/anaconda3/envs/ddnv_env/lib/python3.7/site-packages/ddop/newsvendor/_WeightedNewsvendor.py:578: DataConversionWarning: A column-vector y was passed when a 1d array was expected. Please change the shape of y to (n_samples,), for example using ravel().\n",
      "  self.model_ = model.fit(X, y)\n"
     ]
    },
    {
     "name": "stdout",
     "output_type": "stream",
     "text": [
      "RandomForestWeightedNewsvendor(co=2.5, cu=7.5, random_state=1)\n"
     ]
    },
    {
     "name": "stderr",
     "output_type": "stream",
     "text": [
      "/media/data/anaconda3/envs/ddnv_env/lib/python3.7/site-packages/ddop/newsvendor/_WeightedNewsvendor.py:578: DataConversionWarning: A column-vector y was passed when a 1d array was expected. Please change the shape of y to (n_samples,), for example using ravel().\n",
      "  self.model_ = model.fit(X, y)\n"
     ]
    },
    {
     "name": "stdout",
     "output_type": "stream",
     "text": [
      "RandomForestWeightedNewsvendor(co=1, cu=9, random_state=1)\n"
     ]
    },
    {
     "name": "stderr",
     "output_type": "stream",
     "text": [
      "/media/data/anaconda3/envs/ddnv_env/lib/python3.7/site-packages/ddop/newsvendor/_WeightedNewsvendor.py:578: DataConversionWarning: A column-vector y was passed when a 1d array was expected. Please change the shape of y to (n_samples,), for example using ravel().\n",
      "  self.model_ = model.fit(X, y)\n"
     ]
    },
    {
     "name": "stdout",
     "output_type": "stream",
     "text": [
      "RandomForestWeightedNewsvendor(co=1, cu=9, random_state=1)\n"
     ]
    },
    {
     "name": "stderr",
     "output_type": "stream",
     "text": [
      "/media/data/anaconda3/envs/ddnv_env/lib/python3.7/site-packages/ddop/newsvendor/_WeightedNewsvendor.py:578: DataConversionWarning: A column-vector y was passed when a 1d array was expected. Please change the shape of y to (n_samples,), for example using ravel().\n",
      "  self.model_ = model.fit(X, y)\n"
     ]
    },
    {
     "name": "stdout",
     "output_type": "stream",
     "text": [
      "RandomForestWeightedNewsvendor(co=1, cu=9, random_state=1)\n"
     ]
    },
    {
     "name": "stderr",
     "output_type": "stream",
     "text": [
      "/media/data/anaconda3/envs/ddnv_env/lib/python3.7/site-packages/ddop/newsvendor/_WeightedNewsvendor.py:578: DataConversionWarning: A column-vector y was passed when a 1d array was expected. Please change the shape of y to (n_samples,), for example using ravel().\n",
      "  self.model_ = model.fit(X, y)\n"
     ]
    },
    {
     "name": "stdout",
     "output_type": "stream",
     "text": [
      "RandomForestWeightedNewsvendor(co=1, cu=9, random_state=1)\n"
     ]
    },
    {
     "name": "stderr",
     "output_type": "stream",
     "text": [
      "/media/data/anaconda3/envs/ddnv_env/lib/python3.7/site-packages/ddop/newsvendor/_WeightedNewsvendor.py:578: DataConversionWarning: A column-vector y was passed when a 1d array was expected. Please change the shape of y to (n_samples,), for example using ravel().\n",
      "  self.model_ = model.fit(X, y)\n"
     ]
    },
    {
     "name": "stdout",
     "output_type": "stream",
     "text": [
      "RandomForestWeightedNewsvendor(co=1, cu=9, random_state=1)\n"
     ]
    },
    {
     "name": "stderr",
     "output_type": "stream",
     "text": [
      "/media/data/anaconda3/envs/ddnv_env/lib/python3.7/site-packages/ddop/newsvendor/_WeightedNewsvendor.py:578: DataConversionWarning: A column-vector y was passed when a 1d array was expected. Please change the shape of y to (n_samples,), for example using ravel().\n",
      "  self.model_ = model.fit(X, y)\n"
     ]
    },
    {
     "name": "stdout",
     "output_type": "stream",
     "text": [
      "RandomForestWeightedNewsvendor(co=1, cu=9, random_state=1)\n"
     ]
    },
    {
     "name": "stderr",
     "output_type": "stream",
     "text": [
      "/media/data/anaconda3/envs/ddnv_env/lib/python3.7/site-packages/ddop/newsvendor/_WeightedNewsvendor.py:578: DataConversionWarning: A column-vector y was passed when a 1d array was expected. Please change the shape of y to (n_samples,), for example using ravel().\n",
      "  self.model_ = model.fit(X, y)\n"
     ]
    },
    {
     "name": "stdout",
     "output_type": "stream",
     "text": [
      "RandomForestWeightedNewsvendor(co=1, cu=9, random_state=1)\n"
     ]
    },
    {
     "name": "stderr",
     "output_type": "stream",
     "text": [
      "/media/data/anaconda3/envs/ddnv_env/lib/python3.7/site-packages/ddop/newsvendor/_WeightedNewsvendor.py:578: DataConversionWarning: A column-vector y was passed when a 1d array was expected. Please change the shape of y to (n_samples,), for example using ravel().\n",
      "  self.model_ = model.fit(X, y)\n"
     ]
    }
   ],
   "source": [
    "estimators = []\n",
    "results_sc = pd.DataFrame()\n",
    "for cu, co in zip([5,7.5,9],[5,2.5,1]):\n",
    "#for cu, co in zip([7.5],[2.5]):\n",
    "  for  estimator_tuple in estimator_tuple_list:\n",
    "    costs = []\n",
    "    score = []\n",
    "    for product in products:\n",
    "      \n",
    "      X_train, X_test, y_train, y_test = train_test_split(X, y[product], train_size=0.75, shuffle=False)\n",
    "      scaler = StandardScaler()\n",
    "      scaler.fit(X_train)\n",
    "      X_train = scaler.transform(X_train)\n",
    "      X_test = scaler.transform(X_test)\n",
    "      \n",
    "      #scale target variable\n",
    "      scaler_target = StandardScaler()\n",
    "      scaler_target.fit(np.array(y_train).reshape(-1, 1))\n",
    "      y_train = scaler_target.transform(np.array(y_train).reshape(-1, 1))\n",
    "      #y_test = scaler_target.transform(np.array(y_test).reshape(-1, 1))\n",
    "\n",
    "      saa_pred = SampleAverageApproximationNewsvendor(cu,co).fit(y_train).predict(y_test.shape[0])\n",
    "      saa_pred = scaler_target.inverse_transform(saa_pred)\n",
    "      estimator_name = estimator_tuple[0]\n",
    "      param_grid = estimator_tuple[2]\n",
    "      estimator = estimator_tuple[1]\n",
    "      estimator.set_params(cu=cu,co=co)\n",
    "      print(estimator)\n",
    "\n",
    "      if param_grid == None:\n",
    "        if estimator_name==\"SAA\":\n",
    "          pred = estimator.fit(y_train).predict(X_test.shape[0])\n",
    "          pred = scaler_target.inverse_transform(pred)\n",
    "        else:\n",
    "          pred = estimator.fit(X_train,y_train).predict(X_test)\n",
    "          pred = scaler_target.inverse_transform(pred)\n",
    "        \n",
    "      else:\n",
    "        cv = RepeatedKFold(n_splits=10, n_repeats=3, random_state=1)\n",
    "        gs = GridSearchCV(estimator, param_grid, cv=cv, n_jobs=-1)\n",
    "        gs.fit(X_train,y_train)\n",
    "        best_estimator = gs.best_estimator_\n",
    "        pred = best_estimator.predict(X_test)\n",
    "        pred = scaler_target.inverse_transform(pred)\n",
    "        estimators.append(best_estimator)\n",
    "\n",
    "      avg_cost = average_costs(y_test,pred,cu,co,multioutput=\"uniform_average\")\n",
    "      p_score = prescriptiveness_score(y_test, pred, saa_pred, cu, co, multioutput=\"uniform_average\")\n",
    "      costs.append(avg_cost)\n",
    "      score.append(p_score)\n",
    "\n",
    "    d = {'SL': [cu/(cu+co)], 'Model': [estimator_name]}  \n",
    "    for i in range(len(costs)):\n",
    "      d[products[i]+\" AC\"] = costs[i]\n",
    "    for i in range(len(costs)):\n",
    "      d[products[i]+\" SoP\"] = score[i]\n",
    "\n",
    "    average_cost = statistics.mean(costs)\n",
    "    d[\"Average Cost\"] = average_cost\n",
    "    presc_score = statistics.mean(score)\n",
    "    d[\"Score of Prescriptiveness\"] = presc_score\n",
    "    df = pd.DataFrame(data=d)\n",
    "    results_sc = pd.concat([results_sc,df])"
   ]
  },
  {
   "cell_type": "code",
   "execution_count": 60,
   "metadata": {
    "colab": {
     "base_uri": "https://localhost:8080/",
     "height": 142
    },
    "id": "M-tRuMuc4c_7",
    "outputId": "00cbfc41-186d-484d-bea8-94c89a7af51e"
   },
   "outputs": [
    {
     "data": {
      "text/html": [
       "<div>\n",
       "<style scoped>\n",
       "    .dataframe tbody tr th:only-of-type {\n",
       "        vertical-align: middle;\n",
       "    }\n",
       "\n",
       "    .dataframe tbody tr th {\n",
       "        vertical-align: top;\n",
       "    }\n",
       "\n",
       "    .dataframe thead th {\n",
       "        text-align: right;\n",
       "    }\n",
       "</style>\n",
       "<table border=\"1\" class=\"dataframe\">\n",
       "  <thead>\n",
       "    <tr style=\"text-align: right;\">\n",
       "      <th></th>\n",
       "      <th>SL</th>\n",
       "      <th>Model</th>\n",
       "      <th>calamari AC</th>\n",
       "      <th>fish AC</th>\n",
       "      <th>shrimp AC</th>\n",
       "      <th>chicken AC</th>\n",
       "      <th>koefte AC</th>\n",
       "      <th>lamb AC</th>\n",
       "      <th>steak AC</th>\n",
       "      <th>calamari SoP</th>\n",
       "      <th>fish SoP</th>\n",
       "      <th>shrimp SoP</th>\n",
       "      <th>chicken SoP</th>\n",
       "      <th>koefte SoP</th>\n",
       "      <th>lamb SoP</th>\n",
       "      <th>steak SoP</th>\n",
       "      <th>Average Cost</th>\n",
       "      <th>Score of Prescriptiveness</th>\n",
       "    </tr>\n",
       "  </thead>\n",
       "  <tbody>\n",
       "    <tr>\n",
       "      <th>0</th>\n",
       "      <td>0.50</td>\n",
       "      <td>RFW</td>\n",
       "      <td>8.645833</td>\n",
       "      <td>8.619792</td>\n",
       "      <td>16.093750</td>\n",
       "      <td>38.802083</td>\n",
       "      <td>34.661458</td>\n",
       "      <td>42.109375</td>\n",
       "      <td>28.802083</td>\n",
       "      <td>0.023529</td>\n",
       "      <td>0.034985</td>\n",
       "      <td>0.085799</td>\n",
       "      <td>0.091463</td>\n",
       "      <td>0.082702</td>\n",
       "      <td>0.113487</td>\n",
       "      <td>0.099349</td>\n",
       "      <td>25.390625</td>\n",
       "      <td>0.075902</td>\n",
       "    </tr>\n",
       "    <tr>\n",
       "      <th>0</th>\n",
       "      <td>0.75</td>\n",
       "      <td>RFW</td>\n",
       "      <td>7.552083</td>\n",
       "      <td>7.955729</td>\n",
       "      <td>13.125000</td>\n",
       "      <td>33.593750</td>\n",
       "      <td>29.973958</td>\n",
       "      <td>32.395833</td>\n",
       "      <td>24.322917</td>\n",
       "      <td>0.070513</td>\n",
       "      <td>-0.006590</td>\n",
       "      <td>0.126516</td>\n",
       "      <td>0.120654</td>\n",
       "      <td>0.066883</td>\n",
       "      <td>0.195343</td>\n",
       "      <td>0.188532</td>\n",
       "      <td>21.274182</td>\n",
       "      <td>0.108836</td>\n",
       "    </tr>\n",
       "    <tr>\n",
       "      <th>0</th>\n",
       "      <td>0.90</td>\n",
       "      <td>RFW</td>\n",
       "      <td>4.354167</td>\n",
       "      <td>5.072917</td>\n",
       "      <td>7.671875</td>\n",
       "      <td>20.734375</td>\n",
       "      <td>16.984375</td>\n",
       "      <td>18.375000</td>\n",
       "      <td>14.588542</td>\n",
       "      <td>0.158954</td>\n",
       "      <td>0.115350</td>\n",
       "      <td>0.098531</td>\n",
       "      <td>0.160835</td>\n",
       "      <td>0.100414</td>\n",
       "      <td>0.160400</td>\n",
       "      <td>0.256240</td>\n",
       "      <td>12.540179</td>\n",
       "      <td>0.150103</td>\n",
       "    </tr>\n",
       "  </tbody>\n",
       "</table>\n",
       "</div>"
      ],
      "text/plain": [
       "     SL Model  calamari AC   fish AC  shrimp AC  chicken AC  koefte AC  \\\n",
       "0  0.50   RFW     8.645833  8.619792  16.093750   38.802083  34.661458   \n",
       "0  0.75   RFW     7.552083  7.955729  13.125000   33.593750  29.973958   \n",
       "0  0.90   RFW     4.354167  5.072917   7.671875   20.734375  16.984375   \n",
       "\n",
       "     lamb AC   steak AC  calamari SoP  fish SoP  shrimp SoP  chicken SoP  \\\n",
       "0  42.109375  28.802083      0.023529  0.034985    0.085799     0.091463   \n",
       "0  32.395833  24.322917      0.070513 -0.006590    0.126516     0.120654   \n",
       "0  18.375000  14.588542      0.158954  0.115350    0.098531     0.160835   \n",
       "\n",
       "   koefte SoP  lamb SoP  steak SoP  Average Cost  Score of Prescriptiveness  \n",
       "0    0.082702  0.113487   0.099349     25.390625                   0.075902  \n",
       "0    0.066883  0.195343   0.188532     21.274182                   0.108836  \n",
       "0    0.100414  0.160400   0.256240     12.540179                   0.150103  "
      ]
     },
     "execution_count": 60,
     "metadata": {},
     "output_type": "execute_result"
    }
   ],
   "source": [
    "results_sc"
   ]
  },
  {
   "cell_type": "code",
   "execution_count": 73,
   "metadata": {
    "colab": {
     "base_uri": "https://localhost:8080/"
    },
    "id": "bC6D519PorrO",
    "outputId": "8629ed92-1986-478b-d99a-09e0a6fffb6a"
   },
   "outputs": [],
   "source": [
    "grid_values = [] \n",
    "for est in estimators:\n",
    "    \n",
    "    values = [est.get_params().get(x) for x in ['max_depth', 'min_samples_split', 'n_estimators']]\n",
    "    \n",
    "    grid_values.append(values)\n",
    "\n",
    "grid_v = pd.DataFrame(grid_values, columns = ['max_depth', 'min_samples_split', 'n_estimators'])"
   ]
  },
  {
   "cell_type": "code",
   "execution_count": 74,
   "metadata": {},
   "outputs": [
    {
     "data": {
      "text/html": [
       "<div>\n",
       "<style scoped>\n",
       "    .dataframe tbody tr th:only-of-type {\n",
       "        vertical-align: middle;\n",
       "    }\n",
       "\n",
       "    .dataframe tbody tr th {\n",
       "        vertical-align: top;\n",
       "    }\n",
       "\n",
       "    .dataframe thead th {\n",
       "        text-align: right;\n",
       "    }\n",
       "</style>\n",
       "<table border=\"1\" class=\"dataframe\">\n",
       "  <thead>\n",
       "    <tr style=\"text-align: right;\">\n",
       "      <th></th>\n",
       "      <th>max_depth</th>\n",
       "      <th>min_samples_split</th>\n",
       "      <th>n_estimators</th>\n",
       "    </tr>\n",
       "  </thead>\n",
       "  <tbody>\n",
       "    <tr>\n",
       "      <th>0</th>\n",
       "      <td>3.0</td>\n",
       "      <td>8</td>\n",
       "      <td>100</td>\n",
       "    </tr>\n",
       "    <tr>\n",
       "      <th>1</th>\n",
       "      <td>4.0</td>\n",
       "      <td>2</td>\n",
       "      <td>100</td>\n",
       "    </tr>\n",
       "    <tr>\n",
       "      <th>2</th>\n",
       "      <td>15.0</td>\n",
       "      <td>50</td>\n",
       "      <td>50</td>\n",
       "    </tr>\n",
       "    <tr>\n",
       "      <th>3</th>\n",
       "      <td>7.0</td>\n",
       "      <td>4</td>\n",
       "      <td>100</td>\n",
       "    </tr>\n",
       "    <tr>\n",
       "      <th>4</th>\n",
       "      <td>8.0</td>\n",
       "      <td>6</td>\n",
       "      <td>100</td>\n",
       "    </tr>\n",
       "    <tr>\n",
       "      <th>5</th>\n",
       "      <td>6.0</td>\n",
       "      <td>4</td>\n",
       "      <td>50</td>\n",
       "    </tr>\n",
       "    <tr>\n",
       "      <th>6</th>\n",
       "      <td>9.0</td>\n",
       "      <td>6</td>\n",
       "      <td>100</td>\n",
       "    </tr>\n",
       "    <tr>\n",
       "      <th>7</th>\n",
       "      <td>3.0</td>\n",
       "      <td>2</td>\n",
       "      <td>50</td>\n",
       "    </tr>\n",
       "    <tr>\n",
       "      <th>8</th>\n",
       "      <td>5.0</td>\n",
       "      <td>4</td>\n",
       "      <td>100</td>\n",
       "    </tr>\n",
       "    <tr>\n",
       "      <th>9</th>\n",
       "      <td>NaN</td>\n",
       "      <td>50</td>\n",
       "      <td>100</td>\n",
       "    </tr>\n",
       "    <tr>\n",
       "      <th>10</th>\n",
       "      <td>7.0</td>\n",
       "      <td>6</td>\n",
       "      <td>100</td>\n",
       "    </tr>\n",
       "    <tr>\n",
       "      <th>11</th>\n",
       "      <td>7.0</td>\n",
       "      <td>2</td>\n",
       "      <td>100</td>\n",
       "    </tr>\n",
       "    <tr>\n",
       "      <th>12</th>\n",
       "      <td>7.0</td>\n",
       "      <td>2</td>\n",
       "      <td>50</td>\n",
       "    </tr>\n",
       "    <tr>\n",
       "      <th>13</th>\n",
       "      <td>6.0</td>\n",
       "      <td>6</td>\n",
       "      <td>50</td>\n",
       "    </tr>\n",
       "    <tr>\n",
       "      <th>14</th>\n",
       "      <td>2.0</td>\n",
       "      <td>2</td>\n",
       "      <td>10</td>\n",
       "    </tr>\n",
       "    <tr>\n",
       "      <th>15</th>\n",
       "      <td>7.0</td>\n",
       "      <td>10</td>\n",
       "      <td>50</td>\n",
       "    </tr>\n",
       "    <tr>\n",
       "      <th>16</th>\n",
       "      <td>15.0</td>\n",
       "      <td>50</td>\n",
       "      <td>50</td>\n",
       "    </tr>\n",
       "    <tr>\n",
       "      <th>17</th>\n",
       "      <td>6.0</td>\n",
       "      <td>6</td>\n",
       "      <td>100</td>\n",
       "    </tr>\n",
       "    <tr>\n",
       "      <th>18</th>\n",
       "      <td>7.0</td>\n",
       "      <td>8</td>\n",
       "      <td>20</td>\n",
       "    </tr>\n",
       "    <tr>\n",
       "      <th>19</th>\n",
       "      <td>7.0</td>\n",
       "      <td>4</td>\n",
       "      <td>20</td>\n",
       "    </tr>\n",
       "    <tr>\n",
       "      <th>20</th>\n",
       "      <td>4.0</td>\n",
       "      <td>10</td>\n",
       "      <td>20</td>\n",
       "    </tr>\n",
       "  </tbody>\n",
       "</table>\n",
       "</div>"
      ],
      "text/plain": [
       "    max_depth  min_samples_split  n_estimators\n",
       "0         3.0                  8           100\n",
       "1         4.0                  2           100\n",
       "2        15.0                 50            50\n",
       "3         7.0                  4           100\n",
       "4         8.0                  6           100\n",
       "5         6.0                  4            50\n",
       "6         9.0                  6           100\n",
       "7         3.0                  2            50\n",
       "8         5.0                  4           100\n",
       "9         NaN                 50           100\n",
       "10        7.0                  6           100\n",
       "11        7.0                  2           100\n",
       "12        7.0                  2            50\n",
       "13        6.0                  6            50\n",
       "14        2.0                  2            10\n",
       "15        7.0                 10            50\n",
       "16       15.0                 50            50\n",
       "17        6.0                  6           100\n",
       "18        7.0                  8            20\n",
       "19        7.0                  4            20\n",
       "20        4.0                 10            20"
      ]
     },
     "execution_count": 74,
     "metadata": {},
     "output_type": "execute_result"
    }
   ],
   "source": [
    "grid_v"
   ]
  },
  {
   "cell_type": "code",
   "execution_count": null,
   "metadata": {
    "id": "CN6O_6b0OR22"
   },
   "outputs": [],
   "source": [
    "results.to_excel(\"results_yaz_lag_per_product.xlsx\")"
   ]
  },
  {
   "cell_type": "code",
   "execution_count": null,
   "metadata": {
    "id": "qzlxgk1L9uH4"
   },
   "outputs": [],
   "source": [
    "from google.colab import files"
   ]
  },
  {
   "cell_type": "code",
   "execution_count": null,
   "metadata": {
    "colab": {
     "base_uri": "https://localhost:8080/",
     "height": 17
    },
    "id": "3VPMwqtO9w7m",
    "outputId": "101df951-d5b6-4269-8f44-f25244729685"
   },
   "outputs": [
    {
     "data": {
      "application/javascript": [
       "\n",
       "    async function download(id, filename, size) {\n",
       "      if (!google.colab.kernel.accessAllowed) {\n",
       "        return;\n",
       "      }\n",
       "      const div = document.createElement('div');\n",
       "      const label = document.createElement('label');\n",
       "      label.textContent = `Downloading \"${filename}\": `;\n",
       "      div.appendChild(label);\n",
       "      const progress = document.createElement('progress');\n",
       "      progress.max = size;\n",
       "      div.appendChild(progress);\n",
       "      document.body.appendChild(div);\n",
       "\n",
       "      const buffers = [];\n",
       "      let downloaded = 0;\n",
       "\n",
       "      const channel = await google.colab.kernel.comms.open(id);\n",
       "      // Send a message to notify the kernel that we're ready.\n",
       "      channel.send({})\n",
       "\n",
       "      for await (const message of channel.messages) {\n",
       "        // Send a message to notify the kernel that we're ready.\n",
       "        channel.send({})\n",
       "        if (message.buffers) {\n",
       "          for (const buffer of message.buffers) {\n",
       "            buffers.push(buffer);\n",
       "            downloaded += buffer.byteLength;\n",
       "            progress.value = downloaded;\n",
       "          }\n",
       "        }\n",
       "      }\n",
       "      const blob = new Blob(buffers, {type: 'application/binary'});\n",
       "      const a = document.createElement('a');\n",
       "      a.href = window.URL.createObjectURL(blob);\n",
       "      a.download = filename;\n",
       "      div.appendChild(a);\n",
       "      a.click();\n",
       "      div.remove();\n",
       "    }\n",
       "  "
      ],
      "text/plain": [
       "<IPython.core.display.Javascript object>"
      ]
     },
     "metadata": {
      "tags": []
     },
     "output_type": "display_data"
    },
    {
     "data": {
      "application/javascript": [
       "download(\"download_ae830299-b99c-4176-9ab7-cbbcc698f2b4\", \"results_yaz_lag_per_product.xlsx\", 8576)"
      ],
      "text/plain": [
       "<IPython.core.display.Javascript object>"
      ]
     },
     "metadata": {
      "tags": []
     },
     "output_type": "display_data"
    }
   ],
   "source": [
    "files.download('results_yaz_lag_per_product.xlsx') "
   ]
  },
  {
   "cell_type": "markdown",
   "metadata": {
    "id": "GblbjTPTlyes"
   },
   "source": [
    "-----------------------------------------------------------------\n",
    "# Global Model (ausgegliedert)"
   ]
  },
  {
   "cell_type": "code",
   "execution_count": null,
   "metadata": {
    "id": "2mLldyuW80E2"
   },
   "outputs": [],
   "source": [
    "estimators = []\n",
    "results = pd.DataFrame()\n",
    "for cu, co in zip([5, 7.5, 9],[5, 2.5, 1]):\n",
    "  saa_pred = SampleAverageApproximationNewsvendor(cu,co).fit(y_train).predict(y_test.shape[0])\n",
    "  for estimator_tuple in estimator_tuple_list:\n",
    "    estimator_name = estimator_tuple[0]\n",
    "    param_grid = estimator_tuple[2]\n",
    "    estimator = estimator_tuple[1]\n",
    "    estimator.set_params(cu=cu,co=co)\n",
    "    print(estimator)\n",
    "    if param_grid == None:\n",
    "      if estimator_name==\"SAA\":\n",
    "        pred = estimator.fit(y_train).predict(X_test.shape[0])\n",
    "      else:\n",
    "        pred = estimator.fit(X_train,y_train).predict(X_test)\n",
    "      \n",
    "    else:\n",
    "      gs = GridSearchCV(estimator, param_grid)\n",
    "      gs.fit(X_train,y_train)\n",
    "      best_estimator = gs.best_estimator_\n",
    "      pred = best_estimator.predict(X_test)\n",
    "      estimators.append(best_estimator)\n",
    "      \n",
    "    d = {'SL': [cu/(cu+co)], 'Model': [estimator_name]}  \n",
    "    avg_cost = average_costs(y_test,pred,cu,co, multioutput=\"raw_values\")\n",
    "    p_score = prescriptiveness_score(y_test, pred, saa_pred, cu, co, multioutput=\"raw_values\")\n",
    "    for i in range(avg_cost.size):\n",
    "      d[products[i]+\" AC\"] = avg_cost[i]\n",
    "    for i in range(avg_cost.size):\n",
    "      d[products[i]+\" SoP\"] = p_score[i]\n",
    "    avg_cost = average_costs(y_test,pred,cu,co, multioutput=\"uniform_average\")\n",
    "    d[\"Average Cost\"] = avg_cost\n",
    "    p_score = prescriptiveness_score(y_test, pred, saa_pred, cu, co, multioutput=\"uniform_average\")\n",
    "    d[\"Score of Prescriptiveness\"] = p_score\n",
    "    df = pd.DataFrame(data=d)\n",
    "    results = pd.concat([results,df])\n"
   ]
  },
  {
   "cell_type": "markdown",
   "metadata": {
    "id": "wT_2JIDSn_7b"
   },
   "source": [
    "-----------------------------------------\n",
    "# Bakery Dataset"
   ]
  },
  {
   "cell_type": "code",
   "execution_count": 6,
   "metadata": {
    "id": "cSE18NAg4Zav"
   },
   "outputs": [],
   "source": [
    "bakery = load_bakery(one_hot_encoding=True)\n",
    "X = bakery.data\n",
    "y = bakery.target"
   ]
  },
  {
   "cell_type": "code",
   "execution_count": 7,
   "metadata": {
    "id": "dvM2zmJQr2Vr"
   },
   "outputs": [],
   "source": [
    "X_grouped = X.groupby(['product', 'store'])"
   ]
  },
  {
   "cell_type": "code",
   "execution_count": 8,
   "metadata": {
    "id": "6hGfccLJsFPk"
   },
   "outputs": [],
   "source": [
    "groups = list(X_grouped.groups.keys())"
   ]
  },
  {
   "cell_type": "code",
   "execution_count": 9,
   "metadata": {},
   "outputs": [],
   "source": [
    "import time"
   ]
  },
  {
   "cell_type": "code",
   "execution_count": null,
   "metadata": {
    "colab": {
     "base_uri": "https://localhost:8080/"
    },
    "id": "03OSMAhBn7OW",
    "outputId": "7cc63463-94ed-4195-8d8e-de11b05b30af"
   },
   "outputs": [
    {
     "name": "stdout",
     "output_type": "stream",
     "text": [
      "RandomForestWeightedNewsvendor(co=2.5, cu=7.5, n_jobs=2, random_state=1)\n",
      "1623932693.4118004\n"
     ]
    },
    {
     "name": "stderr",
     "output_type": "stream",
     "text": [
      "/media/data/anaconda3/envs/ddnv_env/lib/python3.7/site-packages/ddop/newsvendor/_WeightedNewsvendor.py:578: DataConversionWarning: A column-vector y was passed when a 1d array was expected. Please change the shape of y to (n_samples,), for example using ravel().\n",
      "  self.model_ = model.fit(X, y)\n"
     ]
    },
    {
     "name": "stdout",
     "output_type": "stream",
     "text": [
      "1543.0233602523804\n",
      "RandomForestWeightedNewsvendor(co=2.5, cu=7.5, n_jobs=2, random_state=1)\n",
      "1623934236.44368\n"
     ]
    }
   ],
   "source": [
    "import statistics\n",
    "estimators = []\n",
    "results = pd.DataFrame()\n",
    "#for cu, co in zip([5,7.5,9],[5,2.5,1]):\n",
    "for cu, co in zip([7.5],[2.5]):\n",
    "  for  estimator_tuple in estimator_tuple_list:\n",
    "    costs = []\n",
    "    score = []\n",
    "    for group in groups:\n",
    "\n",
    "      X_temp = X_grouped.get_group(group)\n",
    "      y_temp = y.iloc[X_temp.index.values.tolist()]\n",
    "\n",
    "      X_train, X_test, y_train, y_test = train_test_split(X_temp, y_temp, train_size=0.75, shuffle=False)\n",
    "      scaler = StandardScaler()\n",
    "      scaler.fit(X_train)\n",
    "      X_train = scaler.transform(X_train)\n",
    "      X_test = scaler.transform(X_test)\n",
    "\n",
    "      #scale target variable\n",
    "      scaler_target = StandardScaler()\n",
    "      scaler_target.fit(np.array(y_train).reshape(-1, 1))\n",
    "      y_train = scaler_target.transform(np.array(y_train).reshape(-1, 1))\n",
    "\n",
    "      saa_pred = SampleAverageApproximationNewsvendor(cu,co).fit(y_train).predict(y_test.shape[0])\n",
    "      saa_pred = scaler_target.inverse_transform(saa_pred)\n",
    "      estimator_name = estimator_tuple[0]\n",
    "      param_grid = estimator_tuple[2]\n",
    "      estimator = estimator_tuple[1]\n",
    "      estimator.set_params(cu=cu,co=co)\n",
    "      print(estimator)\n",
    "\n",
    "      if param_grid == None:\n",
    "        if estimator_name==\"SAA\":\n",
    "          pred = estimator.fit(y_train).predict(X_test.shape[0])\n",
    "          pred = scaler_target.inverse_transform(pred)\n",
    "        else:\n",
    "          pred = estimator.fit(X_train,y_train).predict(X_test)\n",
    "          pred = scaler_target.inverse_transform(pred)\n",
    "        \n",
    "      else:\n",
    "        start = time.time()\n",
    "        print(start)\n",
    "        cv = RepeatedKFold(n_splits=10, n_repeats=1, random_state=1)\n",
    "        gs = GridSearchCV(estimator, param_grid, cv=cv, n_jobs=-1)\n",
    "        gs.fit(X_train,y_train)\n",
    "        best_estimator = gs.best_estimator_\n",
    "        pred = best_estimator.predict(X_test)\n",
    "        pred = scaler_target.inverse_transform(pred)\n",
    "        estimators.append(best_estimator)\n",
    "        print(time.time() - start)\n",
    "\n",
    "      avg_cost = average_costs(y_test,pred,cu,co,multioutput=\"uniform_average\")\n",
    "      p_score = prescriptiveness_score(y_test, pred, saa_pred, cu, co, multioutput=\"uniform_average\")\n",
    "      costs.append(avg_cost)\n",
    "      score.append(p_score)\n",
    "\n",
    "    d = {'SL': [cu/(cu+co)], 'Model': [estimator_name]}  \n",
    "    for i in range(len(costs)):\n",
    "      d[str(groups[i])+\" AC\"] = costs[i]\n",
    "    for i in range(len(costs)):\n",
    "      d[str(groups[i])+\" SoP\"] = score[i]\n",
    "\n",
    "    average_cost = statistics.mean(costs)\n",
    "    d[\"Average Cost\"] = average_cost\n",
    "    presc_score = statistics.mean(score)\n",
    "    d[\"Score of Prescriptiveness\"] = presc_score\n",
    "    df = pd.DataFrame(data=d)\n",
    "    results = pd.concat([results,df])"
   ]
  },
  {
   "cell_type": "code",
   "execution_count": null,
   "metadata": {
    "id": "25kPFT4YFyqd"
   },
   "outputs": [],
   "source": [
    "results"
   ]
  },
  {
   "cell_type": "code",
   "execution_count": null,
   "metadata": {
    "id": "r0WYU7FVM6yw"
   },
   "outputs": [],
   "source": [
    "grid_values = [] \n",
    "for est in estimators:\n",
    "    \n",
    "    values = [est.get_params().get(x) for x in ['max_depth', 'min_samples_split', 'n_estimators']]\n",
    "    \n",
    "    grid_values.append(values)\n",
    "\n",
    "grid_v = pd.DataFrame(grid_values, columns = ['max_depth', 'min_samples_split', 'n_estimators'])"
   ]
  },
  {
   "cell_type": "code",
   "execution_count": null,
   "metadata": {},
   "outputs": [],
   "source": [
    "grid_v.to_csv('grid_results_bakery_rf')"
   ]
  },
  {
   "cell_type": "code",
   "execution_count": null,
   "metadata": {},
   "outputs": [],
   "source": []
  }
 ],
 "metadata": {
  "colab": {
   "collapsed_sections": [
    "GblbjTPTlyes"
   ],
   "include_colab_link": true,
   "name": "BigDataNeu.ipynb",
   "provenance": []
  },
  "kernelspec": {
   "display_name": "ddnv_env",
   "language": "python",
   "name": "ddnv_env"
  },
  "language_info": {
   "codemirror_mode": {
    "name": "ipython",
    "version": 3
   },
   "file_extension": ".py",
   "mimetype": "text/x-python",
   "name": "python",
   "nbconvert_exporter": "python",
   "pygments_lexer": "ipython3",
   "version": "3.7.10"
  }
 },
 "nbformat": 4,
 "nbformat_minor": 4
}
