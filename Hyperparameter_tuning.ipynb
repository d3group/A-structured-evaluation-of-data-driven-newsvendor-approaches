{
  "nbformat": 4,
  "nbformat_minor": 0,
  "metadata": {
    "colab": {
      "name": "BigDataNeu.ipynb",
      "provenance": [],
      "collapsed_sections": [
        "GblbjTPTlyes"
      ],
      "include_colab_link": true
    },
    "kernelspec": {
      "display_name": "Python 3",
      "name": "python3"
    }
  },
  "cells": [
    {
      "cell_type": "markdown",
      "metadata": {
        "id": "view-in-github",
        "colab_type": "text"
      },
      "source": [
        "<a href=\"https://colab.research.google.com/github/sbuttler/ddnv/blob/main/Hyperparameter_tuning.ipynb\" target=\"_parent\"><img src=\"https://colab.research.google.com/assets/colab-badge.svg\" alt=\"Open In Colab\"/></a>"
      ]
    },
    {
      "cell_type": "code",
      "metadata": {
        "id": "zyCpt4HASHSW"
      },
      "source": [
        "pip install scikit-learn==0.23.1 tensorflow==2.1.0  keras==2.3.1 ddop==0.6.7"
      ],
      "execution_count": null,
      "outputs": []
    },
    {
      "cell_type": "code",
      "metadata": {
        "id": "jzZP0iaWU691"
      },
      "source": [
        "from sklearn.utils.validation import check_array\n",
        "from sklearn.model_selection import GridSearchCV\n",
        "from sklearn.model_selection import RepeatedKFold\n",
        "from sklearn.model_selection import train_test_split\n",
        "from sklearn.preprocessing import StandardScaler\n",
        "from sklearn.tree import DecisionTreeRegressor\n",
        "from sklearn.metrics import make_scorer\n",
        "from ddop.datasets import load_yaz, load_bakery\n",
        "from ddop.metrics import average_costs, prescriptiveness_score\n",
        "from ddop.newsvendor import SampleAverageApproximationNewsvendor\n",
        "from ddop.newsvendor import DecisionTreeWeightedNewsvendor\n",
        "from ddop.newsvendor import RandomForestWeightedNewsvendor \n",
        "from ddop.newsvendor import KNeighborsWeightedNewsvendor\n",
        "from ddop.newsvendor import LinearRegressionNewsvendor\n",
        "from ddop.newsvendor import GaussianWeightedNewsvendor\n",
        "from ddop.newsvendor import LinearRegressionNewsvendor\n",
        "from ddop.newsvendor import DeepLearningNewsvendor\n",
        "from matplotlib import pyplot as plt\n",
        "import seaborn as sns\n",
        "import numpy as np\n",
        "import pandas as pd\n",
        "import statistics"
      ],
      "execution_count": 53,
      "outputs": []
    },
    {
      "cell_type": "code",
      "metadata": {
        "id": "6sdPbP50Aqlt"
      },
      "source": [
        "n_features = 12"
      ],
      "execution_count": null,
      "outputs": []
    },
    {
      "cell_type": "code",
      "metadata": {
        "id": "NIXqigTR8Ik_"
      },
      "source": [
        "#TODO: Set Grids\n",
        "dl = {\"optimizer\": [\"adam\"],\n",
        "      \"neurons\": [\n",
        "                  (round(0.5*n_features),round(0.5*0.5*n_features)),\n",
        "                  (round(0.5*n_features),round(0.5*1*n_features)),\n",
        "                  (1*n_features,round(1*0.5*n_features)),\n",
        "                  (1*n_features,1*1*n_features),\n",
        "                  (2*n_features,round(2*0.5*n_features)),\n",
        "                  (2*n_features,2*1*n_features),\n",
        "                  (3*n_features,round(3*0.5*n_features)),\n",
        "                  (3*n_features,3*1*n_features)],\n",
        "      \"epochs\": [10,100,200]}\n",
        "\n",
        "dtw = {\"max_depth\":[1,2,3,4,5,6,7,8,10,15,20,25]}\n",
        "\n",
        "rfw = {\"max_depth\":[None,2,4,6,8,10],\n",
        "          'min_samples_split':[2,4,6,8,10],\n",
        "          'n_estimators':[2,10,20]}\n",
        "\n",
        "knnw = {'n_neighbors':[1,2,4,8,16,32]}\n",
        "\n",
        "gkw = {'kernel_bandwidth':[1,1.2,1.4,1.6,1.8,2,2.5,3]}"
      ],
      "execution_count": 40,
      "outputs": []
    },
    {
      "cell_type": "code",
      "metadata": {
        "id": "DN8Ntb_Me5zl"
      },
      "source": [
        "# Define model tuples: 'model_name', model, grid\n",
        "estimator_tuple_list = []\n",
        "#estimator_tuple_list.append(('SAA', SampleAverageApproximationNewsvendor(),None))\n",
        "estimator_tuple_list.append(('DTW', DecisionTreeWeightedNewsvendor(random_state=1),dtw))\n",
        "#estimator_tuple_list.append(('RFW', RandomForestWeightedNewsvendor(random_state=1),rfw))\n",
        "#estimator_tuple_list.append(('KNNW',KNeighborsWeightedNewsvendor(),knnw))\n",
        "#estimator_tuple_list.append(('GKW', GaussianWeightedNewsvendor(),gkw))\n",
        "#estimator_tuple_list.append(('DL', DeepLearningNewsvendor(),[dl]))\n",
        "#estimator_tuple_list.append(('LR', LinearRegressionNewsvendor(),None))"
      ],
      "execution_count": 41,
      "outputs": []
    },
    {
      "cell_type": "markdown",
      "metadata": {
        "id": "O3wy40IDoJZq"
      },
      "source": [
        "--------------------------------------\n",
        "# YAZ Dataset"
      ]
    },
    {
      "cell_type": "code",
      "metadata": {
        "id": "rYeKaD8BWH4w"
      },
      "source": [
        "data = load_yaz(one_hot_encoding=True)\n",
        "X = data.data\n",
        "y = data.target"
      ],
      "execution_count": 42,
      "outputs": []
    },
    {
      "cell_type": "code",
      "metadata": {
        "id": "Ad9lDr2qWPyx"
      },
      "source": [
        "products = y.columns.to_list()"
      ],
      "execution_count": 43,
      "outputs": []
    },
    {
      "cell_type": "markdown",
      "metadata": {
        "id": "qgF1eStC8vx9"
      },
      "source": [
        "No target scaling"
      ]
    },
    {
      "cell_type": "code",
      "metadata": {
        "id": "epiXFpK1hv-V",
        "colab": {
          "base_uri": "https://localhost:8080/"
        },
        "outputId": "68d7c150-4c3d-48ec-b6f5-d9035cdf9adc"
      },
      "source": [
        "estimators = []\n",
        "results = pd.DataFrame()\n",
        "for cu, co in zip([5,7.5,9],[5,2.5,1]):\n",
        "#for cu, co in zip([7.5],[2.5]):\n",
        "  for  estimator_tuple in estimator_tuple_list:\n",
        "    costs = []\n",
        "    score = []\n",
        "    for product in products:\n",
        "      \n",
        "      X_train, X_test, y_train, y_test = train_test_split(X, y[product], train_size=0.75, shuffle=False)\n",
        "      scaler = StandardScaler()\n",
        "      scaler.fit(X_train)\n",
        "      X_train = scaler.transform(X_train)\n",
        "      X_test = scaler.transform(X_test)\n",
        "\n",
        "      saa_pred = SampleAverageApproximationNewsvendor(cu,co).fit(y_train).predict(y_test.shape[0])\n",
        "      estimator_name = estimator_tuple[0]\n",
        "      param_grid = estimator_tuple[2]\n",
        "      estimator = estimator_tuple[1]\n",
        "      estimator.set_params(cu=cu,co=co)\n",
        "      print(estimator)\n",
        "\n",
        "      if param_grid == None:\n",
        "        if estimator_name==\"SAA\":\n",
        "          pred = estimator.fit(y_train).predict(X_test.shape[0])\n",
        "        else:\n",
        "          pred = estimator.fit(X_train,y_train).predict(X_test)\n",
        "        \n",
        "      else:\n",
        "        gs = GridSearchCV(estimator, param_grid)\n",
        "        gs.fit(X_train,y_train)\n",
        "        best_estimator = gs.best_estimator_\n",
        "        pred = best_estimator.predict(X_test)\n",
        "        estimators.append(best_estimator)\n",
        "\n",
        "      avg_cost = average_costs(y_test,pred,cu,co,multioutput=\"uniform_average\")\n",
        "      p_score = prescriptiveness_score(y_test, pred, saa_pred, cu, co, multioutput=\"uniform_average\")\n",
        "      costs.append(avg_cost)\n",
        "      score.append(p_score)\n",
        "\n",
        "    d = {'SL': [cu/(cu+co)], 'Model': [estimator_name]}  \n",
        "    for i in range(len(costs)):\n",
        "      d[products[i]+\" AC\"] = costs[i]\n",
        "    for i in range(len(costs)):\n",
        "      d[products[i]+\" SoP\"] = score[i]\n",
        "\n",
        "    average_cost = statistics.mean(costs)\n",
        "    d[\"Average Cost\"] = average_cost\n",
        "    presc_score = statistics.mean(score)\n",
        "    d[\"Score of Prescriptiveness\"] = presc_score\n",
        "    df = pd.DataFrame(data=d)\n",
        "    results = pd.concat([results,df])"
      ],
      "execution_count": 45,
      "outputs": [
        {
          "output_type": "stream",
          "text": [
            "DecisionTreeWeightedNewsvendor(co=5, cu=5, random_state=1)\n",
            "DecisionTreeWeightedNewsvendor(co=5, cu=5, random_state=1)\n",
            "DecisionTreeWeightedNewsvendor(co=5, cu=5, random_state=1)\n",
            "DecisionTreeWeightedNewsvendor(co=5, cu=5, random_state=1)\n",
            "DecisionTreeWeightedNewsvendor(co=5, cu=5, random_state=1)\n",
            "DecisionTreeWeightedNewsvendor(co=5, cu=5, random_state=1)\n",
            "DecisionTreeWeightedNewsvendor(co=5, cu=5, random_state=1)\n",
            "DecisionTreeWeightedNewsvendor(co=2.5, cu=7.5, random_state=1)\n",
            "DecisionTreeWeightedNewsvendor(co=2.5, cu=7.5, random_state=1)\n",
            "DecisionTreeWeightedNewsvendor(co=2.5, cu=7.5, random_state=1)\n",
            "DecisionTreeWeightedNewsvendor(co=2.5, cu=7.5, random_state=1)\n",
            "DecisionTreeWeightedNewsvendor(co=2.5, cu=7.5, random_state=1)\n",
            "DecisionTreeWeightedNewsvendor(co=2.5, cu=7.5, random_state=1)\n",
            "DecisionTreeWeightedNewsvendor(co=2.5, cu=7.5, random_state=1)\n",
            "DecisionTreeWeightedNewsvendor(co=1, cu=9, random_state=1)\n",
            "DecisionTreeWeightedNewsvendor(co=1, cu=9, random_state=1)\n",
            "DecisionTreeWeightedNewsvendor(co=1, cu=9, random_state=1)\n",
            "DecisionTreeWeightedNewsvendor(co=1, cu=9, random_state=1)\n",
            "DecisionTreeWeightedNewsvendor(co=1, cu=9, random_state=1)\n",
            "DecisionTreeWeightedNewsvendor(co=1, cu=9, random_state=1)\n",
            "DecisionTreeWeightedNewsvendor(co=1, cu=9, random_state=1)\n"
          ],
          "name": "stdout"
        }
      ]
    },
    {
      "cell_type": "code",
      "metadata": {
        "colab": {
          "base_uri": "https://localhost:8080/",
          "height": 142
        },
        "id": "H33W8JA_83za",
        "outputId": "bbebed53-15c1-49ea-dcb5-f7ce00bcdcc9"
      },
      "source": [
        "results"
      ],
      "execution_count": 46,
      "outputs": [
        {
          "output_type": "execute_result",
          "data": {
            "text/html": [
              "<div>\n",
              "<style scoped>\n",
              "    .dataframe tbody tr th:only-of-type {\n",
              "        vertical-align: middle;\n",
              "    }\n",
              "\n",
              "    .dataframe tbody tr th {\n",
              "        vertical-align: top;\n",
              "    }\n",
              "\n",
              "    .dataframe thead th {\n",
              "        text-align: right;\n",
              "    }\n",
              "</style>\n",
              "<table border=\"1\" class=\"dataframe\">\n",
              "  <thead>\n",
              "    <tr style=\"text-align: right;\">\n",
              "      <th></th>\n",
              "      <th>SL</th>\n",
              "      <th>Model</th>\n",
              "      <th>calamari AC</th>\n",
              "      <th>fish AC</th>\n",
              "      <th>shrimp AC</th>\n",
              "      <th>chicken AC</th>\n",
              "      <th>koefte AC</th>\n",
              "      <th>lamb AC</th>\n",
              "      <th>steak AC</th>\n",
              "      <th>calamari SoP</th>\n",
              "      <th>fish SoP</th>\n",
              "      <th>shrimp SoP</th>\n",
              "      <th>chicken SoP</th>\n",
              "      <th>koefte SoP</th>\n",
              "      <th>lamb SoP</th>\n",
              "      <th>steak SoP</th>\n",
              "      <th>Average Cost</th>\n",
              "      <th>Score of Prescriptiveness</th>\n",
              "    </tr>\n",
              "  </thead>\n",
              "  <tbody>\n",
              "    <tr>\n",
              "      <th>0</th>\n",
              "      <td>0.50</td>\n",
              "      <td>DTW</td>\n",
              "      <td>9.270833</td>\n",
              "      <td>9.296875</td>\n",
              "      <td>16.302083</td>\n",
              "      <td>48.072917</td>\n",
              "      <td>37.083333</td>\n",
              "      <td>46.666667</td>\n",
              "      <td>30.416667</td>\n",
              "      <td>-0.047059</td>\n",
              "      <td>-0.040816</td>\n",
              "      <td>0.073964</td>\n",
              "      <td>-0.125610</td>\n",
              "      <td>0.018608</td>\n",
              "      <td>0.017544</td>\n",
              "      <td>0.048860</td>\n",
              "      <td>28.158482</td>\n",
              "      <td>-0.007787</td>\n",
              "    </tr>\n",
              "    <tr>\n",
              "      <th>0</th>\n",
              "      <td>0.75</td>\n",
              "      <td>DTW</td>\n",
              "      <td>7.500000</td>\n",
              "      <td>7.955729</td>\n",
              "      <td>14.817708</td>\n",
              "      <td>33.059896</td>\n",
              "      <td>31.692708</td>\n",
              "      <td>40.052083</td>\n",
              "      <td>25.520833</td>\n",
              "      <td>0.076923</td>\n",
              "      <td>-0.006590</td>\n",
              "      <td>0.013865</td>\n",
              "      <td>0.134628</td>\n",
              "      <td>0.013377</td>\n",
              "      <td>0.005175</td>\n",
              "      <td>0.148566</td>\n",
              "      <td>22.942708</td>\n",
              "      <td>0.055135</td>\n",
              "    </tr>\n",
              "    <tr>\n",
              "      <th>0</th>\n",
              "      <td>0.90</td>\n",
              "      <td>DTW</td>\n",
              "      <td>4.479167</td>\n",
              "      <td>4.796875</td>\n",
              "      <td>8.890625</td>\n",
              "      <td>20.239583</td>\n",
              "      <td>17.250000</td>\n",
              "      <td>21.270833</td>\n",
              "      <td>15.854167</td>\n",
              "      <td>0.134809</td>\n",
              "      <td>0.163488</td>\n",
              "      <td>-0.044676</td>\n",
              "      <td>0.180860</td>\n",
              "      <td>0.086345</td>\n",
              "      <td>0.028082</td>\n",
              "      <td>0.191715</td>\n",
              "      <td>13.254464</td>\n",
              "      <td>0.105803</td>\n",
              "    </tr>\n",
              "  </tbody>\n",
              "</table>\n",
              "</div>"
            ],
            "text/plain": [
              "     SL Model  calamari AC  ...  steak SoP  Average Cost  Score of Prescriptiveness\n",
              "0  0.50   DTW     9.270833  ...   0.048860     28.158482                  -0.007787\n",
              "0  0.75   DTW     7.500000  ...   0.148566     22.942708                   0.055135\n",
              "0  0.90   DTW     4.479167  ...   0.191715     13.254464                   0.105803\n",
              "\n",
              "[3 rows x 18 columns]"
            ]
          },
          "metadata": {
            "tags": []
          },
          "execution_count": 46
        }
      ]
    },
    {
      "cell_type": "code",
      "metadata": {
        "colab": {
          "base_uri": "https://localhost:8080/"
        },
        "id": "cMVIG8caJRH9",
        "outputId": "70abdf96-bfa7-40c4-9d6e-ddf5e5d9cd80"
      },
      "source": [
        "estimators"
      ],
      "execution_count": 47,
      "outputs": [
        {
          "output_type": "execute_result",
          "data": {
            "text/plain": [
              "[DecisionTreeWeightedNewsvendor(co=5, cu=5, max_depth=2, random_state=1),\n",
              " DecisionTreeWeightedNewsvendor(co=5, cu=5, max_depth=1, random_state=1),\n",
              " DecisionTreeWeightedNewsvendor(co=5, cu=5, max_depth=3, random_state=1),\n",
              " DecisionTreeWeightedNewsvendor(co=5, cu=5, max_depth=5, random_state=1),\n",
              " DecisionTreeWeightedNewsvendor(co=5, cu=5, max_depth=4, random_state=1),\n",
              " DecisionTreeWeightedNewsvendor(co=5, cu=5, max_depth=5, random_state=1),\n",
              " DecisionTreeWeightedNewsvendor(co=5, cu=5, max_depth=4, random_state=1),\n",
              " DecisionTreeWeightedNewsvendor(co=2.5, cu=7.5, max_depth=2, random_state=1),\n",
              " DecisionTreeWeightedNewsvendor(co=2.5, cu=7.5, max_depth=3, random_state=1),\n",
              " DecisionTreeWeightedNewsvendor(co=2.5, cu=7.5, max_depth=2, random_state=1),\n",
              " DecisionTreeWeightedNewsvendor(co=2.5, cu=7.5, max_depth=3, random_state=1),\n",
              " DecisionTreeWeightedNewsvendor(co=2.5, cu=7.5, max_depth=4, random_state=1),\n",
              " DecisionTreeWeightedNewsvendor(co=2.5, cu=7.5, max_depth=5, random_state=1),\n",
              " DecisionTreeWeightedNewsvendor(co=2.5, cu=7.5, max_depth=3, random_state=1),\n",
              " DecisionTreeWeightedNewsvendor(co=1, cu=9, max_depth=2, random_state=1),\n",
              " DecisionTreeWeightedNewsvendor(co=1, cu=9, max_depth=3, random_state=1),\n",
              " DecisionTreeWeightedNewsvendor(co=1, cu=9, max_depth=3, random_state=1),\n",
              " DecisionTreeWeightedNewsvendor(co=1, cu=9, max_depth=3, random_state=1),\n",
              " DecisionTreeWeightedNewsvendor(co=1, cu=9, max_depth=2, random_state=1),\n",
              " DecisionTreeWeightedNewsvendor(co=1, cu=9, max_depth=2, random_state=1),\n",
              " DecisionTreeWeightedNewsvendor(co=1, cu=9, max_depth=1, random_state=1)]"
            ]
          },
          "metadata": {
            "tags": []
          },
          "execution_count": 47
        }
      ]
    },
    {
      "cell_type": "code",
      "metadata": {
        "id": "AWBcBKbY6Ihz"
      },
      "source": [
        ""
      ],
      "execution_count": null,
      "outputs": []
    },
    {
      "cell_type": "markdown",
      "metadata": {
        "id": "GP38wx618y5c"
      },
      "source": [
        "With target scaling and 10 fold CV"
      ]
    },
    {
      "cell_type": "code",
      "metadata": {
        "colab": {
          "base_uri": "https://localhost:8080/"
        },
        "id": "JAlc4uxB80yn",
        "outputId": "06d6ff36-5a4d-4428-b562-0398304298eb"
      },
      "source": [
        "estimators = []\n",
        "results_sc = pd.DataFrame()\n",
        "for cu, co in zip([5,7.5,9],[5,2.5,1]):\n",
        "#for cu, co in zip([7.5],[2.5]):\n",
        "  for  estimator_tuple in estimator_tuple_list:\n",
        "    costs = []\n",
        "    score = []\n",
        "    for product in products:\n",
        "      \n",
        "      X_train, X_test, y_train, y_test = train_test_split(X, y[product], train_size=0.75, shuffle=False)\n",
        "      scaler = StandardScaler()\n",
        "      scaler.fit(X_train)\n",
        "      X_train = scaler.transform(X_train)\n",
        "      X_test = scaler.transform(X_test)\n",
        "      \n",
        "      #scale target variable\n",
        "      scaler_target = StandardScaler()\n",
        "      scaler_target.fit(np.array(y_train).reshape(-1, 1))\n",
        "      y_train = scaler_target.transform(np.array(y_train).reshape(-1, 1))\n",
        "      #y_test = scaler_target.transform(np.array(y_test).reshape(-1, 1))\n",
        "\n",
        "      saa_pred = SampleAverageApproximationNewsvendor(cu,co).fit(y_train).predict(y_test.shape[0])\n",
        "      saa_pred = scaler_target.inverse_transform(saa_pred)\n",
        "      estimator_name = estimator_tuple[0]\n",
        "      param_grid = estimator_tuple[2]\n",
        "      estimator = estimator_tuple[1]\n",
        "      estimator.set_params(cu=cu,co=co)\n",
        "      print(estimator)\n",
        "\n",
        "      if param_grid == None:\n",
        "        if estimator_name==\"SAA\":\n",
        "          pred = estimator.fit(y_train).predict(X_test.shape[0])\n",
        "          pred = scaler_target.inverse_transform(pred)\n",
        "        else:\n",
        "          pred = estimator.fit(X_train,y_train).predict(X_test)\n",
        "          pred = scaler_target.inverse_transform(pred)\n",
        "        \n",
        "      else:\n",
        "        cv = RepeatedKFold(n_splits=10, n_repeats=3, random_state=1)\n",
        "        gs = GridSearchCV(estimator, param_grid, cv=cv)\n",
        "        gs.fit(X_train,y_train)\n",
        "        best_estimator = gs.best_estimator_\n",
        "        pred = best_estimator.predict(X_test)\n",
        "        pred = scaler_target.inverse_transform(pred)\n",
        "        estimators.append(best_estimator)\n",
        "\n",
        "      avg_cost = average_costs(y_test,pred,cu,co,multioutput=\"uniform_average\")\n",
        "      p_score = prescriptiveness_score(y_test, pred, saa_pred, cu, co, multioutput=\"uniform_average\")\n",
        "      costs.append(avg_cost)\n",
        "      score.append(p_score)\n",
        "\n",
        "    d = {'SL': [cu/(cu+co)], 'Model': [estimator_name]}  \n",
        "    for i in range(len(costs)):\n",
        "      d[products[i]+\" AC\"] = costs[i]\n",
        "    for i in range(len(costs)):\n",
        "      d[products[i]+\" SoP\"] = score[i]\n",
        "\n",
        "    average_cost = statistics.mean(costs)\n",
        "    d[\"Average Cost\"] = average_cost\n",
        "    presc_score = statistics.mean(score)\n",
        "    d[\"Score of Prescriptiveness\"] = presc_score\n",
        "    df = pd.DataFrame(data=d)\n",
        "    results_sc = pd.concat([results_sc,df])"
      ],
      "execution_count": 54,
      "outputs": [
        {
          "output_type": "stream",
          "text": [
            "DecisionTreeWeightedNewsvendor(co=5, cu=5, random_state=1)\n",
            "DecisionTreeWeightedNewsvendor(co=5, cu=5, random_state=1)\n",
            "DecisionTreeWeightedNewsvendor(co=5, cu=5, random_state=1)\n",
            "DecisionTreeWeightedNewsvendor(co=5, cu=5, random_state=1)\n",
            "DecisionTreeWeightedNewsvendor(co=5, cu=5, random_state=1)\n",
            "DecisionTreeWeightedNewsvendor(co=5, cu=5, random_state=1)\n",
            "DecisionTreeWeightedNewsvendor(co=5, cu=5, random_state=1)\n",
            "DecisionTreeWeightedNewsvendor(co=2.5, cu=7.5, random_state=1)\n",
            "DecisionTreeWeightedNewsvendor(co=2.5, cu=7.5, random_state=1)\n",
            "DecisionTreeWeightedNewsvendor(co=2.5, cu=7.5, random_state=1)\n",
            "DecisionTreeWeightedNewsvendor(co=2.5, cu=7.5, random_state=1)\n",
            "DecisionTreeWeightedNewsvendor(co=2.5, cu=7.5, random_state=1)\n",
            "DecisionTreeWeightedNewsvendor(co=2.5, cu=7.5, random_state=1)\n",
            "DecisionTreeWeightedNewsvendor(co=2.5, cu=7.5, random_state=1)\n",
            "DecisionTreeWeightedNewsvendor(co=1, cu=9, random_state=1)\n",
            "DecisionTreeWeightedNewsvendor(co=1, cu=9, random_state=1)\n",
            "DecisionTreeWeightedNewsvendor(co=1, cu=9, random_state=1)\n",
            "DecisionTreeWeightedNewsvendor(co=1, cu=9, random_state=1)\n",
            "DecisionTreeWeightedNewsvendor(co=1, cu=9, random_state=1)\n",
            "DecisionTreeWeightedNewsvendor(co=1, cu=9, random_state=1)\n",
            "DecisionTreeWeightedNewsvendor(co=1, cu=9, random_state=1)\n"
          ],
          "name": "stdout"
        }
      ]
    },
    {
      "cell_type": "code",
      "metadata": {
        "colab": {
          "base_uri": "https://localhost:8080/",
          "height": 142
        },
        "id": "M-tRuMuc4c_7",
        "outputId": "00cbfc41-186d-484d-bea8-94c89a7af51e"
      },
      "source": [
        "results_sc"
      ],
      "execution_count": 55,
      "outputs": [
        {
          "output_type": "execute_result",
          "data": {
            "text/html": [
              "<div>\n",
              "<style scoped>\n",
              "    .dataframe tbody tr th:only-of-type {\n",
              "        vertical-align: middle;\n",
              "    }\n",
              "\n",
              "    .dataframe tbody tr th {\n",
              "        vertical-align: top;\n",
              "    }\n",
              "\n",
              "    .dataframe thead th {\n",
              "        text-align: right;\n",
              "    }\n",
              "</style>\n",
              "<table border=\"1\" class=\"dataframe\">\n",
              "  <thead>\n",
              "    <tr style=\"text-align: right;\">\n",
              "      <th></th>\n",
              "      <th>SL</th>\n",
              "      <th>Model</th>\n",
              "      <th>calamari AC</th>\n",
              "      <th>fish AC</th>\n",
              "      <th>shrimp AC</th>\n",
              "      <th>chicken AC</th>\n",
              "      <th>koefte AC</th>\n",
              "      <th>lamb AC</th>\n",
              "      <th>steak AC</th>\n",
              "      <th>calamari SoP</th>\n",
              "      <th>fish SoP</th>\n",
              "      <th>shrimp SoP</th>\n",
              "      <th>chicken SoP</th>\n",
              "      <th>koefte SoP</th>\n",
              "      <th>lamb SoP</th>\n",
              "      <th>steak SoP</th>\n",
              "      <th>Average Cost</th>\n",
              "      <th>Score of Prescriptiveness</th>\n",
              "    </tr>\n",
              "  </thead>\n",
              "  <tbody>\n",
              "    <tr>\n",
              "      <th>0</th>\n",
              "      <td>0.50</td>\n",
              "      <td>DTW</td>\n",
              "      <td>8.776042</td>\n",
              "      <td>9.296875</td>\n",
              "      <td>16.302083</td>\n",
              "      <td>48.515625</td>\n",
              "      <td>37.083333</td>\n",
              "      <td>44.687500</td>\n",
              "      <td>29.114583</td>\n",
              "      <td>0.008824</td>\n",
              "      <td>-0.040816</td>\n",
              "      <td>0.073964</td>\n",
              "      <td>-0.135976</td>\n",
              "      <td>0.018608</td>\n",
              "      <td>0.059211</td>\n",
              "      <td>0.089577</td>\n",
              "      <td>27.682292</td>\n",
              "      <td>0.010484</td>\n",
              "    </tr>\n",
              "    <tr>\n",
              "      <th>0</th>\n",
              "      <td>0.75</td>\n",
              "      <td>DTW</td>\n",
              "      <td>7.500000</td>\n",
              "      <td>8.164062</td>\n",
              "      <td>14.635417</td>\n",
              "      <td>33.059896</td>\n",
              "      <td>31.692708</td>\n",
              "      <td>40.221354</td>\n",
              "      <td>23.984375</td>\n",
              "      <td>0.076923</td>\n",
              "      <td>-0.032949</td>\n",
              "      <td>0.025997</td>\n",
              "      <td>0.134628</td>\n",
              "      <td>0.013377</td>\n",
              "      <td>0.000970</td>\n",
              "      <td>0.199826</td>\n",
              "      <td>22.751116</td>\n",
              "      <td>0.059825</td>\n",
              "    </tr>\n",
              "    <tr>\n",
              "      <th>0</th>\n",
              "      <td>0.90</td>\n",
              "      <td>DTW</td>\n",
              "      <td>4.479167</td>\n",
              "      <td>4.942708</td>\n",
              "      <td>8.890625</td>\n",
              "      <td>20.239583</td>\n",
              "      <td>17.161458</td>\n",
              "      <td>21.270833</td>\n",
              "      <td>14.854167</td>\n",
              "      <td>0.134809</td>\n",
              "      <td>0.138056</td>\n",
              "      <td>-0.044676</td>\n",
              "      <td>0.180860</td>\n",
              "      <td>0.091034</td>\n",
              "      <td>0.028082</td>\n",
              "      <td>0.242698</td>\n",
              "      <td>13.119792</td>\n",
              "      <td>0.110123</td>\n",
              "    </tr>\n",
              "  </tbody>\n",
              "</table>\n",
              "</div>"
            ],
            "text/plain": [
              "     SL Model  calamari AC  ...  steak SoP  Average Cost  Score of Prescriptiveness\n",
              "0  0.50   DTW     8.776042  ...   0.089577     27.682292                   0.010484\n",
              "0  0.75   DTW     7.500000  ...   0.199826     22.751116                   0.059825\n",
              "0  0.90   DTW     4.479167  ...   0.242698     13.119792                   0.110123\n",
              "\n",
              "[3 rows x 18 columns]"
            ]
          },
          "metadata": {
            "tags": []
          },
          "execution_count": 55
        }
      ]
    },
    {
      "cell_type": "code",
      "metadata": {
        "id": "bC6D519PorrO",
        "colab": {
          "base_uri": "https://localhost:8080/"
        },
        "outputId": "8629ed92-1986-478b-d99a-09e0a6fffb6a"
      },
      "source": [
        "estimators"
      ],
      "execution_count": 56,
      "outputs": [
        {
          "output_type": "execute_result",
          "data": {
            "text/plain": [
              "[DecisionTreeWeightedNewsvendor(co=5, cu=5, max_depth=3, random_state=1),\n",
              " DecisionTreeWeightedNewsvendor(co=5, cu=5, max_depth=1, random_state=1),\n",
              " DecisionTreeWeightedNewsvendor(co=5, cu=5, max_depth=3, random_state=1),\n",
              " DecisionTreeWeightedNewsvendor(co=5, cu=5, max_depth=5, random_state=1),\n",
              " DecisionTreeWeightedNewsvendor(co=5, cu=5, max_depth=4, random_state=1),\n",
              " DecisionTreeWeightedNewsvendor(co=5, cu=5, max_depth=4, random_state=1),\n",
              " DecisionTreeWeightedNewsvendor(co=5, cu=5, max_depth=5, random_state=1),\n",
              " DecisionTreeWeightedNewsvendor(co=2.5, cu=7.5, max_depth=2, random_state=1),\n",
              " DecisionTreeWeightedNewsvendor(co=2.5, cu=7.5, max_depth=1, random_state=1),\n",
              " DecisionTreeWeightedNewsvendor(co=2.5, cu=7.5, max_depth=3, random_state=1),\n",
              " DecisionTreeWeightedNewsvendor(co=2.5, cu=7.5, max_depth=3, random_state=1),\n",
              " DecisionTreeWeightedNewsvendor(co=2.5, cu=7.5, max_depth=4, random_state=1),\n",
              " DecisionTreeWeightedNewsvendor(co=2.5, cu=7.5, max_depth=5, random_state=1),\n",
              " DecisionTreeWeightedNewsvendor(co=2.5, cu=7.5, max_depth=5, random_state=1),\n",
              " DecisionTreeWeightedNewsvendor(co=1, cu=9, max_depth=2, random_state=1),\n",
              " DecisionTreeWeightedNewsvendor(co=1, cu=9, max_depth=2, random_state=1),\n",
              " DecisionTreeWeightedNewsvendor(co=1, cu=9, max_depth=3, random_state=1),\n",
              " DecisionTreeWeightedNewsvendor(co=1, cu=9, max_depth=3, random_state=1),\n",
              " DecisionTreeWeightedNewsvendor(co=1, cu=9, max_depth=4, random_state=1),\n",
              " DecisionTreeWeightedNewsvendor(co=1, cu=9, max_depth=2, random_state=1),\n",
              " DecisionTreeWeightedNewsvendor(co=1, cu=9, max_depth=3, random_state=1)]"
            ]
          },
          "metadata": {
            "tags": []
          },
          "execution_count": 56
        }
      ]
    },
    {
      "cell_type": "code",
      "metadata": {
        "id": "CN6O_6b0OR22"
      },
      "source": [
        "results.to_excel(\"results_yaz_lag_per_product.xlsx\")"
      ],
      "execution_count": null,
      "outputs": []
    },
    {
      "cell_type": "code",
      "metadata": {
        "id": "qzlxgk1L9uH4"
      },
      "source": [
        "from google.colab import files"
      ],
      "execution_count": null,
      "outputs": []
    },
    {
      "cell_type": "code",
      "metadata": {
        "colab": {
          "base_uri": "https://localhost:8080/",
          "height": 17
        },
        "id": "3VPMwqtO9w7m",
        "outputId": "101df951-d5b6-4269-8f44-f25244729685"
      },
      "source": [
        "files.download('results_yaz_lag_per_product.xlsx') "
      ],
      "execution_count": null,
      "outputs": [
        {
          "output_type": "display_data",
          "data": {
            "application/javascript": [
              "\n",
              "    async function download(id, filename, size) {\n",
              "      if (!google.colab.kernel.accessAllowed) {\n",
              "        return;\n",
              "      }\n",
              "      const div = document.createElement('div');\n",
              "      const label = document.createElement('label');\n",
              "      label.textContent = `Downloading \"${filename}\": `;\n",
              "      div.appendChild(label);\n",
              "      const progress = document.createElement('progress');\n",
              "      progress.max = size;\n",
              "      div.appendChild(progress);\n",
              "      document.body.appendChild(div);\n",
              "\n",
              "      const buffers = [];\n",
              "      let downloaded = 0;\n",
              "\n",
              "      const channel = await google.colab.kernel.comms.open(id);\n",
              "      // Send a message to notify the kernel that we're ready.\n",
              "      channel.send({})\n",
              "\n",
              "      for await (const message of channel.messages) {\n",
              "        // Send a message to notify the kernel that we're ready.\n",
              "        channel.send({})\n",
              "        if (message.buffers) {\n",
              "          for (const buffer of message.buffers) {\n",
              "            buffers.push(buffer);\n",
              "            downloaded += buffer.byteLength;\n",
              "            progress.value = downloaded;\n",
              "          }\n",
              "        }\n",
              "      }\n",
              "      const blob = new Blob(buffers, {type: 'application/binary'});\n",
              "      const a = document.createElement('a');\n",
              "      a.href = window.URL.createObjectURL(blob);\n",
              "      a.download = filename;\n",
              "      div.appendChild(a);\n",
              "      a.click();\n",
              "      div.remove();\n",
              "    }\n",
              "  "
            ],
            "text/plain": [
              "<IPython.core.display.Javascript object>"
            ]
          },
          "metadata": {
            "tags": []
          }
        },
        {
          "output_type": "display_data",
          "data": {
            "application/javascript": [
              "download(\"download_ae830299-b99c-4176-9ab7-cbbcc698f2b4\", \"results_yaz_lag_per_product.xlsx\", 8576)"
            ],
            "text/plain": [
              "<IPython.core.display.Javascript object>"
            ]
          },
          "metadata": {
            "tags": []
          }
        }
      ]
    },
    {
      "cell_type": "markdown",
      "metadata": {
        "id": "GblbjTPTlyes"
      },
      "source": [
        "-----------------------------------------------------------------\n",
        "# Global Model (ausgegliedert)"
      ]
    },
    {
      "cell_type": "code",
      "metadata": {
        "id": "2mLldyuW80E2"
      },
      "source": [
        "estimators = []\n",
        "results = pd.DataFrame()\n",
        "for cu, co in zip([5, 7.5, 9],[5, 2.5, 1]):\n",
        "  saa_pred = SampleAverageApproximationNewsvendor(cu,co).fit(y_train).predict(y_test.shape[0])\n",
        "  for estimator_tuple in estimator_tuple_list:\n",
        "    estimator_name = estimator_tuple[0]\n",
        "    param_grid = estimator_tuple[2]\n",
        "    estimator = estimator_tuple[1]\n",
        "    estimator.set_params(cu=cu,co=co)\n",
        "    print(estimator)\n",
        "    if param_grid == None:\n",
        "      if estimator_name==\"SAA\":\n",
        "        pred = estimator.fit(y_train).predict(X_test.shape[0])\n",
        "      else:\n",
        "        pred = estimator.fit(X_train,y_train).predict(X_test)\n",
        "      \n",
        "    else:\n",
        "      gs = GridSearchCV(estimator, param_grid)\n",
        "      gs.fit(X_train,y_train)\n",
        "      best_estimator = gs.best_estimator_\n",
        "      pred = best_estimator.predict(X_test)\n",
        "      estimators.append(best_estimator)\n",
        "      \n",
        "    d = {'SL': [cu/(cu+co)], 'Model': [estimator_name]}  \n",
        "    avg_cost = average_costs(y_test,pred,cu,co, multioutput=\"raw_values\")\n",
        "    p_score = prescriptiveness_score(y_test, pred, saa_pred, cu, co, multioutput=\"raw_values\")\n",
        "    for i in range(avg_cost.size):\n",
        "      d[products[i]+\" AC\"] = avg_cost[i]\n",
        "    for i in range(avg_cost.size):\n",
        "      d[products[i]+\" SoP\"] = p_score[i]\n",
        "    avg_cost = average_costs(y_test,pred,cu,co, multioutput=\"uniform_average\")\n",
        "    d[\"Average Cost\"] = avg_cost\n",
        "    p_score = prescriptiveness_score(y_test, pred, saa_pred, cu, co, multioutput=\"uniform_average\")\n",
        "    d[\"Score of Prescriptiveness\"] = p_score\n",
        "    df = pd.DataFrame(data=d)\n",
        "    results = pd.concat([results,df])\n"
      ],
      "execution_count": null,
      "outputs": []
    },
    {
      "cell_type": "markdown",
      "metadata": {
        "id": "wT_2JIDSn_7b"
      },
      "source": [
        "-----------------------------------------\n",
        "# Bakery Dataset"
      ]
    },
    {
      "cell_type": "code",
      "metadata": {
        "id": "cSE18NAg4Zav"
      },
      "source": [
        "bakery = load_bakery(one_hot_encoding=True)\n",
        "X = bakery.data\n",
        "y = bakery.target"
      ],
      "execution_count": 57,
      "outputs": []
    },
    {
      "cell_type": "code",
      "metadata": {
        "id": "dvM2zmJQr2Vr"
      },
      "source": [
        "X_grouped = X.groupby(['product', 'store'])"
      ],
      "execution_count": 58,
      "outputs": []
    },
    {
      "cell_type": "code",
      "metadata": {
        "id": "6hGfccLJsFPk"
      },
      "source": [
        "groups = list(X_grouped.groups.keys())"
      ],
      "execution_count": 59,
      "outputs": []
    },
    {
      "cell_type": "code",
      "metadata": {
        "id": "03OSMAhBn7OW",
        "colab": {
          "base_uri": "https://localhost:8080/"
        },
        "outputId": "7cc63463-94ed-4195-8d8e-de11b05b30af"
      },
      "source": [
        "import statistics\n",
        "estimators = []\n",
        "results = pd.DataFrame()\n",
        "for cu, co in zip([5,7.5,9],[5,2.5,1]):\n",
        "#for cu, co in zip([7.5],[2.5]):\n",
        "  for  estimator_tuple in estimator_tuple_list:\n",
        "    costs = []\n",
        "    score = []\n",
        "    for group in groups:\n",
        "\n",
        "      X_temp = X_grouped.get_group(group)\n",
        "      y_temp = y.iloc[X_temp.index.values.tolist()]\n",
        "\n",
        "      X_train, X_test, y_train, y_test = train_test_split(X_temp, y_temp, train_size=0.75, shuffle=False)\n",
        "      scaler = StandardScaler()\n",
        "      scaler.fit(X_train)\n",
        "      X_train = scaler.transform(X_train)\n",
        "      X_test = scaler.transform(X_test)\n",
        "\n",
        "      #scale target variable\n",
        "      scaler_target = StandardScaler()\n",
        "      scaler_target.fit(np.array(y_train).reshape(-1, 1))\n",
        "      y_train = scaler_target.transform(np.array(y_train).reshape(-1, 1))\n",
        "\n",
        "      saa_pred = SampleAverageApproximationNewsvendor(cu,co).fit(y_train).predict(y_test.shape[0])\n",
        "      saa_pred = scaler_target.inverse_transform(saa_pred)\n",
        "      estimator_name = estimator_tuple[0]\n",
        "      param_grid = estimator_tuple[2]\n",
        "      estimator = estimator_tuple[1]\n",
        "      estimator.set_params(cu=cu,co=co)\n",
        "      print(estimator)\n",
        "\n",
        "      if param_grid == None:\n",
        "        if estimator_name==\"SAA\":\n",
        "          pred = estimator.fit(y_train).predict(X_test.shape[0])\n",
        "          pred = scaler_target.inverse_transform(pred)\n",
        "        else:\n",
        "          pred = estimator.fit(X_train,y_train).predict(X_test)\n",
        "          pred = scaler_target.inverse_transform(pred)\n",
        "        \n",
        "      else:\n",
        "        cv = RepeatedKFold(n_splits=10, n_repeats=3, random_state=1)\n",
        "        gs = GridSearchCV(estimator, param_grid, cv=cv)\n",
        "        gs.fit(X_train,y_train)\n",
        "        best_estimator = gs.best_estimator_\n",
        "        pred = best_estimator.predict(X_test)\n",
        "        pred = scaler_target.inverse_transform(pred)\n",
        "        estimators.append(best_estimator)\n",
        "\n",
        "      avg_cost = average_costs(y_test,pred,cu,co,multioutput=\"uniform_average\")\n",
        "      p_score = prescriptiveness_score(y_test, pred, saa_pred, cu, co, multioutput=\"uniform_average\")\n",
        "      costs.append(avg_cost)\n",
        "      score.append(p_score)\n",
        "\n",
        "    d = {'SL': [cu/(cu+co)], 'Model': [estimator_name]}  \n",
        "    for i in range(len(costs)):\n",
        "      d[str(groups[i])+\" AC\"] = costs[i]\n",
        "    for i in range(len(costs)):\n",
        "      d[str(groups[i])+\" SoP\"] = score[i]\n",
        "\n",
        "    average_cost = statistics.mean(costs)\n",
        "    d[\"Average Cost\"] = average_cost\n",
        "    presc_score = statistics.mean(score)\n",
        "    d[\"Score of Prescriptiveness\"] = presc_score\n",
        "    df = pd.DataFrame(data=d)\n",
        "    results = pd.concat([results,df])"
      ],
      "execution_count": null,
      "outputs": [
        {
          "output_type": "stream",
          "text": [
            "DecisionTreeWeightedNewsvendor(co=5, cu=5, random_state=1)\n",
            "DecisionTreeWeightedNewsvendor(co=5, cu=5, random_state=1)\n",
            "DecisionTreeWeightedNewsvendor(co=5, cu=5, random_state=1)\n",
            "DecisionTreeWeightedNewsvendor(co=5, cu=5, random_state=1)\n",
            "DecisionTreeWeightedNewsvendor(co=5, cu=5, random_state=1)\n",
            "DecisionTreeWeightedNewsvendor(co=5, cu=5, random_state=1)\n",
            "DecisionTreeWeightedNewsvendor(co=5, cu=5, random_state=1)\n",
            "DecisionTreeWeightedNewsvendor(co=5, cu=5, random_state=1)\n",
            "DecisionTreeWeightedNewsvendor(co=5, cu=5, random_state=1)\n",
            "DecisionTreeWeightedNewsvendor(co=5, cu=5, random_state=1)\n",
            "DecisionTreeWeightedNewsvendor(co=5, cu=5, random_state=1)\n",
            "DecisionTreeWeightedNewsvendor(co=5, cu=5, random_state=1)\n",
            "DecisionTreeWeightedNewsvendor(co=5, cu=5, random_state=1)\n",
            "DecisionTreeWeightedNewsvendor(co=5, cu=5, random_state=1)\n",
            "DecisionTreeWeightedNewsvendor(co=5, cu=5, random_state=1)\n",
            "DecisionTreeWeightedNewsvendor(co=5, cu=5, random_state=1)\n",
            "DecisionTreeWeightedNewsvendor(co=5, cu=5, random_state=1)\n",
            "DecisionTreeWeightedNewsvendor(co=5, cu=5, random_state=1)\n",
            "DecisionTreeWeightedNewsvendor(co=5, cu=5, random_state=1)\n",
            "DecisionTreeWeightedNewsvendor(co=5, cu=5, random_state=1)\n",
            "DecisionTreeWeightedNewsvendor(co=5, cu=5, random_state=1)\n",
            "DecisionTreeWeightedNewsvendor(co=5, cu=5, random_state=1)\n",
            "DecisionTreeWeightedNewsvendor(co=5, cu=5, random_state=1)\n",
            "DecisionTreeWeightedNewsvendor(co=5, cu=5, random_state=1)\n",
            "DecisionTreeWeightedNewsvendor(co=5, cu=5, random_state=1)\n",
            "DecisionTreeWeightedNewsvendor(co=5, cu=5, random_state=1)\n",
            "DecisionTreeWeightedNewsvendor(co=5, cu=5, random_state=1)\n",
            "DecisionTreeWeightedNewsvendor(co=5, cu=5, random_state=1)\n",
            "DecisionTreeWeightedNewsvendor(co=5, cu=5, random_state=1)\n",
            "DecisionTreeWeightedNewsvendor(co=5, cu=5, random_state=1)\n",
            "DecisionTreeWeightedNewsvendor(co=5, cu=5, random_state=1)\n",
            "DecisionTreeWeightedNewsvendor(co=5, cu=5, random_state=1)\n",
            "DecisionTreeWeightedNewsvendor(co=5, cu=5, random_state=1)\n",
            "DecisionTreeWeightedNewsvendor(co=5, cu=5, random_state=1)\n",
            "DecisionTreeWeightedNewsvendor(co=5, cu=5, random_state=1)\n",
            "DecisionTreeWeightedNewsvendor(co=5, cu=5, random_state=1)\n",
            "DecisionTreeWeightedNewsvendor(co=5, cu=5, random_state=1)\n",
            "DecisionTreeWeightedNewsvendor(co=5, cu=5, random_state=1)\n",
            "DecisionTreeWeightedNewsvendor(co=5, cu=5, random_state=1)\n",
            "DecisionTreeWeightedNewsvendor(co=5, cu=5, random_state=1)\n",
            "DecisionTreeWeightedNewsvendor(co=5, cu=5, random_state=1)\n",
            "DecisionTreeWeightedNewsvendor(co=5, cu=5, random_state=1)\n",
            "DecisionTreeWeightedNewsvendor(co=5, cu=5, random_state=1)\n",
            "DecisionTreeWeightedNewsvendor(co=5, cu=5, random_state=1)\n",
            "DecisionTreeWeightedNewsvendor(co=5, cu=5, random_state=1)\n",
            "DecisionTreeWeightedNewsvendor(co=5, cu=5, random_state=1)\n",
            "DecisionTreeWeightedNewsvendor(co=5, cu=5, random_state=1)\n",
            "DecisionTreeWeightedNewsvendor(co=5, cu=5, random_state=1)\n",
            "DecisionTreeWeightedNewsvendor(co=5, cu=5, random_state=1)\n",
            "DecisionTreeWeightedNewsvendor(co=5, cu=5, random_state=1)\n",
            "DecisionTreeWeightedNewsvendor(co=5, cu=5, random_state=1)\n",
            "DecisionTreeWeightedNewsvendor(co=5, cu=5, random_state=1)\n",
            "DecisionTreeWeightedNewsvendor(co=5, cu=5, random_state=1)\n",
            "DecisionTreeWeightedNewsvendor(co=5, cu=5, random_state=1)\n",
            "DecisionTreeWeightedNewsvendor(co=5, cu=5, random_state=1)\n",
            "DecisionTreeWeightedNewsvendor(co=5, cu=5, random_state=1)\n",
            "DecisionTreeWeightedNewsvendor(co=5, cu=5, random_state=1)\n",
            "DecisionTreeWeightedNewsvendor(co=5, cu=5, random_state=1)\n",
            "DecisionTreeWeightedNewsvendor(co=5, cu=5, random_state=1)\n",
            "DecisionTreeWeightedNewsvendor(co=5, cu=5, random_state=1)\n",
            "DecisionTreeWeightedNewsvendor(co=5, cu=5, random_state=1)\n",
            "DecisionTreeWeightedNewsvendor(co=5, cu=5, random_state=1)\n",
            "DecisionTreeWeightedNewsvendor(co=5, cu=5, random_state=1)\n",
            "DecisionTreeWeightedNewsvendor(co=5, cu=5, random_state=1)\n"
          ],
          "name": "stdout"
        }
      ]
    },
    {
      "cell_type": "code",
      "metadata": {
        "id": "25kPFT4YFyqd"
      },
      "source": [
        "results"
      ],
      "execution_count": null,
      "outputs": []
    },
    {
      "cell_type": "code",
      "metadata": {
        "id": "r0WYU7FVM6yw"
      },
      "source": [
        "estimators"
      ],
      "execution_count": null,
      "outputs": []
    }
  ]
}